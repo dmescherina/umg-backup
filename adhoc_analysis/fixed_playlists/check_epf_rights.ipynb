{
 "cells": [
  {
   "cell_type": "code",
   "execution_count": 1,
   "metadata": {},
   "outputs": [],
   "source": [
    "import pandas as pd\n",
    "from pandas.io import gbq"
   ]
  },
  {
   "cell_type": "code",
   "execution_count": 2,
   "metadata": {},
   "outputs": [],
   "source": [
    "project_id = 'umg-comm-tech-dev'\n",
    "dialect = 'standard'"
   ]
  },
  {
   "cell_type": "code",
   "execution_count": 3,
   "metadata": {},
   "outputs": [
    {
     "data": {
      "text/html": [
       "<div>\n",
       "<style scoped>\n",
       "    .dataframe tbody tr th:only-of-type {\n",
       "        vertical-align: middle;\n",
       "    }\n",
       "\n",
       "    .dataframe tbody tr th {\n",
       "        vertical-align: top;\n",
       "    }\n",
       "\n",
       "    .dataframe thead th {\n",
       "        text-align: right;\n",
       "    }\n",
       "</style>\n",
       "<table border=\"1\" class=\"dataframe\">\n",
       "  <thead>\n",
       "    <tr style=\"text-align: right;\">\n",
       "      <th></th>\n",
       "      <th>upc</th>\n",
       "      <th>release_title</th>\n",
       "      <th>track_artist</th>\n",
       "      <th>track_title</th>\n",
       "      <th>artist_id</th>\n",
       "      <th>artist_name</th>\n",
       "      <th>artist_display_name</th>\n",
       "      <th>is_actual_artist</th>\n",
       "      <th>artist_type_id</th>\n",
       "      <th>song_id</th>\n",
       "      <th>...</th>\n",
       "      <th>track_length</th>\n",
       "      <th>copyright</th>\n",
       "      <th>p_line</th>\n",
       "      <th>label_studio</th>\n",
       "      <th>content_provider_name</th>\n",
       "      <th>major_label</th>\n",
       "      <th>isrc_owning_content_provider</th>\n",
       "      <th>isrc_owning_major_label</th>\n",
       "      <th>genre_name</th>\n",
       "      <th>parent_genre_name</th>\n",
       "    </tr>\n",
       "  </thead>\n",
       "  <tbody>\n",
       "    <tr>\n",
       "      <th>0</th>\n",
       "      <td>00600406837868</td>\n",
       "      <td>Christmas Greatest Hits</td>\n",
       "      <td>Dean Martin</td>\n",
       "      <td>Baby, It's Cold Outside</td>\n",
       "      <td>NaN</td>\n",
       "      <td>None</td>\n",
       "      <td>None</td>\n",
       "      <td>None</td>\n",
       "      <td>NaN</td>\n",
       "      <td>NaN</td>\n",
       "      <td>...</td>\n",
       "      <td>NaN</td>\n",
       "      <td>None</td>\n",
       "      <td>None</td>\n",
       "      <td>None</td>\n",
       "      <td>None</td>\n",
       "      <td>None</td>\n",
       "      <td>None</td>\n",
       "      <td>None</td>\n",
       "      <td>None</td>\n",
       "      <td>None</td>\n",
       "    </tr>\n",
       "    <tr>\n",
       "      <th>1</th>\n",
       "      <td>00600406841261</td>\n",
       "      <td>80s Alternative</td>\n",
       "      <td>The Go-Go's</td>\n",
       "      <td>Our Lips Are Sealed - Single Version</td>\n",
       "      <td>NaN</td>\n",
       "      <td>None</td>\n",
       "      <td>None</td>\n",
       "      <td>None</td>\n",
       "      <td>NaN</td>\n",
       "      <td>NaN</td>\n",
       "      <td>...</td>\n",
       "      <td>NaN</td>\n",
       "      <td>None</td>\n",
       "      <td>None</td>\n",
       "      <td>None</td>\n",
       "      <td>None</td>\n",
       "      <td>None</td>\n",
       "      <td>None</td>\n",
       "      <td>None</td>\n",
       "      <td>None</td>\n",
       "      <td>None</td>\n",
       "    </tr>\n",
       "    <tr>\n",
       "      <th>2</th>\n",
       "      <td>00602557828498</td>\n",
       "      <td>\"70s Mixtape\"</td>\n",
       "      <td>Rod Stewart</td>\n",
       "      <td>Maggie May</td>\n",
       "      <td>NaN</td>\n",
       "      <td>None</td>\n",
       "      <td>None</td>\n",
       "      <td>None</td>\n",
       "      <td>NaN</td>\n",
       "      <td>NaN</td>\n",
       "      <td>...</td>\n",
       "      <td>NaN</td>\n",
       "      <td>None</td>\n",
       "      <td>None</td>\n",
       "      <td>None</td>\n",
       "      <td>None</td>\n",
       "      <td>None</td>\n",
       "      <td>None</td>\n",
       "      <td>None</td>\n",
       "      <td>None</td>\n",
       "      <td>None</td>\n",
       "    </tr>\n",
       "    <tr>\n",
       "      <th>3</th>\n",
       "      <td>00600406843883</td>\n",
       "      <td>Americana Country Mix</td>\n",
       "      <td>Alejandro Escovedo</td>\n",
       "      <td>Always A Friend</td>\n",
       "      <td>NaN</td>\n",
       "      <td>None</td>\n",
       "      <td>None</td>\n",
       "      <td>None</td>\n",
       "      <td>NaN</td>\n",
       "      <td>NaN</td>\n",
       "      <td>...</td>\n",
       "      <td>NaN</td>\n",
       "      <td>None</td>\n",
       "      <td>None</td>\n",
       "      <td>None</td>\n",
       "      <td>None</td>\n",
       "      <td>None</td>\n",
       "      <td>None</td>\n",
       "      <td>None</td>\n",
       "      <td>None</td>\n",
       "      <td>None</td>\n",
       "    </tr>\n",
       "    <tr>\n",
       "      <th>4</th>\n",
       "      <td>00600406838810</td>\n",
       "      <td>Jazz Love Songs</td>\n",
       "      <td>Peggy Lee</td>\n",
       "      <td>I Love Being Here With You</td>\n",
       "      <td>NaN</td>\n",
       "      <td>None</td>\n",
       "      <td>None</td>\n",
       "      <td>None</td>\n",
       "      <td>NaN</td>\n",
       "      <td>NaN</td>\n",
       "      <td>...</td>\n",
       "      <td>NaN</td>\n",
       "      <td>None</td>\n",
       "      <td>None</td>\n",
       "      <td>None</td>\n",
       "      <td>None</td>\n",
       "      <td>None</td>\n",
       "      <td>None</td>\n",
       "      <td>None</td>\n",
       "      <td>None</td>\n",
       "      <td>None</td>\n",
       "    </tr>\n",
       "  </tbody>\n",
       "</table>\n",
       "<p>5 rows × 25 columns</p>\n",
       "</div>"
      ],
      "text/plain": [
       "              upc            release_title        track_artist  \\\n",
       "0  00600406837868  Christmas Greatest Hits         Dean Martin   \n",
       "1  00600406841261          80s Alternative         The Go-Go's   \n",
       "2  00602557828498            \"70s Mixtape\"         Rod Stewart   \n",
       "3  00600406843883    Americana Country Mix  Alejandro Escovedo   \n",
       "4  00600406838810          Jazz Love Songs           Peggy Lee   \n",
       "\n",
       "                            track_title  artist_id artist_name  \\\n",
       "0               Baby, It's Cold Outside        NaN        None   \n",
       "1  Our Lips Are Sealed - Single Version        NaN        None   \n",
       "2                            Maggie May        NaN        None   \n",
       "3                       Always A Friend        NaN        None   \n",
       "4            I Love Being Here With You        NaN        None   \n",
       "\n",
       "  artist_display_name is_actual_artist  artist_type_id  song_id  ...  \\\n",
       "0                None             None             NaN      NaN  ...   \n",
       "1                None             None             NaN      NaN  ...   \n",
       "2                None             None             NaN      NaN  ...   \n",
       "3                None             None             NaN      NaN  ...   \n",
       "4                None             None             NaN      NaN  ...   \n",
       "\n",
       "  track_length copyright p_line label_studio content_provider_name  \\\n",
       "0          NaN      None   None         None                  None   \n",
       "1          NaN      None   None         None                  None   \n",
       "2          NaN      None   None         None                  None   \n",
       "3          NaN      None   None         None                  None   \n",
       "4          NaN      None   None         None                  None   \n",
       "\n",
       "   major_label isrc_owning_content_provider isrc_owning_major_label  \\\n",
       "0         None                         None                    None   \n",
       "1         None                         None                    None   \n",
       "2         None                         None                    None   \n",
       "3         None                         None                    None   \n",
       "4         None                         None                    None   \n",
       "\n",
       "  genre_name parent_genre_name  \n",
       "0       None              None  \n",
       "1       None              None  \n",
       "2       None              None  \n",
       "3       None              None  \n",
       "4       None              None  \n",
       "\n",
       "[5 rows x 25 columns]"
      ]
     },
     "execution_count": 3,
     "metadata": {},
     "output_type": "execute_result"
    }
   ],
   "source": [
    "get_check_data = \"\"\"\n",
    "SELECT * FROM `umg-comm-tech-dev.fraud_detection.fp_check`\n",
    "\"\"\"\n",
    "\n",
    "df = gbq.read_gbq(get_check_data, project_id=project_id, dialect=dialect)\n",
    "df.head()"
   ]
  },
  {
   "cell_type": "code",
   "execution_count": 4,
   "metadata": {},
   "outputs": [
    {
     "data": {
      "text/plain": [
       "(470502, 25)"
      ]
     },
     "execution_count": 4,
     "metadata": {},
     "output_type": "execute_result"
    }
   ],
   "source": [
    "df.shape"
   ]
  },
  {
   "cell_type": "code",
   "execution_count": 5,
   "metadata": {},
   "outputs": [
    {
     "data": {
      "text/plain": [
       "(470403, 25)"
      ]
     },
     "execution_count": 5,
     "metadata": {},
     "output_type": "execute_result"
    }
   ],
   "source": [
    "df[df.isrc.isnull()==False].shape"
   ]
  },
  {
   "cell_type": "code",
   "execution_count": 6,
   "metadata": {},
   "outputs": [],
   "source": [
    "df_nonull = df[df.isrc.isnull()==False]"
   ]
  },
  {
   "cell_type": "code",
   "execution_count": 7,
   "metadata": {},
   "outputs": [
    {
     "data": {
      "text/plain": [
       "UMG       466081\n",
       "Other       2551\n",
       "Warner       644\n",
       "Sony         596\n",
       "Name: major_label, dtype: int64"
      ]
     },
     "execution_count": 7,
     "metadata": {},
     "output_type": "execute_result"
    }
   ],
   "source": [
    "df_nonull.major_label.value_counts()"
   ]
  },
  {
   "cell_type": "code",
   "execution_count": 9,
   "metadata": {},
   "outputs": [
    {
     "data": {
      "text/plain": [
       "Warner                                       644\n",
       "SonyBMG                                      596\n",
       "X5                                           577\n",
       "Liberation                                   264\n",
       "AWALUK                                       227\n",
       "RebeatMusicVertiebs                          199\n",
       "FerrantePlanetRecords                         92\n",
       "hostess                                       88\n",
       "nowthatswhaticallmusicllp                     82\n",
       "Isolation                                     76\n",
       "FutureClassicPtyLtd                           75\n",
       "MinistryofSoundAustralia                      72\n",
       "PlayItAgainSam                                68\n",
       "BelieveSAS                                    62\n",
       "JoziMusicCCtaJustMusic                        57\n",
       "Armada                                        50\n",
       "Orchard                                       48\n",
       "IndependentDistributionOnLine                 46\n",
       "UnionSquareMusicLimited                       36\n",
       "Zebralution                                   31\n",
       "e-MuzykaSA                                    28\n",
       "onepeace                                      22\n",
       "IbizaMusicClothesSL                           22\n",
       "BMGRightsManagementUKLtd                      21\n",
       "TF1Entreprises                                20\n",
       "VareseSarabande                               19\n",
       "Kontor                                        17\n",
       "DigitalRightsAgency                           15\n",
       "WagramMusic                                   14\n",
       "FearlessRecords                               13\n",
       "                                            ... \n",
       "K7                                             6\n",
       "MGM                                            6\n",
       "LazyRichMusicLimited                           5\n",
       "EagleRockEntertainmentLtd                      5\n",
       "IODA                                           5\n",
       "StemDisintermediaInc10062613873                5\n",
       "AudioBee                                       5\n",
       "IDLA                                           5\n",
       "RandC                                          4\n",
       "SubPop                                         4\n",
       "BackLotMusic                                   4\n",
       "AvexJA                                         4\n",
       "Rounder                                        4\n",
       "demonmusicgroup                                4\n",
       "AFRICORI                                       4\n",
       "Proper                                         4\n",
       "PRA                                            4\n",
       "BecauseMusic                                   3\n",
       "DipiuSrl                                       3\n",
       "GoldenDynamicEnterprisesLimited1983413270      3\n",
       "Phonofile                                      3\n",
       "ATORecords                                     2\n",
       "RazorAndTie                                    2\n",
       "anotherventuredbaseed                          2\n",
       "GrooveAttack                                   2\n",
       "SCDistribution                                 2\n",
       "Telarc                                         2\n",
       "FluxusInc83162885841                           1\n",
       "RepublicOfMusic                                1\n",
       "BOACOR                                         1\n",
       "Name: content_provider_name, Length: 71, dtype: int64"
      ]
     },
     "execution_count": 9,
     "metadata": {},
     "output_type": "execute_result"
    }
   ],
   "source": [
    "df_nonull[df_nonull.major_label!='UMG'].content_provider_name.value_counts()"
   ]
  },
  {
   "cell_type": "code",
   "execution_count": 10,
   "metadata": {},
   "outputs": [],
   "source": [
    "df_non_umg = df_nonull[df_nonull.major_label!='UMG']"
   ]
  },
  {
   "cell_type": "code",
   "execution_count": 11,
   "metadata": {},
   "outputs": [],
   "source": [
    "df_non_umg.to_clipboard()"
   ]
  },
  {
   "cell_type": "code",
   "execution_count": 12,
   "metadata": {},
   "outputs": [
    {
     "data": {
      "text/plain": [
       "373"
      ]
     },
     "execution_count": 12,
     "metadata": {},
     "output_type": "execute_result"
    }
   ],
   "source": [
    "len(df_non_umg.isrc.unique())"
   ]
  },
  {
   "cell_type": "code",
   "execution_count": 13,
   "metadata": {},
   "outputs": [
    {
     "data": {
      "text/plain": [
       "277"
      ]
     },
     "execution_count": 13,
     "metadata": {},
     "output_type": "execute_result"
    }
   ],
   "source": [
    "len(df_non_umg.upc.unique())"
   ]
  },
  {
   "cell_type": "code",
   "execution_count": null,
   "metadata": {},
   "outputs": [],
   "source": []
  }
 ],
 "metadata": {
  "kernelspec": {
   "display_name": "Python 3",
   "language": "python",
   "name": "python3"
  },
  "language_info": {
   "codemirror_mode": {
    "name": "ipython",
    "version": 3
   },
   "file_extension": ".py",
   "mimetype": "text/x-python",
   "name": "python",
   "nbconvert_exporter": "python",
   "pygments_lexer": "ipython3",
   "version": "3.7.3"
  }
 },
 "nbformat": 4,
 "nbformat_minor": 2
}
