{
 "cells": [
  {
   "cell_type": "code",
   "execution_count": 1,
   "metadata": {},
   "outputs": [],
   "source": [
    "import numpy as np\n",
    "import pandas as pd\n",
    "\n",
    "from pandas.io import gbq"
   ]
  },
  {
   "cell_type": "code",
   "execution_count": 5,
   "metadata": {},
   "outputs": [],
   "source": [
    "import spotipy\n",
    "import spotipy.util as util\n",
    "spotify = spotipy.Spotify()"
   ]
  },
  {
   "cell_type": "code",
   "execution_count": 6,
   "metadata": {},
   "outputs": [
    {
     "name": "stdout",
     "output_type": "stream",
     "text": [
      "\n",
      "\n",
      "            User authentication requires interaction with your\n",
      "            web browser. Once you enter your credentials and\n",
      "            give authorization, you will be redirected to\n",
      "            a url.  Paste that url you were directed to to\n",
      "            complete the authorization.\n",
      "\n",
      "        \n",
      "Opened https://accounts.spotify.com/authorize?client_id=a920ef611b2a499987fa4b7ae0304e43&response_type=code&redirect_uri=http%3A%2F%2Fpitched-stage.umusic.net%2Fspotify-channel.html&scope=playlist-modify-public in your browser\n",
      "\n",
      "\n",
      "Enter the URL you were redirected to: https://pitched-stage.umusic.net/spotify-channel.html?code=AQDISQW0NiaN1nrqb-SWjNUMOVEDV4qquCLWXKk57GI5Wuz6eJd-bE18-NBEd6sGcbZc7LPfB_DiL_YxiorNGEIfVcvrrKbcpK-cAcdYeHatLI7pecWtpBm_GlWOPeolBcinuhZ9URHcpVQzX1gJ5EWPVoaTm31vdC6QxcMDlyvRyFbCts39jXGCJEC_--h697B5wYtdLqmuXKQH_QYd5bXFcIOu8y3G3lXgbiS6QdKRxtlxOm3CFhcQF4UYj4XcSpqNLA\n",
      "\n",
      "\n"
     ]
    },
    {
     "data": {
      "text/plain": [
       "'BQDRlzkgAN5Hs634T9H2VP_yTMjsH4y_V3TECHzwlVZ1WD0vAH6THqMe-CptyPlXIdfoAUZqQF-apfEzkJheN7uHjiOEIeeMeDmuljRK7ITGO60RNKfB1aVlF0JDHwd2UrL6S9bC8dxZPEZwTRsg7mux8f8_A9PqvLAbnHBUJFt2dw8oV6X-rw'"
      ]
     },
     "execution_count": 6,
     "metadata": {},
     "output_type": "execute_result"
    }
   ],
   "source": [
    "util.prompt_for_user_token(\"pitched@umusic.com\",\"playlist-modify-public\",client_id='a920ef611b2a499987fa4b7ae0304e43',\n",
    "                           client_secret='9f19deb2a17041d6b63528f39bc07a2c',\n",
    "                           redirect_uri='http://pitched-stage.umusic.net/spotify-channel.html')\n"
   ]
  },
  {
   "cell_type": "code",
   "execution_count": 9,
   "metadata": {},
   "outputs": [],
   "source": [
    "token = util.prompt_for_user_token(\"pitched@umusic.com\",\"playlist-modify-public\",client_id='a920ef611b2a499987fa4b7ae0304e43',\n",
    "                           client_secret='9f19deb2a17041d6b63528f39bc07a2c',\n",
    "                           redirect_uri='http://pitched-stage.umusic.net/spotify-channel.html')"
   ]
  },
  {
   "cell_type": "code",
   "execution_count": 11,
   "metadata": {},
   "outputs": [
    {
     "name": "stdout",
     "output_type": "stream",
     "text": [
      "{'albums': {'href': 'https://api.spotify.com/v1/search?query=upc%3A00600406845511&type=album&market=GB&offset=0&limit=10', 'items': [{'album_type': 'album', 'artists': [{'external_urls': {'spotify': 'https://open.spotify.com/artist/0LyfQWJT6nXafLPZqxe9Of'}, 'href': 'https://api.spotify.com/v1/artists/0LyfQWJT6nXafLPZqxe9Of', 'id': '0LyfQWJT6nXafLPZqxe9Of', 'name': 'Various Artists', 'type': 'artist', 'uri': 'spotify:artist:0LyfQWJT6nXafLPZqxe9Of'}], 'available_markets': ['AR', 'AT', 'AU', 'BE', 'BG', 'BO', 'BR', 'CA', 'CH', 'CL', 'CO', 'CR', 'CZ', 'DE', 'DK', 'EC', 'ES', 'FI', 'FR', 'GB', 'GR', 'GT', 'HK', 'HN', 'HU', 'ID', 'IE', 'IN', 'IT', 'JP', 'MX', 'MY', 'NI', 'NL', 'NO', 'NZ', 'PA', 'PE', 'PH', 'PL', 'PT', 'PY', 'RO', 'SE', 'SG', 'SK', 'SV', 'TH', 'TR', 'TW', 'US', 'UY', 'ZA'], 'external_urls': {'spotify': 'https://open.spotify.com/album/0LcHuJ7a3BvyP8dUeopOgg'}, 'href': 'https://api.spotify.com/v1/albums/0LcHuJ7a3BvyP8dUeopOgg', 'id': '0LcHuJ7a3BvyP8dUeopOgg', 'images': [{'height': 640, 'url': 'https://i.scdn.co/image/81b713e6db8d4886ff77a60e76f6adaf4f29422b', 'width': 640}, {'height': 300, 'url': 'https://i.scdn.co/image/bb64baee8d7b822237b4f35ffa064dabfd8bc4eb', 'width': 300}, {'height': 64, 'url': 'https://i.scdn.co/image/e97286c3a802ca1b8918dc1dcbcf8e0dd96e69dd', 'width': 64}], 'name': 'Puras Para Mover El Bote (Norteñas)', 'release_date': '2019-07-19', 'release_date_precision': 'day', 'total_tracks': 34, 'type': 'album', 'uri': 'spotify:album:0LcHuJ7a3BvyP8dUeopOgg'}], 'limit': 10, 'next': None, 'offset': 0, 'previous': None, 'total': 1}}\n"
     ]
    }
   ],
   "source": [
    "sp = spotipy.Spotify(auth=token)\n",
    "results = sp.search(q='upc:00600406845511', type='album')\n",
    "print(results)"
   ]
  },
  {
   "cell_type": "code",
   "execution_count": 18,
   "metadata": {},
   "outputs": [
    {
     "data": {
      "text/plain": [
       "'album'"
      ]
     },
     "execution_count": 18,
     "metadata": {},
     "output_type": "execute_result"
    }
   ],
   "source": [
    "results['albums']['items'][0]['album_type']"
   ]
  },
  {
   "cell_type": "code",
   "execution_count": 19,
   "metadata": {},
   "outputs": [],
   "source": [
    "get_upcs = \"\"\"\n",
    "SELECT\n",
    "  pl.upc,\n",
    "  playlist_owner,\n",
    "  pl.release_date,\n",
    "  release_title,\n",
    "  status,\n",
    "  take_down_date,\n",
    "  a.album_type\n",
    "FROM\n",
    "  `umg-comm-tech-dev.fixed_playlists_data.playlists_list` pl\n",
    "LEFT JOIN\n",
    "  `umg-data-science.spotify_metadata.albums` a\n",
    "USING\n",
    "  (upc)\n",
    "WHERE\n",
    "  a.album_type IS NULL\n",
    "\"\"\""
   ]
  },
  {
   "cell_type": "code",
   "execution_count": 20,
   "metadata": {},
   "outputs": [],
   "source": [
    "df = gbq.read_gbq(get_upcs, project_id='umg-comm-tech-dev', dialect='standard')"
   ]
  },
  {
   "cell_type": "code",
   "execution_count": 21,
   "metadata": {},
   "outputs": [
    {
     "data": {
      "text/html": [
       "<div>\n",
       "<style scoped>\n",
       "    .dataframe tbody tr th:only-of-type {\n",
       "        vertical-align: middle;\n",
       "    }\n",
       "\n",
       "    .dataframe tbody tr th {\n",
       "        vertical-align: top;\n",
       "    }\n",
       "\n",
       "    .dataframe thead th {\n",
       "        text-align: right;\n",
       "    }\n",
       "</style>\n",
       "<table border=\"1\" class=\"dataframe\">\n",
       "  <thead>\n",
       "    <tr style=\"text-align: right;\">\n",
       "      <th></th>\n",
       "      <th>upc</th>\n",
       "      <th>playlist_owner</th>\n",
       "      <th>release_date</th>\n",
       "      <th>release_title</th>\n",
       "      <th>status</th>\n",
       "      <th>take_down_date</th>\n",
       "      <th>album_type</th>\n",
       "    </tr>\n",
       "  </thead>\n",
       "  <tbody>\n",
       "    <tr>\n",
       "      <th>0</th>\n",
       "      <td>0000602567789178¬†</td>\n",
       "      <td>None</td>\n",
       "      <td>2018-06-08 00:00:00+00:00</td>\n",
       "      <td>Cottage Music Campfire Jams'</td>\n",
       "      <td>None</td>\n",
       "      <td>NaT</td>\n",
       "      <td>None</td>\n",
       "    </tr>\n",
       "    <tr>\n",
       "      <th>1</th>\n",
       "      <td>00600406840400</td>\n",
       "      <td>Jamie Ells</td>\n",
       "      <td>2019-04-19 00:00:00+00:00</td>\n",
       "      <td>Jazz Driving Soundtrack</td>\n",
       "      <td>APPROVED</td>\n",
       "      <td>NaT</td>\n",
       "      <td>None</td>\n",
       "    </tr>\n",
       "    <tr>\n",
       "      <th>2</th>\n",
       "      <td>00600406844743</td>\n",
       "      <td>Savvaki Dracou</td>\n",
       "      <td>2019-07-05 00:00:00+00:00</td>\n",
       "      <td>Reggaeton Vibes</td>\n",
       "      <td>DELIVERED</td>\n",
       "      <td>NaT</td>\n",
       "      <td>None</td>\n",
       "    </tr>\n",
       "    <tr>\n",
       "      <th>3</th>\n",
       "      <td>00600406843364</td>\n",
       "      <td>Eve Chadbourne</td>\n",
       "      <td>2019-06-21 00:00:00+00:00</td>\n",
       "      <td>Classical Pop</td>\n",
       "      <td>APPROVED</td>\n",
       "      <td>NaT</td>\n",
       "      <td>None</td>\n",
       "    </tr>\n",
       "    <tr>\n",
       "      <th>4</th>\n",
       "      <td>00600406845146</td>\n",
       "      <td>Jamie Ells</td>\n",
       "      <td>2019-07-12 00:00:00+00:00</td>\n",
       "      <td>Rock Hits</td>\n",
       "      <td>APPROVED</td>\n",
       "      <td>NaT</td>\n",
       "      <td>None</td>\n",
       "    </tr>\n",
       "  </tbody>\n",
       "</table>\n",
       "</div>"
      ],
      "text/plain": [
       "                  upc  playlist_owner              release_date  \\\n",
       "0  0000602567789178¬†            None 2018-06-08 00:00:00+00:00   \n",
       "1      00600406840400      Jamie Ells 2019-04-19 00:00:00+00:00   \n",
       "2      00600406844743  Savvaki Dracou 2019-07-05 00:00:00+00:00   \n",
       "3      00600406843364  Eve Chadbourne 2019-06-21 00:00:00+00:00   \n",
       "4      00600406845146      Jamie Ells 2019-07-12 00:00:00+00:00   \n",
       "\n",
       "                  release_title     status take_down_date album_type  \n",
       "0  Cottage Music Campfire Jams'       None            NaT       None  \n",
       "1       Jazz Driving Soundtrack   APPROVED            NaT       None  \n",
       "2               Reggaeton Vibes  DELIVERED            NaT       None  \n",
       "3                 Classical Pop   APPROVED            NaT       None  \n",
       "4                     Rock Hits   APPROVED            NaT       None  "
      ]
     },
     "execution_count": 21,
     "metadata": {},
     "output_type": "execute_result"
    }
   ],
   "source": [
    "df.head()"
   ]
  },
  {
   "cell_type": "code",
   "execution_count": 22,
   "metadata": {},
   "outputs": [],
   "source": [
    "upcs = []\n",
    "types = []\n",
    "\n",
    "for upc in df.upc:\n",
    "    upcs.append(upc)\n",
    "    try:\n",
    "        results = sp.search(q='upc:'+upc, type='album')\n",
    "        types.append(results['albums']['items'][0]['album_type'])\n",
    "    except:\n",
    "        types.append(np.nan)"
   ]
  },
  {
   "cell_type": "code",
   "execution_count": 23,
   "metadata": {},
   "outputs": [],
   "source": [
    "df_types = pd.DataFrame(columns = ['upc','album_type'])\n",
    "df_types['upc'] = upcs\n",
    "df_types['album_type']=types"
   ]
  },
  {
   "cell_type": "code",
   "execution_count": 24,
   "metadata": {},
   "outputs": [
    {
     "data": {
      "text/html": [
       "<div>\n",
       "<style scoped>\n",
       "    .dataframe tbody tr th:only-of-type {\n",
       "        vertical-align: middle;\n",
       "    }\n",
       "\n",
       "    .dataframe tbody tr th {\n",
       "        vertical-align: top;\n",
       "    }\n",
       "\n",
       "    .dataframe thead th {\n",
       "        text-align: right;\n",
       "    }\n",
       "</style>\n",
       "<table border=\"1\" class=\"dataframe\">\n",
       "  <thead>\n",
       "    <tr style=\"text-align: right;\">\n",
       "      <th></th>\n",
       "      <th>upc</th>\n",
       "      <th>playlist_owner</th>\n",
       "      <th>release_date</th>\n",
       "      <th>release_title</th>\n",
       "      <th>status</th>\n",
       "      <th>take_down_date</th>\n",
       "      <th>album_type_x</th>\n",
       "      <th>album_type_y</th>\n",
       "    </tr>\n",
       "  </thead>\n",
       "  <tbody>\n",
       "    <tr>\n",
       "      <th>0</th>\n",
       "      <td>0000602567789178¬†</td>\n",
       "      <td>None</td>\n",
       "      <td>2018-06-08 00:00:00+00:00</td>\n",
       "      <td>Cottage Music Campfire Jams'</td>\n",
       "      <td>None</td>\n",
       "      <td>NaT</td>\n",
       "      <td>None</td>\n",
       "      <td>NaN</td>\n",
       "    </tr>\n",
       "    <tr>\n",
       "      <th>1</th>\n",
       "      <td>00600406840400</td>\n",
       "      <td>Jamie Ells</td>\n",
       "      <td>2019-04-19 00:00:00+00:00</td>\n",
       "      <td>Jazz Driving Soundtrack</td>\n",
       "      <td>APPROVED</td>\n",
       "      <td>NaT</td>\n",
       "      <td>None</td>\n",
       "      <td>compilation</td>\n",
       "    </tr>\n",
       "    <tr>\n",
       "      <th>2</th>\n",
       "      <td>00600406844743</td>\n",
       "      <td>Savvaki Dracou</td>\n",
       "      <td>2019-07-05 00:00:00+00:00</td>\n",
       "      <td>Reggaeton Vibes</td>\n",
       "      <td>DELIVERED</td>\n",
       "      <td>NaT</td>\n",
       "      <td>None</td>\n",
       "      <td>compilation</td>\n",
       "    </tr>\n",
       "    <tr>\n",
       "      <th>3</th>\n",
       "      <td>00600406843364</td>\n",
       "      <td>Eve Chadbourne</td>\n",
       "      <td>2019-06-21 00:00:00+00:00</td>\n",
       "      <td>Classical Pop</td>\n",
       "      <td>APPROVED</td>\n",
       "      <td>NaT</td>\n",
       "      <td>None</td>\n",
       "      <td>album</td>\n",
       "    </tr>\n",
       "    <tr>\n",
       "      <th>4</th>\n",
       "      <td>00600406845146</td>\n",
       "      <td>Jamie Ells</td>\n",
       "      <td>2019-07-12 00:00:00+00:00</td>\n",
       "      <td>Rock Hits</td>\n",
       "      <td>APPROVED</td>\n",
       "      <td>NaT</td>\n",
       "      <td>None</td>\n",
       "      <td>album</td>\n",
       "    </tr>\n",
       "  </tbody>\n",
       "</table>\n",
       "</div>"
      ],
      "text/plain": [
       "                  upc  playlist_owner              release_date  \\\n",
       "0  0000602567789178¬†            None 2018-06-08 00:00:00+00:00   \n",
       "1      00600406840400      Jamie Ells 2019-04-19 00:00:00+00:00   \n",
       "2      00600406844743  Savvaki Dracou 2019-07-05 00:00:00+00:00   \n",
       "3      00600406843364  Eve Chadbourne 2019-06-21 00:00:00+00:00   \n",
       "4      00600406845146      Jamie Ells 2019-07-12 00:00:00+00:00   \n",
       "\n",
       "                  release_title     status take_down_date album_type_x  \\\n",
       "0  Cottage Music Campfire Jams'       None            NaT         None   \n",
       "1       Jazz Driving Soundtrack   APPROVED            NaT         None   \n",
       "2               Reggaeton Vibes  DELIVERED            NaT         None   \n",
       "3                 Classical Pop   APPROVED            NaT         None   \n",
       "4                     Rock Hits   APPROVED            NaT         None   \n",
       "\n",
       "  album_type_y  \n",
       "0          NaN  \n",
       "1  compilation  \n",
       "2  compilation  \n",
       "3        album  \n",
       "4        album  "
      ]
     },
     "execution_count": 24,
     "metadata": {},
     "output_type": "execute_result"
    }
   ],
   "source": [
    "df_all = pd.merge(df, df_types, on='upc')\n",
    "df_all.head()"
   ]
  },
  {
   "cell_type": "code",
   "execution_count": 25,
   "metadata": {},
   "outputs": [],
   "source": [
    "df_all.to_csv('fp_upc_with_types.csv')"
   ]
  },
  {
   "cell_type": "code",
   "execution_count": null,
   "metadata": {},
   "outputs": [],
   "source": []
  }
 ],
 "metadata": {
  "kernelspec": {
   "display_name": "Python 3",
   "language": "python",
   "name": "python3"
  },
  "language_info": {
   "codemirror_mode": {
    "name": "ipython",
    "version": 3
   },
   "file_extension": ".py",
   "mimetype": "text/x-python",
   "name": "python",
   "nbconvert_exporter": "python",
   "pygments_lexer": "ipython3",
   "version": "3.7.3"
  }
 },
 "nbformat": 4,
 "nbformat_minor": 2
}
