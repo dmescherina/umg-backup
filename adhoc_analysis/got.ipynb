{
 "cells": [
  {
   "cell_type": "code",
   "execution_count": 2,
   "metadata": {},
   "outputs": [],
   "source": [
    "import pandas as pd\n",
    "import os\n",
    "import glob"
   ]
  },
  {
   "cell_type": "code",
   "execution_count": 21,
   "metadata": {},
   "outputs": [],
   "source": [
    "fileList = glob.glob('/Users/daria/Downloads/got/*.csv')"
   ]
  },
  {
   "cell_type": "code",
   "execution_count": 22,
   "metadata": {},
   "outputs": [
    {
     "name": "stdout",
     "output_type": "stream",
     "text": [
      "/Users/daria/Downloads/got/https___pitched-optimize.umusic.net_exports_mosdefspotify_20190412115646.csv\n",
      "/Users/daria/Downloads/got/https___pitched-optimize.umusic.net_exports_mosdefspotify_20190412115636.csv\n",
      "/Users/daria/Downloads/got/https___pitched-optimize.umusic.net_exports_mosdefspotify_20190412115625.csv\n",
      "/Users/daria/Downloads/got/https___pitched-optimize.umusic.net_exports_mosdefspotify_20190412115615.csv\n",
      "/Users/daria/Downloads/got/https___pitched-optimize.umusic.net_exports_mosdefspotify_20190412115548.csv\n",
      "/Users/daria/Downloads/got/https___pitched-optimize.umusic.net_exports_mosdefspotify_20190412115602.csv\n"
     ]
    }
   ],
   "source": [
    "for filename in fileList:\n",
    "    print(filename)\n",
    "    df = pd.read_csv(filename)\n",
    "    dfList.append(df)"
   ]
  },
  {
   "cell_type": "code",
   "execution_count": 23,
   "metadata": {},
   "outputs": [],
   "source": [
    "got_all = pd.concat(dfList, ignore_index=True)"
   ]
  },
  {
   "cell_type": "code",
   "execution_count": 24,
   "metadata": {},
   "outputs": [
    {
     "data": {
      "text/html": [
       "<div>\n",
       "<style scoped>\n",
       "    .dataframe tbody tr th:only-of-type {\n",
       "        vertical-align: middle;\n",
       "    }\n",
       "\n",
       "    .dataframe tbody tr th {\n",
       "        vertical-align: top;\n",
       "    }\n",
       "\n",
       "    .dataframe thead th {\n",
       "        text-align: right;\n",
       "    }\n",
       "</style>\n",
       "<table border=\"1\" class=\"dataframe\">\n",
       "  <thead>\n",
       "    <tr style=\"text-align: right;\">\n",
       "      <th></th>\n",
       "      <th>PlaylistUri</th>\n",
       "      <th>Name</th>\n",
       "      <th>Description</th>\n",
       "      <th>Image</th>\n",
       "      <th>Isrc</th>\n",
       "      <th>Artist</th>\n",
       "      <th>TrackName</th>\n",
       "      <th>Label</th>\n",
       "      <th>Duration</th>\n",
       "      <th>AddedAt</th>\n",
       "      <th>Upc</th>\n",
       "    </tr>\n",
       "  </thead>\n",
       "  <tbody>\n",
       "    <tr>\n",
       "      <th>0</th>\n",
       "      <td>spotify:playlist:11yn3BduUf10mTQyD03DCA</td>\n",
       "      <td>got 7</td>\n",
       "      <td>NaN</td>\n",
       "      <td>https://i.scdn.co/image/27ed3a5e0dc4f1a28400a6...</td>\n",
       "      <td>USNLR1700722</td>\n",
       "      <td>Ramin Djawadi</td>\n",
       "      <td>Main Titles</td>\n",
       "      <td>2017 Game Of Thrones, Artwork and Photographs ...</td>\n",
       "      <td>113773</td>\n",
       "      <td>2019-04-12T11:46:04Z</td>\n",
       "      <td>794043193545</td>\n",
       "    </tr>\n",
       "    <tr>\n",
       "      <th>1</th>\n",
       "      <td>spotify:playlist:11yn3BduUf10mTQyD03DCA</td>\n",
       "      <td>got 7</td>\n",
       "      <td>NaN</td>\n",
       "      <td>https://i.scdn.co/image/27ed3a5e0dc4f1a28400a6...</td>\n",
       "      <td>USNLR1700723</td>\n",
       "      <td>Ramin Djawadi</td>\n",
       "      <td>Dragonstone</td>\n",
       "      <td>2017 Game Of Thrones, Artwork and Photographs ...</td>\n",
       "      <td>306120</td>\n",
       "      <td>2019-04-12T11:46:04Z</td>\n",
       "      <td>794043193545</td>\n",
       "    </tr>\n",
       "    <tr>\n",
       "      <th>2</th>\n",
       "      <td>spotify:playlist:11yn3BduUf10mTQyD03DCA</td>\n",
       "      <td>got 7</td>\n",
       "      <td>NaN</td>\n",
       "      <td>https://i.scdn.co/image/27ed3a5e0dc4f1a28400a6...</td>\n",
       "      <td>USNLR1700724</td>\n",
       "      <td>Ramin Djawadi</td>\n",
       "      <td>Shall We Begin?</td>\n",
       "      <td>2017 Game Of Thrones, Artwork and Photographs ...</td>\n",
       "      <td>84080</td>\n",
       "      <td>2019-04-12T11:46:04Z</td>\n",
       "      <td>794043193545</td>\n",
       "    </tr>\n",
       "    <tr>\n",
       "      <th>3</th>\n",
       "      <td>spotify:playlist:11yn3BduUf10mTQyD03DCA</td>\n",
       "      <td>got 7</td>\n",
       "      <td>NaN</td>\n",
       "      <td>https://i.scdn.co/image/27ed3a5e0dc4f1a28400a6...</td>\n",
       "      <td>USNLR1700725</td>\n",
       "      <td>Ramin Djawadi</td>\n",
       "      <td>The Queen's Justice</td>\n",
       "      <td>2017 Game Of Thrones, Artwork and Photographs ...</td>\n",
       "      <td>81506</td>\n",
       "      <td>2019-04-12T11:46:04Z</td>\n",
       "      <td>794043193545</td>\n",
       "    </tr>\n",
       "    <tr>\n",
       "      <th>4</th>\n",
       "      <td>spotify:playlist:11yn3BduUf10mTQyD03DCA</td>\n",
       "      <td>got 7</td>\n",
       "      <td>NaN</td>\n",
       "      <td>https://i.scdn.co/image/27ed3a5e0dc4f1a28400a6...</td>\n",
       "      <td>USNLR1700726</td>\n",
       "      <td>Ramin Djawadi</td>\n",
       "      <td>A Game I Like to Play</td>\n",
       "      <td>2017 Game Of Thrones, Artwork and Photographs ...</td>\n",
       "      <td>105186</td>\n",
       "      <td>2019-04-12T11:46:04Z</td>\n",
       "      <td>794043193545</td>\n",
       "    </tr>\n",
       "  </tbody>\n",
       "</table>\n",
       "</div>"
      ],
      "text/plain": [
       "                               PlaylistUri   Name  Description  \\\n",
       "0  spotify:playlist:11yn3BduUf10mTQyD03DCA  got 7          NaN   \n",
       "1  spotify:playlist:11yn3BduUf10mTQyD03DCA  got 7          NaN   \n",
       "2  spotify:playlist:11yn3BduUf10mTQyD03DCA  got 7          NaN   \n",
       "3  spotify:playlist:11yn3BduUf10mTQyD03DCA  got 7          NaN   \n",
       "4  spotify:playlist:11yn3BduUf10mTQyD03DCA  got 7          NaN   \n",
       "\n",
       "                                               Image          Isrc  \\\n",
       "0  https://i.scdn.co/image/27ed3a5e0dc4f1a28400a6...  USNLR1700722   \n",
       "1  https://i.scdn.co/image/27ed3a5e0dc4f1a28400a6...  USNLR1700723   \n",
       "2  https://i.scdn.co/image/27ed3a5e0dc4f1a28400a6...  USNLR1700724   \n",
       "3  https://i.scdn.co/image/27ed3a5e0dc4f1a28400a6...  USNLR1700725   \n",
       "4  https://i.scdn.co/image/27ed3a5e0dc4f1a28400a6...  USNLR1700726   \n",
       "\n",
       "          Artist              TrackName  \\\n",
       "0  Ramin Djawadi            Main Titles   \n",
       "1  Ramin Djawadi            Dragonstone   \n",
       "2  Ramin Djawadi        Shall We Begin?   \n",
       "3  Ramin Djawadi    The Queen's Justice   \n",
       "4  Ramin Djawadi  A Game I Like to Play   \n",
       "\n",
       "                                               Label  Duration  \\\n",
       "0  2017 Game Of Thrones, Artwork and Photographs ...    113773   \n",
       "1  2017 Game Of Thrones, Artwork and Photographs ...    306120   \n",
       "2  2017 Game Of Thrones, Artwork and Photographs ...     84080   \n",
       "3  2017 Game Of Thrones, Artwork and Photographs ...     81506   \n",
       "4  2017 Game Of Thrones, Artwork and Photographs ...    105186   \n",
       "\n",
       "                AddedAt           Upc  \n",
       "0  2019-04-12T11:46:04Z  794043193545  \n",
       "1  2019-04-12T11:46:04Z  794043193545  \n",
       "2  2019-04-12T11:46:04Z  794043193545  \n",
       "3  2019-04-12T11:46:04Z  794043193545  \n",
       "4  2019-04-12T11:46:04Z  794043193545  "
      ]
     },
     "execution_count": 24,
     "metadata": {},
     "output_type": "execute_result"
    }
   ],
   "source": [
    "got_all.head()"
   ]
  },
  {
   "cell_type": "code",
   "execution_count": 27,
   "metadata": {},
   "outputs": [
    {
     "data": {
      "text/plain": [
       "140"
      ]
     },
     "execution_count": 27,
     "metadata": {},
     "output_type": "execute_result"
    }
   ],
   "source": [
    "len(got_all.Isrc.unique())"
   ]
  },
  {
   "cell_type": "code",
   "execution_count": 28,
   "metadata": {},
   "outputs": [
    {
     "data": {
      "text/html": [
       "<div>\n",
       "<style scoped>\n",
       "    .dataframe tbody tr th:only-of-type {\n",
       "        vertical-align: middle;\n",
       "    }\n",
       "\n",
       "    .dataframe tbody tr th {\n",
       "        vertical-align: top;\n",
       "    }\n",
       "\n",
       "    .dataframe thead th {\n",
       "        text-align: right;\n",
       "    }\n",
       "</style>\n",
       "<table border=\"1\" class=\"dataframe\">\n",
       "  <thead>\n",
       "    <tr style=\"text-align: right;\">\n",
       "      <th></th>\n",
       "      <th>PlaylistUri</th>\n",
       "      <th>Name</th>\n",
       "      <th>Description</th>\n",
       "      <th>Image</th>\n",
       "      <th>Isrc</th>\n",
       "      <th>Artist</th>\n",
       "      <th>TrackName</th>\n",
       "      <th>Label</th>\n",
       "      <th>Duration</th>\n",
       "      <th>AddedAt</th>\n",
       "      <th>Upc</th>\n",
       "    </tr>\n",
       "  </thead>\n",
       "  <tbody>\n",
       "    <tr>\n",
       "      <th>0</th>\n",
       "      <td>spotify:playlist:2xQ83rjADRVGrqzNyWc3tc</td>\n",
       "      <td>GoT puns</td>\n",
       "      <td>NaN</td>\n",
       "      <td>https://mosaic.scdn.co/640/4d2d29f26bc489d3198...</td>\n",
       "      <td>GBAHT1600107</td>\n",
       "      <td>Biffy Clyro</td>\n",
       "      <td>Wolves of Winter</td>\n",
       "      <td>2016 14th Floor Records</td>\n",
       "      <td>248517</td>\n",
       "      <td>2019-04-12T12:16:09Z</td>\n",
       "      <td>190295973551</td>\n",
       "    </tr>\n",
       "    <tr>\n",
       "      <th>1</th>\n",
       "      <td>spotify:playlist:2xQ83rjADRVGrqzNyWc3tc</td>\n",
       "      <td>GoT puns</td>\n",
       "      <td>NaN</td>\n",
       "      <td>https://mosaic.scdn.co/640/4d2d29f26bc489d3198...</td>\n",
       "      <td>GBARL1500772</td>\n",
       "      <td>Bring Me The Horizon</td>\n",
       "      <td>Follow You</td>\n",
       "      <td>(P) 2015 Sony Music Entertainment UK Limited</td>\n",
       "      <td>231106</td>\n",
       "      <td>2019-04-12T12:16:32Z</td>\n",
       "      <td>886445386097</td>\n",
       "    </tr>\n",
       "    <tr>\n",
       "      <th>2</th>\n",
       "      <td>spotify:playlist:2xQ83rjADRVGrqzNyWc3tc</td>\n",
       "      <td>GoT puns</td>\n",
       "      <td>NaN</td>\n",
       "      <td>https://mosaic.scdn.co/640/4d2d29f26bc489d3198...</td>\n",
       "      <td>GB2ME1501260</td>\n",
       "      <td>Frank Carter &amp; The Rattlesnakes</td>\n",
       "      <td>Devil Inside Me</td>\n",
       "      <td>2016 International Death Cult</td>\n",
       "      <td>178312</td>\n",
       "      <td>2019-04-12T12:16:42Z</td>\n",
       "      <td>5060454942115</td>\n",
       "    </tr>\n",
       "    <tr>\n",
       "      <th>3</th>\n",
       "      <td>spotify:playlist:2xQ83rjADRVGrqzNyWc3tc</td>\n",
       "      <td>GoT puns</td>\n",
       "      <td>NaN</td>\n",
       "      <td>https://mosaic.scdn.co/640/4d2d29f26bc489d3198...</td>\n",
       "      <td>DKNE11600101</td>\n",
       "      <td>Volbeat</td>\n",
       "      <td>The Devil's Bleeding Crown</td>\n",
       "      <td>(C) 2016 VOLBEAT, under exclusive license to V...</td>\n",
       "      <td>238653</td>\n",
       "      <td>2019-04-12T12:16:48Z</td>\n",
       "      <td>602547886750</td>\n",
       "    </tr>\n",
       "    <tr>\n",
       "      <th>4</th>\n",
       "      <td>spotify:playlist:2xQ83rjADRVGrqzNyWc3tc</td>\n",
       "      <td>GoT puns</td>\n",
       "      <td>NaN</td>\n",
       "      <td>https://mosaic.scdn.co/640/4d2d29f26bc489d3198...</td>\n",
       "      <td>GBCEL1300362</td>\n",
       "      <td>Arctic Monkeys</td>\n",
       "      <td>Do I Wanna Know?</td>\n",
       "      <td>2013 Domino Recording Co Ltd</td>\n",
       "      <td>272394</td>\n",
       "      <td>2019-04-12T12:17:02Z</td>\n",
       "      <td>887828031795</td>\n",
       "    </tr>\n",
       "  </tbody>\n",
       "</table>\n",
       "</div>"
      ],
      "text/plain": [
       "                               PlaylistUri      Name  Description  \\\n",
       "0  spotify:playlist:2xQ83rjADRVGrqzNyWc3tc  GoT puns          NaN   \n",
       "1  spotify:playlist:2xQ83rjADRVGrqzNyWc3tc  GoT puns          NaN   \n",
       "2  spotify:playlist:2xQ83rjADRVGrqzNyWc3tc  GoT puns          NaN   \n",
       "3  spotify:playlist:2xQ83rjADRVGrqzNyWc3tc  GoT puns          NaN   \n",
       "4  spotify:playlist:2xQ83rjADRVGrqzNyWc3tc  GoT puns          NaN   \n",
       "\n",
       "                                               Image          Isrc  \\\n",
       "0  https://mosaic.scdn.co/640/4d2d29f26bc489d3198...  GBAHT1600107   \n",
       "1  https://mosaic.scdn.co/640/4d2d29f26bc489d3198...  GBARL1500772   \n",
       "2  https://mosaic.scdn.co/640/4d2d29f26bc489d3198...  GB2ME1501260   \n",
       "3  https://mosaic.scdn.co/640/4d2d29f26bc489d3198...  DKNE11600101   \n",
       "4  https://mosaic.scdn.co/640/4d2d29f26bc489d3198...  GBCEL1300362   \n",
       "\n",
       "                            Artist                   TrackName  \\\n",
       "0                      Biffy Clyro            Wolves of Winter   \n",
       "1             Bring Me The Horizon                  Follow You   \n",
       "2  Frank Carter & The Rattlesnakes             Devil Inside Me   \n",
       "3                          Volbeat  The Devil's Bleeding Crown   \n",
       "4                   Arctic Monkeys            Do I Wanna Know?   \n",
       "\n",
       "                                               Label  Duration  \\\n",
       "0                            2016 14th Floor Records    248517   \n",
       "1       (P) 2015 Sony Music Entertainment UK Limited    231106   \n",
       "2                      2016 International Death Cult    178312   \n",
       "3  (C) 2016 VOLBEAT, under exclusive license to V...    238653   \n",
       "4                       2013 Domino Recording Co Ltd    272394   \n",
       "\n",
       "                AddedAt            Upc  \n",
       "0  2019-04-12T12:16:09Z   190295973551  \n",
       "1  2019-04-12T12:16:32Z   886445386097  \n",
       "2  2019-04-12T12:16:42Z  5060454942115  \n",
       "3  2019-04-12T12:16:48Z   602547886750  \n",
       "4  2019-04-12T12:17:02Z   887828031795  "
      ]
     },
     "execution_count": 28,
     "metadata": {},
     "output_type": "execute_result"
    }
   ],
   "source": [
    "df = pd.read_csv('/Users/daria/Downloads/https___pitched-optimize.umusic.net_exports_dmescherina_20190412122519.csv')\n",
    "df.head()"
   ]
  },
  {
   "cell_type": "code",
   "execution_count": 29,
   "metadata": {},
   "outputs": [
    {
     "data": {
      "text/plain": [
       "array(['GBAHT1600107', 'GBARL1500772', 'GB2ME1501260', 'DKNE11600101',\n",
       "       'GBCEL1300362', 'USRC11502824', 'USNO11000079', 'USIR10211291',\n",
       "       'USAT21502573', 'GBARL1500128', 'USRE11500601', 'USUM71314750',\n",
       "       'USPR37030030', 'USWB10505222', 'USMC17301721', 'USVG21303253',\n",
       "       'USUM71208066', 'USR371400603', 'USUM70504291', 'USMC17301726',\n",
       "       'USA027300020', 'USME31000533', 'USEE10184209', 'USVG21303250',\n",
       "       'USWB19901792', 'USWB19901417', 'USSUB0981001', 'USIR29300080',\n",
       "       'USGF19946101', 'GBUM71204769', 'GBCGR1620001', 'USAL19800023',\n",
       "       'GBBKU0200041', 'GBAHS1500557', 'GBCEL0700512', 'GBMJG1101139',\n",
       "       'TCACE1515077', 'UKA4T1500008', 'GBCVZ0000020', 'ushm21176157',\n",
       "       'GBCKK9302301', 'GBDCA1402815', 'GBCVZ0701835', 'USSM19200612',\n",
       "       'USMTD1090007', 'USSUB0567005', 'GBAFL9700100', 'USWB10200893',\n",
       "       'USTV19900061', 'GBDMT1600031', 'USEP41227002', 'USCHU1010056',\n",
       "       'US78L1411408', 'USSM10209587', 'USCHU1010062', 'QMTXS1100090',\n",
       "       'GBCVZ0902697', 'USRB41000001', 'AUUM71501373', 'TCABU1477334',\n",
       "       'US78L1411401', 'CAA170966701', 'USZO10001705', 'TCAAY1119862',\n",
       "       'USHM20357909', 'US78L1411402', 'USEP41308002', 'USUM70900799',\n",
       "       'US6LQ0900304', 'TCACI1531736', 'USA2B0454203', 'USLBR1500013',\n",
       "       'USSM10701256', 'GBA076600020', 'GBCJN7800009', 'USA176910100',\n",
       "       'USQX91100841', 'GBAJE6400005', 'GBUM70909472', 'USCA20000789',\n",
       "       'USSM17600477', 'USAT29900534', 'NLF056990018', 'GBAYE0601696',\n",
       "       'USC4R0817618', 'USQX90900760', 'USSM17600941', 'USSM18100116',\n",
       "       'GBA076700020', 'USA176610250', 'USC4R0817604', 'USQX90900771',\n",
       "       'USCA20200011', 'USSM19911934', 'USMC15547010', 'USMC15646854',\n",
       "       'USA560742934', 'GBBKS0700527', 'GBCEL0501181', 'GBCEL0800810'],\n",
       "      dtype=object)"
      ]
     },
     "execution_count": 29,
     "metadata": {},
     "output_type": "execute_result"
    }
   ],
   "source": [
    "df.Isrc.unique()"
   ]
  },
  {
   "cell_type": "code",
   "execution_count": 30,
   "metadata": {},
   "outputs": [
    {
     "data": {
      "text/plain": [
       "(100, 11)"
      ]
     },
     "execution_count": 30,
     "metadata": {},
     "output_type": "execute_result"
    }
   ],
   "source": [
    "df.shape"
   ]
  },
  {
   "cell_type": "code",
   "execution_count": 31,
   "metadata": {},
   "outputs": [
    {
     "data": {
      "text/plain": [
       "(140, 11)"
      ]
     },
     "execution_count": 31,
     "metadata": {},
     "output_type": "execute_result"
    }
   ],
   "source": [
    "got_all.shape"
   ]
  },
  {
   "cell_type": "code",
   "execution_count": 52,
   "metadata": {},
   "outputs": [],
   "source": [
    "uris = pd.read_clipboard(header = None)"
   ]
  },
  {
   "cell_type": "code",
   "execution_count": 53,
   "metadata": {},
   "outputs": [
    {
     "data": {
      "text/plain": [
       "'0bvpSvOYt4KTfZIZJmyFOs'"
      ]
     },
     "execution_count": 53,
     "metadata": {},
     "output_type": "execute_result"
    }
   ],
   "source": [
    "uris[0][0][-22:]"
   ]
  },
  {
   "cell_type": "code",
   "execution_count": 54,
   "metadata": {},
   "outputs": [],
   "source": [
    "uris = ['spotify:track:'+str(x)[-22:] for x in uris[0]]"
   ]
  },
  {
   "cell_type": "code",
   "execution_count": 55,
   "metadata": {},
   "outputs": [
    {
     "data": {
      "text/plain": [
       "['spotify:track:0bvpSvOYt4KTfZIZJmyFOs',\n",
       " 'spotify:track:2zKoA5gp5Xaw3mrp45XIrR',\n",
       " 'spotify:track:2P53upfiB1eIngYVuzscWQ',\n",
       " 'spotify:track:4wzmG9IrKTinyYVJK6Vffw',\n",
       " 'spotify:track:6NhyhrfG0sVmO2Wkr2P1e2',\n",
       " 'spotify:track:3vZXNphWKGgW0TePYEtW0S',\n",
       " 'spotify:track:0nnK9BHXxpht4Wlo6nqI6C',\n",
       " 'spotify:track:1PWnAEQcbwQwK759otUbta',\n",
       " 'spotify:track:1MMs39tGwWS3p5tY5C5SAE',\n",
       " 'spotify:track:6luhvKibJJNM4P64RLNwgg',\n",
       " 'spotify:track:1Al6eGpz1Hg5wdmVQ6O4Rz',\n",
       " 'spotify:track:4ojq4D9iuG6egCv8yIX1N0',\n",
       " 'spotify:track:4qQf0umfCOGMLzoDTq1nEi',\n",
       " 'spotify:track:7kv7zBjMtVf0eIJle2VZxn',\n",
       " 'spotify:track:75p2jz3EQp3jO4d9DX8n7q',\n",
       " 'spotify:track:3kdCm8WHJSY9KTWs3HPhOQ',\n",
       " 'spotify:track:f%20the%20Beholder/386',\n",
       " 'spotify:track:74Kq3g05X9xuwThACduB0I',\n",
       " 'spotify:track:55OslhCKptoOWToLXZsPLz',\n",
       " 'spotify:track:0mJOx6CHqcOJSSGfcUsojH',\n",
       " 'spotify:track:6ROC96qNrDlbWmIKtt93TV',\n",
       " 'spotify:track:11d9oUiwHuYt216EFA2tiz',\n",
       " 'spotify:track:1Il12wAhwd9jBwiU1yL500',\n",
       " 'spotify:track:32wghPySDJ1mNdqhwW9YMh',\n",
       " 'spotify:track:2vCnEuoc65PXAdx33Y7syW',\n",
       " 'spotify:track:2WMRd3xAb9FwXopCRNWDq1',\n",
       " 'spotify:track:6kkN6tVXra7IJgF1vC6NXC',\n",
       " 'spotify:track:1l7CEtqvmf51MoqwjwC4fl',\n",
       " 'spotify:track:6sjy0nFc5nvVpUgr7etGzh',\n",
       " 'spotify:track:6Hq5YnYmXbJk1j3QqbpccL',\n",
       " 'spotify:track:3TGI4Ne2RNOQVsIgBYtJFE',\n",
       " 'spotify:track:1osH4kjtpHSWSkVhqCUMMF',\n",
       " 'spotify:track:5vdp5UmvTsnMEMESIF2Ym7',\n",
       " 'spotify:track:38x3I8MkpDFgXft9QUQQOI',\n",
       " 'spotify:track:5sOBthBoX0MbaBb9AyVTZc',\n",
       " 'spotify:track:3u9pftbhkHKNti0U58q5j3',\n",
       " 'spotify:track:0YgBi34xbikKncY8b7AYsc',\n",
       " 'spotify:track:5LI7PoHEolR8plrf3I16sq',\n",
       " 'spotify:track:3sUmW7dwhtPP7JlRUQDote',\n",
       " 'spotify:track:5EFj38ANEUEau3Cyndw8FE']"
      ]
     },
     "execution_count": 55,
     "metadata": {},
     "output_type": "execute_result"
    }
   ],
   "source": [
    "uris"
   ]
  },
  {
   "cell_type": "code",
   "execution_count": null,
   "metadata": {},
   "outputs": [],
   "source": []
  }
 ],
 "metadata": {
  "kernelspec": {
   "display_name": "Python 3",
   "language": "python",
   "name": "python3"
  },
  "language_info": {
   "codemirror_mode": {
    "name": "ipython",
    "version": 3
   },
   "file_extension": ".py",
   "mimetype": "text/x-python",
   "name": "python",
   "nbconvert_exporter": "python",
   "pygments_lexer": "ipython3",
   "version": "3.7.1"
  }
 },
 "nbformat": 4,
 "nbformat_minor": 2
}
