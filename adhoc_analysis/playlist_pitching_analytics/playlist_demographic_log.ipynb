{
 "cells": [
  {
   "cell_type": "code",
   "execution_count": 1,
   "metadata": {},
   "outputs": [],
   "source": [
    "import pandas as pd\n",
    "from pandas.io import gbq\n",
    "\n",
    "import matplotlib.pyplot as plt\n",
    "import seaborn as sns\n",
    "\n",
    "%matplotlib inline\n",
    "pd.set_option('display.float_format', lambda x: '%.3f' % x)"
   ]
  },
  {
   "cell_type": "markdown",
   "metadata": {},
   "source": [
    "#### Get Spotify playlists of interest"
   ]
  },
  {
   "cell_type": "code",
   "execution_count": null,
   "metadata": {},
   "outputs": [],
   "source": [
    "get_throwback_in_uk_browse = \"\"\"\n",
    "SELECT\n",
    "  category_name,\n",
    "  playlist_id,\n",
    "  playlist_name\n",
    "FROM\n",
    "  `umg-alpha.spotify.spotify_playlist_browse`\n",
    "WHERE\n",
    "  owner_id = \"spotify\"\n",
    "  AND territory = \"GB\"\n",
    "GROUP BY\n",
    "  1,\n",
    "  2,\n",
    "  3\n",
    "\"\"\""
   ]
  },
  {
   "cell_type": "markdown",
   "metadata": {},
   "source": [
    "#### Get the demographics that are listening to these Spotify playlists\n",
    "\n",
    "Rank each demographic audience by the number of streams they do from each playlist"
   ]
  },
  {
   "cell_type": "code",
   "execution_count": null,
   "metadata": {},
   "outputs": [],
   "source": [
    "get_spotify_demographics = \"\"\"\n",
    "WITH\n",
    "  playlists AS (\n",
    "  SELECT\n",
    "    category_name,\n",
    "    playlist_id,\n",
    "    playlist_name\n",
    "  FROM\n",
    "    `umg-comm-tech-dev.playlist_pitching_analytics.top_browse_uk_playlists`\n",
    "  GROUP BY\n",
    "    1,\n",
    "    2,\n",
    "    3)\n",
    "SELECT\n",
    "  category_name,\n",
    "  playlist_id,\n",
    "  playlist_name,\n",
    "  user_country_name,\n",
    "  user_gender,\n",
    "  user_age,\n",
    "  s.user_age_group,\n",
    "  COUNT(*) AS streams,\n",
    "  COUNT(DISTINCT user_id) AS listeners\n",
    "FROM\n",
    "  playlists p\n",
    "LEFT JOIN\n",
    "  `umg-edw.spotify.streams` s\n",
    "ON\n",
    "  p.playlist_id=REGEXP_EXTRACT(s.source_uri,r'playlist:(.*)')\n",
    "WHERE\n",
    "  s.stream_date >= DATE_SUB(CURRENT_DATE(), INTERVAL 21 DAY)\n",
    "  AND s.stream_date < CURRENT_DATE()\n",
    "  AND s.user_country_code = \"GB\"\n",
    "  AND s.user_gender != ''\n",
    "  AND s.user_age IS NOT NULL\n",
    "GROUP BY\n",
    "  category_name,\n",
    "  playlist_id,\n",
    "  playlist_name,\n",
    "  user_country_name,\n",
    "  user_gender,\n",
    "  user_age,\n",
    "  s.user_age_group\n",
    "\"\"\""
   ]
  },
  {
   "cell_type": "code",
   "execution_count": null,
   "metadata": {},
   "outputs": [],
   "source": [
    "spotify_demographic_groups = \"\"\"\n",
    "SELECT\n",
    "  playlist_id,\n",
    "  playlist_name,\n",
    "  user_gender,\n",
    "  user_age_group,\n",
    "  SUM(streams) AS streams,\n",
    "  SUM(listeners) AS listeners,\n",
    "  RANK() OVER(PARTITION BY playlist_name ORDER BY SUM(streams) DESC) AS rank_streams\n",
    "FROM\n",
    "  `umg-comm-tech-dev.playlist_pitching_analytics.demographics_spotify`\n",
    "WHERE\n",
    "  user_gender != ''\n",
    "  AND user_age IS NOT NULL\n",
    "GROUP BY\n",
    "  playlist_id,\n",
    "  playlist_name,\n",
    "  user_gender,\n",
    "  user_age_group\n",
    "\"\"\""
   ]
  },
  {
   "cell_type": "code",
   "execution_count": null,
   "metadata": {},
   "outputs": [],
   "source": [
    "sp_demographics = gbq.read_gbq(spotify_demographic_groups, project_id='umg-comm-tech-dev', dialect='standard')"
   ]
  },
  {
   "cell_type": "code",
   "execution_count": null,
   "metadata": {},
   "outputs": [],
   "source": [
    "sp_demographics.head()"
   ]
  },
  {
   "cell_type": "code",
   "execution_count": null,
   "metadata": {},
   "outputs": [],
   "source": [
    "sp_demographics=sp_demographics[sp_demographics.user_age_group!=\"Unknown\"]"
   ]
  },
  {
   "cell_type": "markdown",
   "metadata": {},
   "source": [
    "#### Checking the audiences for these playlists and their relative distribution"
   ]
  },
  {
   "cell_type": "code",
   "execution_count": null,
   "metadata": {},
   "outputs": [],
   "source": [
    "by_gender_age = sp_demographics.groupby(by=['user_gender','user_age_group'])"
   ]
  },
  {
   "cell_type": "code",
   "execution_count": null,
   "metadata": {},
   "outputs": [],
   "source": [
    "df_dem_sp = pd.DataFrame(by_gender_age.streams.sum())\n",
    "df_dem_sp['listeners'] = by_gender_age.listeners.sum()\n",
    "df_dem_sp['playlist_listens']=by_gender_age.playlist_id.nunique()"
   ]
  },
  {
   "cell_type": "code",
   "execution_count": null,
   "metadata": {},
   "outputs": [],
   "source": [
    "df_dem_sp = df_dem_sp.reset_index()\n",
    "df_dem_sp.head()"
   ]
  },
  {
   "cell_type": "code",
   "execution_count": null,
   "metadata": {},
   "outputs": [],
   "source": [
    "fig = plt.figure(figsize=(16,8))\n",
    "\n",
    "cmap = sns.cubehelix_palette(dark=.3, light=.8, as_cmap=True)\n",
    "sns.scatterplot(data=df_dem_sp, x='user_age_group', y='streams', size='listeners', sizes=(50,250),\n",
    "                style='user_gender', hue='listeners', legend=\"full\",\n",
    "                palette=\"Set2\")\n",
    "\n",
    "plt.show()"
   ]
  },
  {
   "cell_type": "markdown",
   "metadata": {},
   "source": [
    "Demographics is nostly as expected. Most numerous audiences are both men and women between 25-34, then 18-24 (notably girls more than boys), then 35-44s, 45-54th, etc. Interestingly 45-54 year olds have the same amount opf listeners as 55-64 year olds, but the former generate significantly more streams."
   ]
  },
  {
   "cell_type": "markdown",
   "metadata": {},
   "source": [
    "#### Get the ranking of ALL artists on Apple for each of our demographic groups..."
   ]
  },
  {
   "cell_type": "code",
   "execution_count": null,
   "metadata": {},
   "outputs": [],
   "source": [
    "apple_artist_ranks_global = \"\"\"\n",
    "SELECT\n",
    "  apple_artist_id,\n",
    "  artist_name,\n",
    "  user_gender,\n",
    "  user_age_group,\n",
    "  SUM(stream_count) AS streams,\n",
    "  SUM(listener_count) AS listeners,\n",
    "  RANK() OVER(PARTITION BY user_gender,user_age_group ORDER BY SUM(stream_count) DESC) AS artist_rank\n",
    "FROM\n",
    "  `umg-edw.apple_music.daily_artist_demographics`\n",
    "WHERE stream_date >= DATE_SUB(CURRENT_DATE(), INTERVAL 7 DAY)\n",
    "  AND stream_date < CURRENT_DATE()\n",
    "  AND user_country_code =\"GB\"\n",
    "  GROUP BY\n",
    "  apple_artist_id,\n",
    "  artist_name,\n",
    "  user_gender,\n",
    "  user_age_group\n",
    "\"\"\""
   ]
  },
  {
   "cell_type": "markdown",
   "metadata": {},
   "source": [
    "#### ...and then select our top 80 catalogue artists, their rankings for each demographic and their tracks"
   ]
  },
  {
   "cell_type": "code",
   "execution_count": null,
   "metadata": {},
   "outputs": [],
   "source": [
    "apple_artist_content_demographic = \"\"\"\n",
    "SELECT\n",
    "  artist_id,\n",
    "  isrc,\n",
    "  title,\n",
    "  d.artist_name,\n",
    "  d.user_gender,\n",
    "  d.user_age_group,\n",
    "  r.artist_rank,\n",
    "  SUM(listener_count) AS listener_count,\n",
    "  SUM(stream_count) AS stream_count\n",
    "FROM\n",
    "  `umg-edw.apple_music.daily_content_demographics` d\n",
    "LEFT JOIN\n",
    "  `umg-comm-tech-dev.playlist_pitching_analytics.artist_global_ranking` r\n",
    "ON\n",
    "  d.artist_id = r.apple_artist_id\n",
    "  AND d.user_gender = r.user_gender\n",
    "  AND d.user_age_group = r.user_age_group\n",
    "WHERE\n",
    "  stream_date >= DATE_SUB(CURRENT_DATE(), INTERVAL 180 DAY)\n",
    "  AND stream_date < CURRENT_DATE()\n",
    "  AND artist_id IN (\n",
    "  SELECT\n",
    "    artist_id_apple\n",
    "  FROM\n",
    "    `umg-comm-tech-dev.hundred_artist.joined_artists_track_data`\n",
    "  GROUP BY\n",
    "    artist_id_apple)\n",
    "  AND user_country_code = \"GB\"\n",
    "GROUP BY\n",
    "  artist_id,\n",
    "  isrc,\n",
    "  title,\n",
    "  artist_name,\n",
    "  user_gender,\n",
    "  user_age_group,\n",
    "  r.artist_rank \n",
    "\"\"\""
   ]
  },
  {
   "cell_type": "code",
   "execution_count": null,
   "metadata": {},
   "outputs": [],
   "source": [
    "global_ranking = \"\"\"\n",
    "SELECT\n",
    "  *,\n",
    "IF\n",
    "  (apple_artist_id IN (\n",
    "    SELECT\n",
    "      artist_id_apple\n",
    "    FROM\n",
    "      `umg-comm-tech-dev.hundred_artist.joined_artists_track_data`\n",
    "    GROUP BY\n",
    "      artist_id_apple),\n",
    "    1,\n",
    "    0) AS in_analysis\n",
    "FROM\n",
    "  `umg-comm-tech-dev.playlist_pitching_analytics.artist_global_ranking`\n",
    "\"\"\"\n",
    "\n",
    "apple_demographic = gbq.read_gbq(global_ranking, project_id='umg-comm-tech-dev', dialect='standard')\n",
    "apple_demographic.head()"
   ]
  },
  {
   "cell_type": "code",
   "execution_count": null,
   "metadata": {},
   "outputs": [],
   "source": [
    "df_apple = apple_demographic[(apple_demographic.user_gender!='Data Unknown')&(apple_demographic.user_age_group!='Data Unknown')]"
   ]
  },
  {
   "cell_type": "markdown",
   "metadata": {},
   "source": [
    "#### Let's check how popular are our top80 catalogue artists in each of the demographic"
   ]
  },
  {
   "cell_type": "code",
   "execution_count": null,
   "metadata": {},
   "outputs": [],
   "source": [
    "fig = plt.figure(figsize=(16,8))\n",
    "\n",
    "sns.boxplot(data = df_apple[df_apple.in_analysis==1], x='artist_rank', y='user_age_group', hue='user_gender',\n",
    "           palette=\"Set2\")\n",
    "\n",
    "plt.show()"
   ]
  },
  {
   "cell_type": "markdown",
   "metadata": {},
   "source": [
    "It's fair to say that our artists are quite popular equally in all the demographics. 75% of those artists are ranked under 250 in all demographics. The least liked artist by 45-54s that has the ranking of lower than 5000s in their group is Eason Chan :)"
   ]
  },
  {
   "cell_type": "markdown",
   "metadata": {},
   "source": [
    "![](8ed.jpg)"
   ]
  },
  {
   "cell_type": "code",
   "execution_count": null,
   "metadata": {},
   "outputs": [],
   "source": [
    "df_apple[(df_apple.in_analysis==1)&(df_apple.artist_rank>5000)]"
   ]
  },
  {
   "cell_type": "markdown",
   "metadata": {},
   "source": [
    "Below is the distribution of ALL artists on Apple ranking within each demographic. Safe to say our top 80 are doing better than average"
   ]
  },
  {
   "cell_type": "code",
   "execution_count": null,
   "metadata": {},
   "outputs": [],
   "source": [
    "fig = plt.figure(figsize=(16,8))\n",
    "\n",
    "sns.boxplot(data = df_apple, x='artist_rank', y='user_age_group', hue='user_gender',\n",
    "           palette=\"Set3\")\n",
    "\n",
    "plt.show()"
   ]
  },
  {
   "cell_type": "markdown",
   "metadata": {},
   "source": [
    "#### Getting all our artists and their songs where their respective rank in each demographic group is no lower than 250"
   ]
  },
  {
   "cell_type": "code",
   "execution_count": null,
   "metadata": {},
   "outputs": [],
   "source": [
    "our_ranking = \"\"\"\n",
    "SELECT\n",
    "  *\n",
    "FROM\n",
    "  `umg-comm-tech-dev.playlist_pitching_analytics.apple_content_demographic`\n",
    "WHERE\n",
    "  artist_rank <= 250\n",
    "  AND user_gender != 'Data Unknown'\n",
    "  AND user_age_group != 'Data Unknown'\n",
    "\"\"\"\n",
    "\n",
    "apple_demographic_tracks = gbq.read_gbq(our_ranking, project_id='umg-comm-tech-dev', dialect='standard')\n",
    "apple_demographic_tracks.head()"
   ]
  },
  {
   "cell_type": "code",
   "execution_count": null,
   "metadata": {},
   "outputs": [],
   "source": [
    "sp_demographics.head()"
   ]
  },
  {
   "cell_type": "code",
   "execution_count": null,
   "metadata": {},
   "outputs": [],
   "source": [
    "sp_demographics.user_age_group.unique()"
   ]
  },
  {
   "cell_type": "code",
   "execution_count": null,
   "metadata": {},
   "outputs": [],
   "source": [
    "sp_demographics.user_gender.unique()"
   ]
  },
  {
   "cell_type": "code",
   "execution_count": null,
   "metadata": {},
   "outputs": [],
   "source": [
    "apple_demographic_tracks.user_age_group.unique()"
   ]
  },
  {
   "cell_type": "code",
   "execution_count": null,
   "metadata": {},
   "outputs": [],
   "source": [
    "apple_demographic_tracks['user_gender'] = [str(x).lower() for x in apple_demographic_tracks.user_gender]"
   ]
  },
  {
   "cell_type": "code",
   "execution_count": null,
   "metadata": {},
   "outputs": [],
   "source": [
    "apple_demographic_tracks.user_gender.unique()"
   ]
  },
  {
   "cell_type": "markdown",
   "metadata": {},
   "source": [
    "#### Getting together Spotify playlist demographics with apple demographics and our top80 catalogue artists' rep"
   ]
  },
  {
   "cell_type": "code",
   "execution_count": null,
   "metadata": {},
   "outputs": [],
   "source": [
    "df_all = pd.merge(sp_demographics,apple_demographic_tracks, on = ['user_gender', 'user_age_group'])\n",
    "df_all.head()"
   ]
  },
  {
   "cell_type": "code",
   "execution_count": null,
   "metadata": {},
   "outputs": [],
   "source": [
    "df_all.shape"
   ]
  },
  {
   "cell_type": "code",
   "execution_count": null,
   "metadata": {},
   "outputs": [],
   "source": [
    "df_all.to_csv('df_all.csv', sep='\\t')"
   ]
  },
  {
   "cell_type": "code",
   "execution_count": 4,
   "metadata": {},
   "outputs": [
    {
     "name": "stderr",
     "output_type": "stream",
     "text": [
      "/usr/local/lib/python3.7/site-packages/numpy/lib/arraysetops.py:569: FutureWarning: elementwise comparison failed; returning scalar instead, but in the future will perform elementwise comparison\n",
      "  mask |= (ar1 == a)\n"
     ]
    }
   ],
   "source": [
    "df_all = pd.read_csv('df_all.csv', sep='\\t', index_col='Unnamed: 0')"
   ]
  },
  {
   "cell_type": "code",
   "execution_count": 5,
   "metadata": {},
   "outputs": [
    {
     "data": {
      "text/html": [
       "<div>\n",
       "<style scoped>\n",
       "    .dataframe tbody tr th:only-of-type {\n",
       "        vertical-align: middle;\n",
       "    }\n",
       "\n",
       "    .dataframe tbody tr th {\n",
       "        vertical-align: top;\n",
       "    }\n",
       "\n",
       "    .dataframe thead th {\n",
       "        text-align: right;\n",
       "    }\n",
       "</style>\n",
       "<table border=\"1\" class=\"dataframe\">\n",
       "  <thead>\n",
       "    <tr style=\"text-align: right;\">\n",
       "      <th></th>\n",
       "      <th>playlist_id</th>\n",
       "      <th>playlist_name</th>\n",
       "      <th>user_gender</th>\n",
       "      <th>user_age_group</th>\n",
       "      <th>streams</th>\n",
       "      <th>listeners</th>\n",
       "      <th>rank_streams</th>\n",
       "      <th>artist_id</th>\n",
       "      <th>isrc</th>\n",
       "      <th>title</th>\n",
       "      <th>artist_name</th>\n",
       "      <th>artist_rank</th>\n",
       "      <th>listener_count</th>\n",
       "      <th>stream_count</th>\n",
       "    </tr>\n",
       "  </thead>\n",
       "  <tbody>\n",
       "    <tr>\n",
       "      <th>0</th>\n",
       "      <td>37i9dQZF1DX1OY2Lp0bIPp</td>\n",
       "      <td>#MondayMotivation</td>\n",
       "      <td>female</td>\n",
       "      <td>25-34</td>\n",
       "      <td>595940</td>\n",
       "      <td>36506</td>\n",
       "      <td>1</td>\n",
       "      <td>159260351</td>\n",
       "      <td>GBUM70900581</td>\n",
       "      <td>Should've Said No(International Mix)</td>\n",
       "      <td>Taylor Swift</td>\n",
       "      <td>3</td>\n",
       "      <td>7117</td>\n",
       "      <td>8204</td>\n",
       "    </tr>\n",
       "    <tr>\n",
       "      <th>1</th>\n",
       "      <td>37i9dQZF1DX1OY2Lp0bIPp</td>\n",
       "      <td>#MondayMotivation</td>\n",
       "      <td>female</td>\n",
       "      <td>25-34</td>\n",
       "      <td>595940</td>\n",
       "      <td>36506</td>\n",
       "      <td>1</td>\n",
       "      <td>159260351</td>\n",
       "      <td>GBUM70900582</td>\n",
       "      <td>Love Story(Stripped)</td>\n",
       "      <td>Taylor Swift</td>\n",
       "      <td>3</td>\n",
       "      <td>5</td>\n",
       "      <td>5</td>\n",
       "    </tr>\n",
       "    <tr>\n",
       "      <th>2</th>\n",
       "      <td>37i9dQZF1DX1OY2Lp0bIPp</td>\n",
       "      <td>#MondayMotivation</td>\n",
       "      <td>female</td>\n",
       "      <td>25-34</td>\n",
       "      <td>595940</td>\n",
       "      <td>36506</td>\n",
       "      <td>1</td>\n",
       "      <td>159260351</td>\n",
       "      <td>GBUM70900586</td>\n",
       "      <td>Teardrops On My Guitar</td>\n",
       "      <td>Taylor Swift</td>\n",
       "      <td>3</td>\n",
       "      <td>5</td>\n",
       "      <td>6</td>\n",
       "    </tr>\n",
       "    <tr>\n",
       "      <th>3</th>\n",
       "      <td>37i9dQZF1DX1OY2Lp0bIPp</td>\n",
       "      <td>#MondayMotivation</td>\n",
       "      <td>female</td>\n",
       "      <td>25-34</td>\n",
       "      <td>595940</td>\n",
       "      <td>36506</td>\n",
       "      <td>1</td>\n",
       "      <td>159260351</td>\n",
       "      <td>GBUM70900586</td>\n",
       "      <td>Teardrops On My Guitar(International Mix)</td>\n",
       "      <td>Taylor Swift</td>\n",
       "      <td>3</td>\n",
       "      <td>7248</td>\n",
       "      <td>8395</td>\n",
       "    </tr>\n",
       "    <tr>\n",
       "      <th>4</th>\n",
       "      <td>37i9dQZF1DX1OY2Lp0bIPp</td>\n",
       "      <td>#MondayMotivation</td>\n",
       "      <td>female</td>\n",
       "      <td>25-34</td>\n",
       "      <td>595940</td>\n",
       "      <td>36506</td>\n",
       "      <td>1</td>\n",
       "      <td>159260351</td>\n",
       "      <td>GBUM71026563</td>\n",
       "      <td>Mine</td>\n",
       "      <td>Taylor Swift</td>\n",
       "      <td>3</td>\n",
       "      <td>7826</td>\n",
       "      <td>9267</td>\n",
       "    </tr>\n",
       "  </tbody>\n",
       "</table>\n",
       "</div>"
      ],
      "text/plain": [
       "              playlist_id      playlist_name user_gender user_age_group  \\\n",
       "0  37i9dQZF1DX1OY2Lp0bIPp  #MondayMotivation      female          25-34   \n",
       "1  37i9dQZF1DX1OY2Lp0bIPp  #MondayMotivation      female          25-34   \n",
       "2  37i9dQZF1DX1OY2Lp0bIPp  #MondayMotivation      female          25-34   \n",
       "3  37i9dQZF1DX1OY2Lp0bIPp  #MondayMotivation      female          25-34   \n",
       "4  37i9dQZF1DX1OY2Lp0bIPp  #MondayMotivation      female          25-34   \n",
       "\n",
       "   streams  listeners  rank_streams  artist_id          isrc  \\\n",
       "0   595940      36506             1  159260351  GBUM70900581   \n",
       "1   595940      36506             1  159260351  GBUM70900582   \n",
       "2   595940      36506             1  159260351  GBUM70900586   \n",
       "3   595940      36506             1  159260351  GBUM70900586   \n",
       "4   595940      36506             1  159260351  GBUM71026563   \n",
       "\n",
       "                                       title   artist_name  artist_rank  \\\n",
       "0       Should've Said No(International Mix)  Taylor Swift            3   \n",
       "1                       Love Story(Stripped)  Taylor Swift            3   \n",
       "2                     Teardrops On My Guitar  Taylor Swift            3   \n",
       "3  Teardrops On My Guitar(International Mix)  Taylor Swift            3   \n",
       "4                                       Mine  Taylor Swift            3   \n",
       "\n",
       "   listener_count  stream_count  \n",
       "0            7117          8204  \n",
       "1               5             5  \n",
       "2               5             6  \n",
       "3            7248          8395  \n",
       "4            7826          9267  "
      ]
     },
     "execution_count": 5,
     "metadata": {},
     "output_type": "execute_result"
    }
   ],
   "source": [
    "df_all.head()"
   ]
  },
  {
   "cell_type": "code",
   "execution_count": null,
   "metadata": {},
   "outputs": [
    {
     "name": "stderr",
     "output_type": "stream",
     "text": [
      "\r",
      "0it [00:00, ?it/s]"
     ]
    }
   ],
   "source": [
    "df_all.to_gbq(destination_table='playlist_pitching_analytics.apple_suggestions', project_id='umg-comm-tech-dev',\n",
    "             if_exists='replace')"
   ]
  },
  {
   "cell_type": "markdown",
   "metadata": {},
   "source": [
    "#### Now checking which of these tracks and artists are already in those respective Spotify playlists"
   ]
  },
  {
   "cell_type": "code",
   "execution_count": null,
   "metadata": {},
   "outputs": [],
   "source": [
    "check_track_listings = \"\"\"\n",
    "SELECT\n",
    "  playlist_id,\n",
    "  track_artist,\n",
    "  track_title,\n",
    "  isrc\n",
    "FROM\n",
    "  `umg-edw.spotify.playlist_track_history`\n",
    "WHERE\n",
    "  playlist_date >= DATE_SUB(CURRENT_DATE(), INTERVAL 180 DAY)\n",
    "  AND playlist_date < CURRENT_DATE()\n",
    "  AND playlist_id IN (\n",
    "  SELECT\n",
    "    playlist_id\n",
    "  FROM\n",
    "    `umg-comm-tech-dev.playlist_pitching_analytics.top_browse_uk_playlists`\n",
    "  GROUP BY\n",
    "    1)\n",
    "GROUP BY\n",
    "  playlist_id,\n",
    "  track_artist,\n",
    "  track_title,\n",
    "  isrc\n",
    "\"\"\""
   ]
  },
  {
   "cell_type": "code",
   "execution_count": null,
   "metadata": {},
   "outputs": [],
   "source": [
    "track_listings = gbq.read_gbq(check_track_listings, project_id='umg-comm-tech-dev', dialect='standard')\n",
    "track_listings['isrc_in_playlist'] = 1\n",
    "track_listings.head()"
   ]
  },
  {
   "cell_type": "code",
   "execution_count": null,
   "metadata": {},
   "outputs": [],
   "source": [
    "df_all_tracks = pd.merge(df_all, track_listings, on=['playlist_id','isrc'], how='left')\n",
    "df_all_tracks['isrc_in_playlist'] = df_all_tracks.isrc_in_playlist.fillna(int(0))\n",
    "df_all_tracks.head()"
   ]
  },
  {
   "cell_type": "code",
   "execution_count": null,
   "metadata": {},
   "outputs": [],
   "source": [
    "by_pl_art = df_all_tracks.groupby(by=['playlist_id','artist_name']).isrc_in_playlist.max()\n",
    "df_pl_art = pd.DataFrame(by_pl_art).reset_index()\n",
    "df_pl_art.columns = ['playlist_id','artist_name','artist_in_playlist']\n",
    "df_pl_art.head()"
   ]
  },
  {
   "cell_type": "code",
   "execution_count": null,
   "metadata": {},
   "outputs": [],
   "source": [
    "df_pl_art[df_pl_art.playlist_id=='0ApdHY8K71F9WrIWbgiI2G']"
   ]
  },
  {
   "cell_type": "code",
   "execution_count": null,
   "metadata": {},
   "outputs": [],
   "source": [
    "df_final = pd.merge(df_all_tracks, df_pl_art, on=['playlist_id','artist_name'], how='left')\n",
    "df_final.head()"
   ]
  },
  {
   "cell_type": "code",
   "execution_count": null,
   "metadata": {},
   "outputs": [],
   "source": [
    "df_final[(df_final.playlist_id=='0ApdHY8K71F9WrIWbgiI2G')&(df_final.artist_name==\"The Beatles\")]"
   ]
  },
  {
   "cell_type": "code",
   "execution_count": null,
   "metadata": {},
   "outputs": [],
   "source": [
    "df_final.to_gbq(destination_table='playlist_pitching_analytics.final_apple_suggestions', project_id='umg-comm-tech-dev',\n",
    "             if_exists='replace')"
   ]
  },
  {
   "cell_type": "markdown",
   "metadata": {},
   "source": [
    "### And now over to the dashboard!\n",
    "![](https://media.giphy.com/media/236WrWu95GphLreE2i/giphy.gif)"
   ]
  },
  {
   "cell_type": "code",
   "execution_count": null,
   "metadata": {},
   "outputs": [],
   "source": []
  }
 ],
 "metadata": {
  "kernelspec": {
   "display_name": "Python 3",
   "language": "python",
   "name": "python3"
  },
  "language_info": {
   "codemirror_mode": {
    "name": "ipython",
    "version": 3
   },
   "file_extension": ".py",
   "mimetype": "text/x-python",
   "name": "python",
   "nbconvert_exporter": "python",
   "pygments_lexer": "ipython3",
   "version": "3.7.3"
  }
 },
 "nbformat": 4,
 "nbformat_minor": 2
}
