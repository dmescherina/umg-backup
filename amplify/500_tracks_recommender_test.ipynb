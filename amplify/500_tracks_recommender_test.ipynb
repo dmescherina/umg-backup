{
 "cells": [
  {
   "cell_type": "code",
   "execution_count": 17,
   "metadata": {},
   "outputs": [],
   "source": [
    "import numpy as np\n",
    "import pandas as pd\n",
    "\n",
    "import implicit\n",
    "\n",
    "from google.cloud import storage\n",
    "\n",
    "from pandas.io import gbq\n",
    "\n",
    "import pickle"
   ]
  },
  {
   "cell_type": "code",
   "execution_count": 3,
   "metadata": {},
   "outputs": [],
   "source": [
    "#client = storage.Client(project='umg-comm-tech-dev')\n",
    "#bucket = client.get_bucket('umg-comm-tech-dev')"
   ]
  },
  {
   "cell_type": "code",
   "execution_count": 4,
   "metadata": {},
   "outputs": [],
   "source": [
    "class MacOSFile(object):\n",
    "\n",
    "    def __init__(self, f):\n",
    "        self.f = f\n",
    "\n",
    "    def __getattr__(self, item):\n",
    "        return getattr(self.f, item)\n",
    "\n",
    "    def read(self, n):\n",
    "        # print(\"reading total_bytes=%s\" % n, flush=True)\n",
    "        if n >= (1 << 31):\n",
    "            buffer = bytearray(n)\n",
    "            idx = 0\n",
    "            while idx < n:\n",
    "                batch_size = min(n - idx, 1 << 31 - 1)\n",
    "                # print(\"reading bytes [%s,%s)...\" % (idx, idx + batch_size), end=\"\", flush=True)\n",
    "                buffer[idx:idx + batch_size] = self.f.read(batch_size)\n",
    "                # print(\"done.\", flush=True)\n",
    "                idx += batch_size\n",
    "            return buffer\n",
    "        return self.f.read(n)\n",
    "\n",
    "    def write(self, buffer):\n",
    "        n = len(buffer)\n",
    "        print(\"writing total_bytes=%s...\" % n, flush=True)\n",
    "        idx = 0\n",
    "        while idx < n:\n",
    "            batch_size = min(n - idx, 1 << 31 - 1)\n",
    "            print(\"writing bytes [%s, %s)... \" % (idx, idx + batch_size), end=\"\", flush=True)\n",
    "            self.f.write(buffer[idx:idx + batch_size])\n",
    "            print(\"done.\", flush=True)\n",
    "            idx += batch_size\n",
    "\n",
    "\n",
    "def pickle_dump(obj, file_path):\n",
    "    with open(file_path, \"wb\") as f:\n",
    "        return pickle.dump(obj, MacOSFile(f), protocol=pickle.HIGHEST_PROTOCOL)\n",
    "\n",
    "\n",
    "def pickle_load(file_path):\n",
    "    with open(file_path, \"rb\") as f:\n",
    "        return pickle.load(MacOSFile(f))"
   ]
  },
  {
   "cell_type": "code",
   "execution_count": 8,
   "metadata": {},
   "outputs": [],
   "source": [
    "model = pickle_load('/Users/meshchd/Downloads/saved_model.pkl')"
   ]
  },
  {
   "cell_type": "code",
   "execution_count": 9,
   "metadata": {},
   "outputs": [],
   "source": [
    "df = pd.read_csv('/Users/meshchd/Downloads/500UMeISRCs.csv')"
   ]
  },
  {
   "cell_type": "code",
   "execution_count": 10,
   "metadata": {},
   "outputs": [
    {
     "data": {
      "text/html": [
       "<div>\n",
       "<style scoped>\n",
       "    .dataframe tbody tr th:only-of-type {\n",
       "        vertical-align: middle;\n",
       "    }\n",
       "\n",
       "    .dataframe tbody tr th {\n",
       "        vertical-align: top;\n",
       "    }\n",
       "\n",
       "    .dataframe thead th {\n",
       "        text-align: right;\n",
       "    }\n",
       "</style>\n",
       "<table border=\"1\" class=\"dataframe\">\n",
       "  <thead>\n",
       "    <tr style=\"text-align: right;\">\n",
       "      <th></th>\n",
       "      <th>isrc</th>\n",
       "      <th>artist</th>\n",
       "      <th>title</th>\n",
       "    </tr>\n",
       "  </thead>\n",
       "  <tbody>\n",
       "    <tr>\n",
       "      <th>0</th>\n",
       "      <td>GBAAA8500070</td>\n",
       "      <td>Simple Minds</td>\n",
       "      <td>Alive And Kicking</td>\n",
       "    </tr>\n",
       "    <tr>\n",
       "      <th>1</th>\n",
       "      <td>USUG11401961</td>\n",
       "      <td>Madonna</td>\n",
       "      <td>Bitch I'm Madonna</td>\n",
       "    </tr>\n",
       "    <tr>\n",
       "      <th>2</th>\n",
       "      <td>GBUM71028665</td>\n",
       "      <td>James Blake</td>\n",
       "      <td>Limit To Your Love</td>\n",
       "    </tr>\n",
       "    <tr>\n",
       "      <th>3</th>\n",
       "      <td>USCH38400069</td>\n",
       "      <td>Pat Benatar</td>\n",
       "      <td>Shadows Of The Night</td>\n",
       "    </tr>\n",
       "    <tr>\n",
       "      <th>4</th>\n",
       "      <td>USPR36905204</td>\n",
       "      <td>The Velvet Underground</td>\n",
       "      <td>Pale Blue Eyes</td>\n",
       "    </tr>\n",
       "  </tbody>\n",
       "</table>\n",
       "</div>"
      ],
      "text/plain": [
       "           isrc                  artist                 title\n",
       "0  GBAAA8500070            Simple Minds     Alive And Kicking\n",
       "1  USUG11401961                 Madonna     Bitch I'm Madonna\n",
       "2  GBUM71028665             James Blake    Limit To Your Love\n",
       "3  USCH38400069             Pat Benatar  Shadows Of The Night\n",
       "4  USPR36905204  The Velvet Underground        Pale Blue Eyes"
      ]
     },
     "execution_count": 10,
     "metadata": {},
     "output_type": "execute_result"
    }
   ],
   "source": [
    "df.head()"
   ]
  },
  {
   "cell_type": "code",
   "execution_count": 11,
   "metadata": {},
   "outputs": [
    {
     "name": "stderr",
     "output_type": "stream",
     "text": [
      "1it [00:05,  5.35s/it]\n"
     ]
    }
   ],
   "source": [
    "df.to_gbq('amplify.ume500_isrcs', project_id='umg-comm-tech-dev', if_exists='replace')"
   ]
  },
  {
   "cell_type": "code",
   "execution_count": 12,
   "metadata": {},
   "outputs": [],
   "source": [
    "get_existing_tags = \"\"\"\n",
    "SELECT\n",
    "  isrc,\n",
    "  confidence,\n",
    "  path,\n",
    "  source,\n",
    "  taxonomy_node_id,\n",
    "  value\n",
    "FROM\n",
    "  `umg-metadata.ircam.amplify_tem_v3_3_v`\n",
    "WHERE\n",
    "  isrc IN (\n",
    "  SELECT\n",
    "    isrc\n",
    "  FROM\n",
    "    `umg-comm-tech-dev.amplify.ume500_isrcs`\n",
    "  GROUP BY\n",
    "    isrc)\n",
    "\"\"\""
   ]
  },
  {
   "cell_type": "code",
   "execution_count": 13,
   "metadata": {},
   "outputs": [],
   "source": [
    "tags = gbq.read_gbq(get_existing_tags, project_id='umg-comm-tech-dev', dialect='standard')"
   ]
  },
  {
   "cell_type": "code",
   "execution_count": 14,
   "metadata": {},
   "outputs": [
    {
     "data": {
      "text/html": [
       "<div>\n",
       "<style scoped>\n",
       "    .dataframe tbody tr th:only-of-type {\n",
       "        vertical-align: middle;\n",
       "    }\n",
       "\n",
       "    .dataframe tbody tr th {\n",
       "        vertical-align: top;\n",
       "    }\n",
       "\n",
       "    .dataframe thead th {\n",
       "        text-align: right;\n",
       "    }\n",
       "</style>\n",
       "<table border=\"1\" class=\"dataframe\">\n",
       "  <thead>\n",
       "    <tr style=\"text-align: right;\">\n",
       "      <th></th>\n",
       "      <th>isrc</th>\n",
       "      <th>confidence</th>\n",
       "      <th>path</th>\n",
       "      <th>source</th>\n",
       "      <th>taxonomy_node_id</th>\n",
       "      <th>value</th>\n",
       "    </tr>\n",
       "  </thead>\n",
       "  <tbody>\n",
       "    <tr>\n",
       "      <th>0</th>\n",
       "      <td>GRE018000028</td>\n",
       "      <td>1.000000</td>\n",
       "      <td>Anatomy/Harmony/Root</td>\n",
       "      <td>Auto</td>\n",
       "      <td>acf5ddcf-0890-4647-8823-16522e66b541</td>\n",
       "      <td>A</td>\n",
       "    </tr>\n",
       "    <tr>\n",
       "      <th>1</th>\n",
       "      <td>GRE018000028</td>\n",
       "      <td>0.544659</td>\n",
       "      <td>Energy/Emotion</td>\n",
       "      <td>Auto</td>\n",
       "      <td>3adcefb7-b1c1-4f4d-a40c-4032c8d35aca</td>\n",
       "      <td>Negative</td>\n",
       "    </tr>\n",
       "    <tr>\n",
       "      <th>2</th>\n",
       "      <td>GRE018000028</td>\n",
       "      <td>0.544659</td>\n",
       "      <td>Energy/Emotion/Negative</td>\n",
       "      <td>Auto</td>\n",
       "      <td>77822969-740e-4f56-9ea0-09de404dc071</td>\n",
       "      <td>Sad</td>\n",
       "    </tr>\n",
       "    <tr>\n",
       "      <th>3</th>\n",
       "      <td>GRE018000028</td>\n",
       "      <td>1.000000</td>\n",
       "      <td>Energy/Intensity/Medium</td>\n",
       "      <td>Manual</td>\n",
       "      <td>0b5909f2-c61f-43f2-a51d-a473fb01a768</td>\n",
       "      <td>Medium Intensity</td>\n",
       "    </tr>\n",
       "    <tr>\n",
       "      <th>4</th>\n",
       "      <td>GRE018000028</td>\n",
       "      <td>0.631046</td>\n",
       "      <td>Performance/Ensemble/Ensemble Configuration</td>\n",
       "      <td>Auto</td>\n",
       "      <td>6df35aeb-4c6f-448e-8d14-1967aa24a098</td>\n",
       "      <td>Voice &amp; Accompaniment</td>\n",
       "    </tr>\n",
       "  </tbody>\n",
       "</table>\n",
       "</div>"
      ],
      "text/plain": [
       "           isrc  confidence                                         path  \\\n",
       "0  GRE018000028    1.000000                         Anatomy/Harmony/Root   \n",
       "1  GRE018000028    0.544659                               Energy/Emotion   \n",
       "2  GRE018000028    0.544659                      Energy/Emotion/Negative   \n",
       "3  GRE018000028    1.000000                      Energy/Intensity/Medium   \n",
       "4  GRE018000028    0.631046  Performance/Ensemble/Ensemble Configuration   \n",
       "\n",
       "   source                      taxonomy_node_id                  value  \n",
       "0    Auto  acf5ddcf-0890-4647-8823-16522e66b541                      A  \n",
       "1    Auto  3adcefb7-b1c1-4f4d-a40c-4032c8d35aca               Negative  \n",
       "2    Auto  77822969-740e-4f56-9ea0-09de404dc071                    Sad  \n",
       "3  Manual  0b5909f2-c61f-43f2-a51d-a473fb01a768       Medium Intensity  \n",
       "4    Auto  6df35aeb-4c6f-448e-8d14-1967aa24a098  Voice & Accompaniment  "
      ]
     },
     "execution_count": 14,
     "metadata": {},
     "output_type": "execute_result"
    }
   ],
   "source": [
    "tags.head()"
   ]
  },
  {
   "cell_type": "code",
   "execution_count": 15,
   "metadata": {},
   "outputs": [
    {
     "data": {
      "text/html": [
       "<div>\n",
       "<style scoped>\n",
       "    .dataframe tbody tr th:only-of-type {\n",
       "        vertical-align: middle;\n",
       "    }\n",
       "\n",
       "    .dataframe tbody tr th {\n",
       "        vertical-align: top;\n",
       "    }\n",
       "\n",
       "    .dataframe thead th {\n",
       "        text-align: right;\n",
       "    }\n",
       "</style>\n",
       "<table border=\"1\" class=\"dataframe\">\n",
       "  <thead>\n",
       "    <tr style=\"text-align: right;\">\n",
       "      <th></th>\n",
       "      <th>isrc</th>\n",
       "      <th>confidence</th>\n",
       "      <th>path</th>\n",
       "      <th>source</th>\n",
       "      <th>taxonomy_node_id</th>\n",
       "      <th>value</th>\n",
       "    </tr>\n",
       "  </thead>\n",
       "  <tbody>\n",
       "    <tr>\n",
       "      <th>count</th>\n",
       "      <td>30518</td>\n",
       "      <td>30518.000000</td>\n",
       "      <td>30518</td>\n",
       "      <td>30518</td>\n",
       "      <td>30518</td>\n",
       "      <td>30518</td>\n",
       "    </tr>\n",
       "    <tr>\n",
       "      <th>unique</th>\n",
       "      <td>491</td>\n",
       "      <td>NaN</td>\n",
       "      <td>100</td>\n",
       "      <td>2</td>\n",
       "      <td>256</td>\n",
       "      <td>733</td>\n",
       "    </tr>\n",
       "    <tr>\n",
       "      <th>top</th>\n",
       "      <td>GBF075820000</td>\n",
       "      <td>NaN</td>\n",
       "      <td>Performance/Ensemble/Ensemble Section</td>\n",
       "      <td>Auto</td>\n",
       "      <td>ca8d3fea-e3cc-4c38-abd3-0a32e49a311f</td>\n",
       "      <td>Percussion</td>\n",
       "    </tr>\n",
       "    <tr>\n",
       "      <th>freq</th>\n",
       "      <td>274</td>\n",
       "      <td>NaN</td>\n",
       "      <td>4180</td>\n",
       "      <td>29948</td>\n",
       "      <td>1062</td>\n",
       "      <td>1775</td>\n",
       "    </tr>\n",
       "    <tr>\n",
       "      <th>mean</th>\n",
       "      <td>NaN</td>\n",
       "      <td>0.852100</td>\n",
       "      <td>NaN</td>\n",
       "      <td>NaN</td>\n",
       "      <td>NaN</td>\n",
       "      <td>NaN</td>\n",
       "    </tr>\n",
       "    <tr>\n",
       "      <th>std</th>\n",
       "      <td>NaN</td>\n",
       "      <td>0.180539</td>\n",
       "      <td>NaN</td>\n",
       "      <td>NaN</td>\n",
       "      <td>NaN</td>\n",
       "      <td>NaN</td>\n",
       "    </tr>\n",
       "    <tr>\n",
       "      <th>min</th>\n",
       "      <td>NaN</td>\n",
       "      <td>0.301012</td>\n",
       "      <td>NaN</td>\n",
       "      <td>NaN</td>\n",
       "      <td>NaN</td>\n",
       "      <td>NaN</td>\n",
       "    </tr>\n",
       "    <tr>\n",
       "      <th>25%</th>\n",
       "      <td>NaN</td>\n",
       "      <td>0.732352</td>\n",
       "      <td>NaN</td>\n",
       "      <td>NaN</td>\n",
       "      <td>NaN</td>\n",
       "      <td>NaN</td>\n",
       "    </tr>\n",
       "    <tr>\n",
       "      <th>50%</th>\n",
       "      <td>NaN</td>\n",
       "      <td>0.939958</td>\n",
       "      <td>NaN</td>\n",
       "      <td>NaN</td>\n",
       "      <td>NaN</td>\n",
       "      <td>NaN</td>\n",
       "    </tr>\n",
       "    <tr>\n",
       "      <th>75%</th>\n",
       "      <td>NaN</td>\n",
       "      <td>1.000000</td>\n",
       "      <td>NaN</td>\n",
       "      <td>NaN</td>\n",
       "      <td>NaN</td>\n",
       "      <td>NaN</td>\n",
       "    </tr>\n",
       "    <tr>\n",
       "      <th>max</th>\n",
       "      <td>NaN</td>\n",
       "      <td>1.000000</td>\n",
       "      <td>NaN</td>\n",
       "      <td>NaN</td>\n",
       "      <td>NaN</td>\n",
       "      <td>NaN</td>\n",
       "    </tr>\n",
       "  </tbody>\n",
       "</table>\n",
       "</div>"
      ],
      "text/plain": [
       "                isrc    confidence                                   path  \\\n",
       "count          30518  30518.000000                                  30518   \n",
       "unique           491           NaN                                    100   \n",
       "top     GBF075820000           NaN  Performance/Ensemble/Ensemble Section   \n",
       "freq             274           NaN                                   4180   \n",
       "mean             NaN      0.852100                                    NaN   \n",
       "std              NaN      0.180539                                    NaN   \n",
       "min              NaN      0.301012                                    NaN   \n",
       "25%              NaN      0.732352                                    NaN   \n",
       "50%              NaN      0.939958                                    NaN   \n",
       "75%              NaN      1.000000                                    NaN   \n",
       "max              NaN      1.000000                                    NaN   \n",
       "\n",
       "       source                      taxonomy_node_id       value  \n",
       "count   30518                                 30518       30518  \n",
       "unique      2                                   256         733  \n",
       "top      Auto  ca8d3fea-e3cc-4c38-abd3-0a32e49a311f  Percussion  \n",
       "freq    29948                                  1062        1775  \n",
       "mean      NaN                                   NaN         NaN  \n",
       "std       NaN                                   NaN         NaN  \n",
       "min       NaN                                   NaN         NaN  \n",
       "25%       NaN                                   NaN         NaN  \n",
       "50%       NaN                                   NaN         NaN  \n",
       "75%       NaN                                   NaN         NaN  \n",
       "max       NaN                                   NaN         NaN  "
      ]
     },
     "execution_count": 15,
     "metadata": {},
     "output_type": "execute_result"
    }
   ],
   "source": [
    "tags.describe(include='all')"
   ]
  },
  {
   "cell_type": "code",
   "execution_count": 16,
   "metadata": {},
   "outputs": [
    {
     "data": {
      "text/plain": [
       "count    491.000000\n",
       "mean      62.154786\n",
       "std       26.924090\n",
       "min        6.000000\n",
       "25%       50.000000\n",
       "50%       58.000000\n",
       "75%       84.000000\n",
       "max      274.000000\n",
       "Name: value, dtype: float64"
      ]
     },
     "execution_count": 16,
     "metadata": {},
     "output_type": "execute_result"
    }
   ],
   "source": [
    "tags.groupby(by='isrc').value.count().describe()"
   ]
  },
  {
   "cell_type": "code",
   "execution_count": 30,
   "metadata": {},
   "outputs": [],
   "source": [
    "tags_in_recommender = [isrc if isrc in model.isrcs else '' for isrc in tags.isrc.unique()]"
   ]
  },
  {
   "cell_type": "code",
   "execution_count": 31,
   "metadata": {},
   "outputs": [],
   "source": [
    "tags_in_recommender = list(set(tags_in_recommender))"
   ]
  },
  {
   "cell_type": "code",
   "execution_count": 32,
   "metadata": {},
   "outputs": [
    {
     "data": {
      "text/plain": [
       "168"
      ]
     },
     "execution_count": 32,
     "metadata": {},
     "output_type": "execute_result"
    }
   ],
   "source": [
    "len(tags_in_recommender)"
   ]
  },
  {
   "cell_type": "code",
   "execution_count": 71,
   "metadata": {},
   "outputs": [
    {
     "data": {
      "text/plain": [
       "'GBAYE8200083'"
      ]
     },
     "execution_count": 71,
     "metadata": {},
     "output_type": "execute_result"
    }
   ],
   "source": [
    "tags_in_recommender[1]"
   ]
  },
  {
   "cell_type": "code",
   "execution_count": null,
   "metadata": {},
   "outputs": [],
   "source": []
  },
  {
   "cell_type": "code",
   "execution_count": 91,
   "metadata": {},
   "outputs": [],
   "source": [
    "def get_similar_items(seed_isrc, n=100):\n",
    "    \n",
    "    item_id = model.isrcs.index(seed_isrc)\n",
    "\n",
    "    # Get the item row for the isrc\n",
    "    item_vec = model.isrc_vecs[item_id].T\n",
    "\n",
    "    # Calculate the similarity score\n",
    "    # and select the top 100 most similar.\n",
    "    scores = model.isrc_vecs.dot(item_vec).reshape(1,-1)[0]\n",
    "    top_100 = np.argsort(scores)[::-1][:n]\n",
    "    \n",
    "    similar_isrcs = []\n",
    "    artists = []\n",
    "    names = []\n",
    "    isrc_scores = []\n",
    "    \n",
    "    for idx in list(top_100):\n",
    "\n",
    "        isrc = model.isrcs[idx]\n",
    "        lookup = model.isrc_lookup[model.isrc_lookup.isrc==isrc].iloc[0]\n",
    "    \n",
    "        similar_isrcs.append(isrc)\n",
    "        artists.append(lookup[1])\n",
    "        names.append(lookup[2])\n",
    "        isrc_scores.append(scores[idx])\n",
    "        \n",
    "    similar = pd.DataFrame({'isrc': similar_isrcs, 'artist': artists, 'track_name': names, 'score': isrc_scores})\n",
    "    similar['seed_isrc']=seed_isrc\n",
    "    \n",
    "    return similar"
   ]
  },
  {
   "cell_type": "code",
   "execution_count": 93,
   "metadata": {},
   "outputs": [],
   "source": [
    "df = pd.DataFrame(columns = ['isrc','artist','track_name','score','seed_isrc'])\n",
    "\n",
    "for isrc in tags_in_recommender[1:]:\n",
    "    df=pd.concat([df,get_similar_items(isrc)], ignore_index=True)"
   ]
  },
  {
   "cell_type": "code",
   "execution_count": 94,
   "metadata": {},
   "outputs": [
    {
     "data": {
      "text/plain": [
       "(16700, 5)"
      ]
     },
     "execution_count": 94,
     "metadata": {},
     "output_type": "execute_result"
    }
   ],
   "source": [
    "df.shape"
   ]
  },
  {
   "cell_type": "code",
   "execution_count": 95,
   "metadata": {},
   "outputs": [
    {
     "data": {
      "text/html": [
       "<div>\n",
       "<style scoped>\n",
       "    .dataframe tbody tr th:only-of-type {\n",
       "        vertical-align: middle;\n",
       "    }\n",
       "\n",
       "    .dataframe tbody tr th {\n",
       "        vertical-align: top;\n",
       "    }\n",
       "\n",
       "    .dataframe thead th {\n",
       "        text-align: right;\n",
       "    }\n",
       "</style>\n",
       "<table border=\"1\" class=\"dataframe\">\n",
       "  <thead>\n",
       "    <tr style=\"text-align: right;\">\n",
       "      <th></th>\n",
       "      <th>isrc</th>\n",
       "      <th>artist</th>\n",
       "      <th>track_name</th>\n",
       "      <th>score</th>\n",
       "      <th>seed_isrc</th>\n",
       "    </tr>\n",
       "  </thead>\n",
       "  <tbody>\n",
       "    <tr>\n",
       "      <th>0</th>\n",
       "      <td>GBAYE8200083</td>\n",
       "      <td>Thomas Dolby</td>\n",
       "      <td>She Blinded Me With Science</td>\n",
       "      <td>0.012011</td>\n",
       "      <td>GBAYE8200083</td>\n",
       "    </tr>\n",
       "    <tr>\n",
       "      <th>1</th>\n",
       "      <td>CHD771800006</td>\n",
       "      <td>Alejandro Reyes</td>\n",
       "      <td>Solamente</td>\n",
       "      <td>0.010726</td>\n",
       "      <td>GBAYE8200083</td>\n",
       "    </tr>\n",
       "    <tr>\n",
       "      <th>2</th>\n",
       "      <td>ROARA1700019</td>\n",
       "      <td>Andra</td>\n",
       "      <td>Shukar</td>\n",
       "      <td>0.010030</td>\n",
       "      <td>GBAYE8200083</td>\n",
       "    </tr>\n",
       "    <tr>\n",
       "      <th>3</th>\n",
       "      <td>USSD11900123</td>\n",
       "      <td>Descemer Bueno</td>\n",
       "      <td>Nos Fuimos Lejos (feat. Ece Seçkin &amp; El Micha)...</td>\n",
       "      <td>0.009937</td>\n",
       "      <td>GBAYE8200083</td>\n",
       "    </tr>\n",
       "    <tr>\n",
       "      <th>4</th>\n",
       "      <td>ushm20708304</td>\n",
       "      <td>Emile Pandolfi</td>\n",
       "      <td>Once Upon a December (from Anastasia)</td>\n",
       "      <td>0.009774</td>\n",
       "      <td>GBAYE8200083</td>\n",
       "    </tr>\n",
       "  </tbody>\n",
       "</table>\n",
       "</div>"
      ],
      "text/plain": [
       "           isrc           artist  \\\n",
       "0  GBAYE8200083     Thomas Dolby   \n",
       "1  CHD771800006  Alejandro Reyes   \n",
       "2  ROARA1700019            Andra   \n",
       "3  USSD11900123   Descemer Bueno   \n",
       "4  ushm20708304   Emile Pandolfi   \n",
       "\n",
       "                                          track_name     score     seed_isrc  \n",
       "0                        She Blinded Me With Science  0.012011  GBAYE8200083  \n",
       "1                                          Solamente  0.010726  GBAYE8200083  \n",
       "2                                             Shukar  0.010030  GBAYE8200083  \n",
       "3  Nos Fuimos Lejos (feat. Ece Seçkin & El Micha)...  0.009937  GBAYE8200083  \n",
       "4              Once Upon a December (from Anastasia)  0.009774  GBAYE8200083  "
      ]
     },
     "execution_count": 95,
     "metadata": {},
     "output_type": "execute_result"
    }
   ],
   "source": [
    "df.head()"
   ]
  },
  {
   "cell_type": "code",
   "execution_count": 96,
   "metadata": {},
   "outputs": [
    {
     "name": "stderr",
     "output_type": "stream",
     "text": [
      "1it [00:00,  6.21it/s]\n"
     ]
    }
   ],
   "source": [
    "df.to_gbq('amplify.ume500_100similar', project_id='umg-comm-tech-dev', if_exists='replace')"
   ]
  },
  {
   "cell_type": "code",
   "execution_count": 97,
   "metadata": {},
   "outputs": [],
   "source": [
    "get_existing_tags_similar = \"\"\"\n",
    "SELECT\n",
    "  isrc,\n",
    "  confidence,\n",
    "  path,\n",
    "  source,\n",
    "  taxonomy_node_id,\n",
    "  value\n",
    "FROM\n",
    "  `umg-metadata.ircam.amplify_tem_v3_3_v`\n",
    "WHERE\n",
    "  isrc IN (\n",
    "  SELECT\n",
    "    isrc\n",
    "  FROM\n",
    "    `umg-comm-tech-dev.amplify.ume500_100similar`\n",
    "  GROUP BY\n",
    "    isrc)\n",
    "\"\"\""
   ]
  },
  {
   "cell_type": "code",
   "execution_count": 98,
   "metadata": {},
   "outputs": [],
   "source": [
    "tags_similar = gbq.read_gbq(get_existing_tags_similar, project_id='umg-comm-tech-dev', dialect='standard')"
   ]
  },
  {
   "cell_type": "code",
   "execution_count": 99,
   "metadata": {},
   "outputs": [
    {
     "data": {
      "text/html": [
       "<div>\n",
       "<style scoped>\n",
       "    .dataframe tbody tr th:only-of-type {\n",
       "        vertical-align: middle;\n",
       "    }\n",
       "\n",
       "    .dataframe tbody tr th {\n",
       "        vertical-align: top;\n",
       "    }\n",
       "\n",
       "    .dataframe thead th {\n",
       "        text-align: right;\n",
       "    }\n",
       "</style>\n",
       "<table border=\"1\" class=\"dataframe\">\n",
       "  <thead>\n",
       "    <tr style=\"text-align: right;\">\n",
       "      <th></th>\n",
       "      <th>isrc</th>\n",
       "      <th>confidence</th>\n",
       "      <th>path</th>\n",
       "      <th>source</th>\n",
       "      <th>taxonomy_node_id</th>\n",
       "      <th>value</th>\n",
       "    </tr>\n",
       "  </thead>\n",
       "  <tbody>\n",
       "    <tr>\n",
       "      <th>0</th>\n",
       "      <td>UKG4Y1700048</td>\n",
       "      <td>1.000000</td>\n",
       "      <td>Anatomy/Harmony/Root</td>\n",
       "      <td>Auto</td>\n",
       "      <td>e5d51dc7-8a75-4cd8-8efd-a3f18eddc866</td>\n",
       "      <td>Bb/A#</td>\n",
       "    </tr>\n",
       "    <tr>\n",
       "      <th>1</th>\n",
       "      <td>UKG4Y1700048</td>\n",
       "      <td>0.927146</td>\n",
       "      <td>Genre</td>\n",
       "      <td>Auto</td>\n",
       "      <td>195e1e65-82e9-4a49-96de-fca22301027e</td>\n",
       "      <td>Electronic</td>\n",
       "    </tr>\n",
       "    <tr>\n",
       "      <th>2</th>\n",
       "      <td>QZG4T1900011</td>\n",
       "      <td>1.000000</td>\n",
       "      <td>Anatomy/Harmony/Root</td>\n",
       "      <td>Auto</td>\n",
       "      <td>71fade6b-1c0e-4b10-9ee3-2178a7548c86</td>\n",
       "      <td>G</td>\n",
       "    </tr>\n",
       "    <tr>\n",
       "      <th>3</th>\n",
       "      <td>QZG4T1900011</td>\n",
       "      <td>0.912205</td>\n",
       "      <td>Genre</td>\n",
       "      <td>Auto</td>\n",
       "      <td>3ffa3c14-6b46-4295-9618-77b1de08c9b6</td>\n",
       "      <td>R&amp;B</td>\n",
       "    </tr>\n",
       "    <tr>\n",
       "      <th>4</th>\n",
       "      <td>QZG4T1900011</td>\n",
       "      <td>0.912205</td>\n",
       "      <td>Genre/R&amp;B</td>\n",
       "      <td>Auto</td>\n",
       "      <td>d460dddd-2bf3-434b-81de-86b5a60d285a</td>\n",
       "      <td>Contemporary R&amp;B</td>\n",
       "    </tr>\n",
       "  </tbody>\n",
       "</table>\n",
       "</div>"
      ],
      "text/plain": [
       "           isrc  confidence                  path source  \\\n",
       "0  UKG4Y1700048    1.000000  Anatomy/Harmony/Root   Auto   \n",
       "1  UKG4Y1700048    0.927146                 Genre   Auto   \n",
       "2  QZG4T1900011    1.000000  Anatomy/Harmony/Root   Auto   \n",
       "3  QZG4T1900011    0.912205                 Genre   Auto   \n",
       "4  QZG4T1900011    0.912205             Genre/R&B   Auto   \n",
       "\n",
       "                       taxonomy_node_id             value  \n",
       "0  e5d51dc7-8a75-4cd8-8efd-a3f18eddc866             Bb/A#  \n",
       "1  195e1e65-82e9-4a49-96de-fca22301027e        Electronic  \n",
       "2  71fade6b-1c0e-4b10-9ee3-2178a7548c86                 G  \n",
       "3  3ffa3c14-6b46-4295-9618-77b1de08c9b6               R&B  \n",
       "4  d460dddd-2bf3-434b-81de-86b5a60d285a  Contemporary R&B  "
      ]
     },
     "execution_count": 99,
     "metadata": {},
     "output_type": "execute_result"
    }
   ],
   "source": [
    "tags_similar.head()"
   ]
  },
  {
   "cell_type": "code",
   "execution_count": 101,
   "metadata": {},
   "outputs": [
    {
     "data": {
      "text/plain": [
       "count    1235.000000\n",
       "mean       79.149798\n",
       "std        70.874631\n",
       "min         6.000000\n",
       "25%        50.000000\n",
       "50%        60.000000\n",
       "75%        90.000000\n",
       "max      1118.000000\n",
       "Name: value, dtype: float64"
      ]
     },
     "execution_count": 101,
     "metadata": {},
     "output_type": "execute_result"
    }
   ],
   "source": [
    "tags_similar.groupby(by='isrc').value.count().describe()"
   ]
  },
  {
   "cell_type": "code",
   "execution_count": 103,
   "metadata": {},
   "outputs": [
    {
     "data": {
      "text/html": [
       "<div>\n",
       "<style scoped>\n",
       "    .dataframe tbody tr th:only-of-type {\n",
       "        vertical-align: middle;\n",
       "    }\n",
       "\n",
       "    .dataframe tbody tr th {\n",
       "        vertical-align: top;\n",
       "    }\n",
       "\n",
       "    .dataframe thead th {\n",
       "        text-align: right;\n",
       "    }\n",
       "</style>\n",
       "<table border=\"1\" class=\"dataframe\">\n",
       "  <thead>\n",
       "    <tr style=\"text-align: right;\">\n",
       "      <th></th>\n",
       "      <th>isrc</th>\n",
       "      <th>value</th>\n",
       "    </tr>\n",
       "  </thead>\n",
       "  <tbody>\n",
       "    <tr>\n",
       "      <th>0</th>\n",
       "      <td>ARA730600041</td>\n",
       "      <td>26</td>\n",
       "    </tr>\n",
       "    <tr>\n",
       "      <th>1</th>\n",
       "      <td>ATT259608440</td>\n",
       "      <td>33</td>\n",
       "    </tr>\n",
       "    <tr>\n",
       "      <th>2</th>\n",
       "      <td>ATUM71500361</td>\n",
       "      <td>26</td>\n",
       "    </tr>\n",
       "    <tr>\n",
       "      <th>3</th>\n",
       "      <td>AUAB00050243</td>\n",
       "      <td>30</td>\n",
       "    </tr>\n",
       "    <tr>\n",
       "      <th>4</th>\n",
       "      <td>AUAB00500696</td>\n",
       "      <td>30</td>\n",
       "    </tr>\n",
       "  </tbody>\n",
       "</table>\n",
       "</div>"
      ],
      "text/plain": [
       "           isrc  value\n",
       "0  ARA730600041     26\n",
       "1  ATT259608440     33\n",
       "2  ATUM71500361     26\n",
       "3  AUAB00050243     30\n",
       "4  AUAB00500696     30"
      ]
     },
     "execution_count": 103,
     "metadata": {},
     "output_type": "execute_result"
    }
   ],
   "source": [
    "original_count = pd.DataFrame(tags.groupby(by='isrc').value.nunique()).reset_index()\n",
    "original_count.head()"
   ]
  },
  {
   "cell_type": "code",
   "execution_count": 104,
   "metadata": {},
   "outputs": [
    {
     "data": {
      "text/html": [
       "<div>\n",
       "<style scoped>\n",
       "    .dataframe tbody tr th:only-of-type {\n",
       "        vertical-align: middle;\n",
       "    }\n",
       "\n",
       "    .dataframe tbody tr th {\n",
       "        vertical-align: top;\n",
       "    }\n",
       "\n",
       "    .dataframe thead th {\n",
       "        text-align: right;\n",
       "    }\n",
       "</style>\n",
       "<table border=\"1\" class=\"dataframe\">\n",
       "  <thead>\n",
       "    <tr style=\"text-align: right;\">\n",
       "      <th></th>\n",
       "      <th>isrc</th>\n",
       "      <th>value</th>\n",
       "    </tr>\n",
       "  </thead>\n",
       "  <tbody>\n",
       "    <tr>\n",
       "      <th>0</th>\n",
       "      <td>ARF410600414</td>\n",
       "      <td>30</td>\n",
       "    </tr>\n",
       "    <tr>\n",
       "      <th>1</th>\n",
       "      <td>ATB158500018</td>\n",
       "      <td>18</td>\n",
       "    </tr>\n",
       "    <tr>\n",
       "      <th>2</th>\n",
       "      <td>ATPB51801014</td>\n",
       "      <td>26</td>\n",
       "    </tr>\n",
       "    <tr>\n",
       "      <th>3</th>\n",
       "      <td>AUAP08200012</td>\n",
       "      <td>30</td>\n",
       "    </tr>\n",
       "    <tr>\n",
       "      <th>4</th>\n",
       "      <td>AUBEC1601210</td>\n",
       "      <td>23</td>\n",
       "    </tr>\n",
       "  </tbody>\n",
       "</table>\n",
       "</div>"
      ],
      "text/plain": [
       "           isrc  value\n",
       "0  ARF410600414     30\n",
       "1  ATB158500018     18\n",
       "2  ATPB51801014     26\n",
       "3  AUAP08200012     30\n",
       "4  AUBEC1601210     23"
      ]
     },
     "execution_count": 104,
     "metadata": {},
     "output_type": "execute_result"
    }
   ],
   "source": [
    "similar_count = pd.DataFrame(tags_similar.groupby(by='isrc').value.nunique()).reset_index()\n",
    "similar_count.head()"
   ]
  },
  {
   "cell_type": "code",
   "execution_count": null,
   "metadata": {},
   "outputs": [],
   "source": []
  }
 ],
 "metadata": {
  "kernelspec": {
   "display_name": "Python 3",
   "language": "python",
   "name": "python3"
  },
  "language_info": {
   "codemirror_mode": {
    "name": "ipython",
    "version": 3
   },
   "file_extension": ".py",
   "mimetype": "text/x-python",
   "name": "python",
   "nbconvert_exporter": "python",
   "pygments_lexer": "ipython3",
   "version": "3.7.3"
  }
 },
 "nbformat": 4,
 "nbformat_minor": 2
}
