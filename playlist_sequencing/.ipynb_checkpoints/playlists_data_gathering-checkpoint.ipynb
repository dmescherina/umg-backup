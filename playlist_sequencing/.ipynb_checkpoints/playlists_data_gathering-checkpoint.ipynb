{
 "cells": [
  {
   "cell_type": "code",
   "execution_count": 1,
   "metadata": {},
   "outputs": [],
   "source": [
    "import pandas as pd\n",
    "from pandas.io import gbq"
   ]
  },
  {
   "cell_type": "markdown",
   "metadata": {},
   "source": [
    "## Universe of playlists"
   ]
  },
  {
   "cell_type": "code",
   "execution_count": 2,
   "metadata": {},
   "outputs": [],
   "source": [
    "## All Spotify playlists\n",
    "\n",
    "get_playlists_sql = \"\"\"\n",
    "WITH\n",
    "  tracks AS (\n",
    "  SELECT\n",
    "    playlist_id,\n",
    "    playlist_uri,\n",
    "    artist_uri,\n",
    "    album_uri,\n",
    "    track_position\n",
    "  FROM\n",
    "    `umg-partner.spotify.playlist_track_history`\n",
    "  WHERE\n",
    "    _PARTITIONTIME >= TIMESTAMP(DATE_SUB(CURRENT_DATE(), INTERVAL 367 DAY))\n",
    "    AND _PARTITIONTIME < TIMESTAMP(DATE_SUB(CURRENT_DATE(), INTERVAL 2 DAY))),\n",
    "  playlists AS (\n",
    "  SELECT\n",
    "    playlist_id,\n",
    "    playlist_uri\n",
    "  FROM\n",
    "    `umg-partner.spotify.playlist_history`\n",
    "  WHERE\n",
    "    _PARTITIONTIME >= TIMESTAMP(DATE_SUB(CURRENT_DATE(), INTERVAL 367 DAY))\n",
    "    AND _PARTITIONTIME < TIMESTAMP(DATE_SUB(CURRENT_DATE(), INTERVAL 2 DAY))\n",
    "    AND follower_count>=10\n",
    "  GROUP BY\n",
    "    playlist_id,\n",
    "    playlist_uri)\n",
    "SELECT\n",
    "  playlist_id,\n",
    "  playlist_uri,\n",
    "  COUNT(DISTINCT artist_uri) AS nartists,\n",
    "  COUNT(DISTINCT album_uri) AS nalbums,\n",
    "  MAX(track_position) AS maxpos\n",
    "FROM\n",
    "  tracks\n",
    "WHERE\n",
    "  playlist_uri IN (\n",
    "  SELECT\n",
    "    playlist_uri\n",
    "  FROM\n",
    "    playlists)\n",
    "GROUP BY\n",
    "  playlist_id,\n",
    "  playlist_uri\n",
    "HAVING\n",
    "  nartists > 2\n",
    "  AND nalbums > 2\n",
    "  AND maxpos<=500\"\"\"\n",
    "\n",
    "## Missing Spotify browse category playlists\n",
    "\n",
    "get_missing_browse_sql = \"\"\"\n",
    "SELECT\n",
    "  playlist_id,\n",
    "  playlist_uri\n",
    "FROM\n",
    "  `umg-alpha.spotify.spotify_playlist_browse`\n",
    "WHERE\n",
    "  report_date = DATE_SUB(CURRENT_DATE(), INTERVAL 2 DAY)\n",
    "  AND playlist_id NOT IN (\n",
    "  SELECT\n",
    "    playlist_id\n",
    "  FROM\n",
    "    `umg-comm-tech-dev.playlist_sequencing.playlists`\n",
    "  GROUP BY\n",
    "    playlist_id)\"\"\""
   ]
  },
  {
   "cell_type": "code",
   "execution_count": null,
   "metadata": {},
   "outputs": [],
   "source": [
    "playlists = gbq.read_gbq(get_playlists_sql, project_id='umg-comm-tech-dev', dialect='standard')"
   ]
  },
  {
   "cell_type": "code",
   "execution_count": null,
   "metadata": {},
   "outputs": [],
   "source": [
    "gbq.to_gbq(playlists, destination_table='playlist_sequencing.playlists', project_id='umg-comm-tech-dev',\n",
    "          if_exists='replace')"
   ]
  },
  {
   "cell_type": "code",
   "execution_count": null,
   "metadata": {},
   "outputs": [],
   "source": [
    "playlists_append = gbq.read_gbq(get_missing_browse_sql, project_id='umg-comm-tech-dev',\n",
    "          dialect='standard')"
   ]
  },
  {
   "cell_type": "code",
   "execution_count": null,
   "metadata": {},
   "outputs": [],
   "source": [
    "gbq.to_gbq(playlists_append, destination_table='playlist_sequencing.playlists', project_id='umg-comm-tech-dev',\n",
    "          if_exists='append')"
   ]
  },
  {
   "cell_type": "code",
   "execution_count": null,
   "metadata": {},
   "outputs": [],
   "source": []
  }
 ],
 "metadata": {
  "kernelspec": {
   "display_name": "Python 3",
   "language": "python",
   "name": "python3"
  },
  "language_info": {
   "codemirror_mode": {
    "name": "ipython",
    "version": 3
   },
   "file_extension": ".py",
   "mimetype": "text/x-python",
   "name": "python",
   "nbconvert_exporter": "python",
   "pygments_lexer": "ipython3",
   "version": "3.7.3"
  }
 },
 "nbformat": 4,
 "nbformat_minor": 2
}
