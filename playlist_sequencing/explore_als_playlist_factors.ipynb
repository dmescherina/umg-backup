{
 "cells": [
  {
   "cell_type": "code",
   "execution_count": null,
   "metadata": {},
   "outputs": [],
   "source": [
    "import numpy as np\n",
    "import pandas as pd\n",
    "\n",
    "import pitched_recommend\n",
    "\n",
    "from sklearn.preprocessing import StandardScaler\n",
    "from sklearn.decomposition import PCA\n",
    "from sklearn.cluster import DBSCAN, AffinityPropagation\n",
    "from sklearn import cluster, metrics\n",
    "\n",
    "import matplotlib.pyplot as plt\n",
    "import seaborn as sns\n",
    "\n",
    "import pickle\n",
    "\n",
    "import timeit\n",
    "\n",
    "sns.set(style=\"darkgrid\", palette=\"Set3\")\n",
    "\n",
    "%matplotlib inline\n",
    "%config InlineBackend.figure_format = 'retina'"
   ]
  },
  {
   "cell_type": "code",
   "execution_count": null,
   "metadata": {},
   "outputs": [],
   "source": [
    "with open('/Users/meshchd/Downloads/saved_model.pkl', 'rb') as f:\n",
    "    model = pickle.load(f)"
   ]
  },
  {
   "cell_type": "code",
   "execution_count": null,
   "metadata": {},
   "outputs": [],
   "source": [
    "df = pd.DataFrame(data=model.playlist_vecs, index=model.playlists, \n",
    "                  columns=['factor'+str(x) for x in range(1,model.playlist_vecs.shape[1]+1)])\n",
    "df.head()"
   ]
  },
  {
   "cell_type": "code",
   "execution_count": null,
   "metadata": {},
   "outputs": [],
   "source": [
    "df.shape"
   ]
  },
  {
   "cell_type": "code",
   "execution_count": null,
   "metadata": {},
   "outputs": [],
   "source": [
    "df_small = df.iloc[:200000,:]\n",
    "df_small.shape"
   ]
  },
  {
   "cell_type": "code",
   "execution_count": null,
   "metadata": {},
   "outputs": [],
   "source": []
  },
  {
   "cell_type": "code",
   "execution_count": null,
   "metadata": {},
   "outputs": [],
   "source": []
  },
  {
   "cell_type": "code",
   "execution_count": null,
   "metadata": {},
   "outputs": [],
   "source": [
    "df_chris = pd.DataFrame(data=model.isrc_vecs, index=model.isrcs, \n",
    "                        columns=['factor'+str(x) for x in range(1,model.playlist_vecs.shape[1]+1)])\n",
    "df_chris.head()"
   ]
  },
  {
   "cell_type": "code",
   "execution_count": null,
   "metadata": {},
   "outputs": [],
   "source": [
    "df_chris = df_chris.reset_index()"
   ]
  },
  {
   "cell_type": "code",
   "execution_count": null,
   "metadata": {},
   "outputs": [],
   "source": [
    "df_chris.to_gbq(destination_table='adhoc.isrc_factors_for_chris', project_id='umg-comm-tech-dev', if_exists='replace')"
   ]
  },
  {
   "cell_type": "code",
   "execution_count": null,
   "metadata": {},
   "outputs": [],
   "source": [
    "df_chris.to_feather('/Users/meshchd/Downloads/isrc_factors_for_chris.feather')"
   ]
  },
  {
   "cell_type": "code",
   "execution_count": null,
   "metadata": {},
   "outputs": [],
   "source": []
  },
  {
   "cell_type": "markdown",
   "metadata": {},
   "source": [
    "### DBSCAN"
   ]
  },
  {
   "cell_type": "code",
   "execution_count": null,
   "metadata": {},
   "outputs": [],
   "source": [
    "# Function to run clutering algorithms and review their output\n",
    "\n",
    "def dbscan_tuning(df,eps_list,min_samples_list):\n",
    "    \n",
    "    \n",
    "    start = timeit.timeit()\n",
    "    #print(\"Start time: \", start)\n",
    "    df_res = pd.DataFrame(columns=['eps','min_sample','n_clusters','unlabelled_prop','silhouette_coeff'],\n",
    "                         index = range(len(eps_list)*len(min_samples_list)))\n",
    "    c=-1\n",
    "    \n",
    "    for i,eps_i in enumerate(eps_list):\n",
    "        for j, min_j in enumerate(min_samples_list):\n",
    "            \n",
    "            print(\"Running iteration for eps \", eps_i)\n",
    "            \n",
    "            c=c+1\n",
    "            \n",
    "            dbscn = DBSCAN(eps=eps_i, min_samples=min_j)\n",
    "            dbscan=dbscn.fit(df)\n",
    "            labels = dbscan.labels_ \n",
    "            n_clusters_ = len(set(labels)) - (1 if -1 in labels else 0)\n",
    "            \n",
    "            #print(\"epsilon, min_samples: \", eps_i, min_j)\n",
    "            #print( \"clusters: \", n_clusters_)\n",
    "            #print(\"unlabelled proportion: \", float(list(labels).count(-1))/labels.shape[0])\n",
    "            #print(\"silhouette coefficient: \", metrics.silhouette_score(df, labels))\n",
    "            #print()\n",
    "            \n",
    "            df_res['eps'][c]=eps_i\n",
    "            df_res['min_sample'][c]=min_j\n",
    "            df_res['n_clusters'][c]=n_clusters_\n",
    "            df_res['unlabelled_prop'][c]=float(list(labels).count(-1))/labels.shape[0]\n",
    "            df_res['silhouette_coeff'][c]=metrics.silhouette_score(df, labels)\n",
    "            \n",
    "    end = timeit.timeit()\n",
    "    print(\"elapsed time: \", end-start)\n",
    "    \n",
    "    return df_res"
   ]
  },
  {
   "cell_type": "code",
   "execution_count": null,
   "metadata": {},
   "outputs": [],
   "source": [
    "# Range of clustering parameters\n",
    "\n",
    "eps_list=[50]\n",
    "min_samples_list=[3]"
   ]
  },
  {
   "cell_type": "code",
   "execution_count": null,
   "metadata": {},
   "outputs": [],
   "source": [
    "df_res = dbscan_tuning(df,eps_list,min_samples_list)"
   ]
  },
  {
   "cell_type": "code",
   "execution_count": null,
   "metadata": {},
   "outputs": [],
   "source": [
    "df_res.head(10)"
   ]
  },
  {
   "cell_type": "code",
   "execution_count": null,
   "metadata": {},
   "outputs": [],
   "source": [
    "ax = sns.scatterplot(x=\"n_clusters\", y=\"silhouette_coeff\", data=df_res)"
   ]
  },
  {
   "cell_type": "code",
   "execution_count": null,
   "metadata": {},
   "outputs": [],
   "source": []
  },
  {
   "cell_type": "code",
   "execution_count": null,
   "metadata": {},
   "outputs": [],
   "source": []
  },
  {
   "cell_type": "markdown",
   "metadata": {},
   "source": [
    "### Affinity Propagation"
   ]
  },
  {
   "cell_type": "code",
   "execution_count": null,
   "metadata": {},
   "outputs": [],
   "source": [
    "af = AffinityPropagation(verbose=True).fit(df_small)"
   ]
  },
  {
   "cell_type": "code",
   "execution_count": null,
   "metadata": {},
   "outputs": [],
   "source": [
    "print('Estimated number of clusters: %d' % n_clusters_)\n",
    "print(\"Silhouette Coefficient: %0.3f\"\n",
    "      % metrics.silhouette_score(X, labels, metric='sqeuclidean'))"
   ]
  },
  {
   "cell_type": "code",
   "execution_count": null,
   "metadata": {},
   "outputs": [],
   "source": [
    "cluster_centers_indices = af.cluster_centers_indices_\n",
    "labels = af.labels_"
   ]
  }
 ],
 "metadata": {
  "kernelspec": {
   "display_name": "Python 3",
   "language": "python",
   "name": "python3"
  },
  "language_info": {
   "codemirror_mode": {
    "name": "ipython",
    "version": 3
   },
   "file_extension": ".py",
   "mimetype": "text/x-python",
   "name": "python",
   "nbconvert_exporter": "python",
   "pygments_lexer": "ipython3",
   "version": "3.7.3"
  }
 },
 "nbformat": 4,
 "nbformat_minor": 2
}
