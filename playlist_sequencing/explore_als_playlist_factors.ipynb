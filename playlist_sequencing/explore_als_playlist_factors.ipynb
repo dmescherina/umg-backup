{
 "cells": [
  {
   "cell_type": "code",
   "execution_count": 7,
   "metadata": {},
   "outputs": [],
   "source": [
    "import numpy as np\n",
    "import pandas as pd\n",
    "\n",
    "import pitched_recommend\n",
    "\n",
    "from sklearn.preprocessing import StandardScaler\n",
    "from sklearn.decomposition import PCA\n",
    "from sklearn.cluster import DBSCAN, AffinityPropagation\n",
    "from sklearn import cluster, metrics\n",
    "\n",
    "import matplotlib.pyplot as plt\n",
    "import seaborn as sns\n",
    "\n",
    "import pickle\n",
    "\n",
    "import timeit\n",
    "\n",
    "sns.set(style=\"darkgrid\", palette=\"Set3\")\n",
    "\n",
    "%matplotlib inline\n",
    "%config InlineBackend.figure_format = 'retina'"
   ]
  },
  {
   "cell_type": "code",
   "execution_count": 8,
   "metadata": {},
   "outputs": [],
   "source": [
    "with open('/Users/meshchd/Downloads/saved_model.pkl', 'rb') as f:\n",
    "    model = pickle.load(f)"
   ]
  },
  {
   "cell_type": "code",
   "execution_count": 6,
   "metadata": {},
   "outputs": [
    {
     "data": {
      "text/plain": [
       "(411218, 200)"
      ]
     },
     "execution_count": 6,
     "metadata": {},
     "output_type": "execute_result"
    }
   ],
   "source": [
    "model.playlist_vecs.shape"
   ]
  },
  {
   "cell_type": "code",
   "execution_count": null,
   "metadata": {},
   "outputs": [],
   "source": []
  },
  {
   "cell_type": "code",
   "execution_count": null,
   "metadata": {},
   "outputs": [],
   "source": []
  },
  {
   "cell_type": "code",
   "execution_count": 9,
   "metadata": {},
   "outputs": [
    {
     "data": {
      "text/html": [
       "<div>\n",
       "<style scoped>\n",
       "    .dataframe tbody tr th:only-of-type {\n",
       "        vertical-align: middle;\n",
       "    }\n",
       "\n",
       "    .dataframe tbody tr th {\n",
       "        vertical-align: top;\n",
       "    }\n",
       "\n",
       "    .dataframe thead th {\n",
       "        text-align: right;\n",
       "    }\n",
       "</style>\n",
       "<table border=\"1\" class=\"dataframe\">\n",
       "  <thead>\n",
       "    <tr style=\"text-align: right;\">\n",
       "      <th></th>\n",
       "      <th>factor1</th>\n",
       "      <th>factor2</th>\n",
       "      <th>factor3</th>\n",
       "      <th>factor4</th>\n",
       "      <th>factor5</th>\n",
       "      <th>factor6</th>\n",
       "      <th>factor7</th>\n",
       "      <th>factor8</th>\n",
       "      <th>factor9</th>\n",
       "      <th>factor10</th>\n",
       "      <th>...</th>\n",
       "      <th>factor191</th>\n",
       "      <th>factor192</th>\n",
       "      <th>factor193</th>\n",
       "      <th>factor194</th>\n",
       "      <th>factor195</th>\n",
       "      <th>factor196</th>\n",
       "      <th>factor197</th>\n",
       "      <th>factor198</th>\n",
       "      <th>factor199</th>\n",
       "      <th>factor200</th>\n",
       "    </tr>\n",
       "  </thead>\n",
       "  <tbody>\n",
       "    <tr>\n",
       "      <th>spotify:playlist:0000mSEZofZjMa5x6ooFMT</th>\n",
       "      <td>2.502750</td>\n",
       "      <td>-1.228707</td>\n",
       "      <td>-0.282741</td>\n",
       "      <td>-3.071208</td>\n",
       "      <td>-1.398009</td>\n",
       "      <td>0.398109</td>\n",
       "      <td>1.479157</td>\n",
       "      <td>2.860332</td>\n",
       "      <td>-0.804759</td>\n",
       "      <td>1.881027</td>\n",
       "      <td>...</td>\n",
       "      <td>-0.022632</td>\n",
       "      <td>-4.557347</td>\n",
       "      <td>4.709409</td>\n",
       "      <td>1.530990</td>\n",
       "      <td>1.843507</td>\n",
       "      <td>-0.038009</td>\n",
       "      <td>-0.410174</td>\n",
       "      <td>2.705170</td>\n",
       "      <td>-2.385634</td>\n",
       "      <td>2.075729</td>\n",
       "    </tr>\n",
       "    <tr>\n",
       "      <th>spotify:playlist:0003EPZgOqan8RIyLg3zIE</th>\n",
       "      <td>0.336441</td>\n",
       "      <td>3.074456</td>\n",
       "      <td>-2.366162</td>\n",
       "      <td>-2.259032</td>\n",
       "      <td>1.749526</td>\n",
       "      <td>2.240573</td>\n",
       "      <td>1.422730</td>\n",
       "      <td>3.371260</td>\n",
       "      <td>2.589835</td>\n",
       "      <td>1.692870</td>\n",
       "      <td>...</td>\n",
       "      <td>-2.232575</td>\n",
       "      <td>1.719430</td>\n",
       "      <td>0.241225</td>\n",
       "      <td>0.236720</td>\n",
       "      <td>-5.213932</td>\n",
       "      <td>-2.225398</td>\n",
       "      <td>1.264466</td>\n",
       "      <td>1.810506</td>\n",
       "      <td>0.631505</td>\n",
       "      <td>0.048048</td>\n",
       "    </tr>\n",
       "    <tr>\n",
       "      <th>spotify:playlist:000H8pt2u6SWMvNtTksPbC</th>\n",
       "      <td>-2.665002</td>\n",
       "      <td>-2.174338</td>\n",
       "      <td>-2.054785</td>\n",
       "      <td>-2.392505</td>\n",
       "      <td>-3.084473</td>\n",
       "      <td>-0.656535</td>\n",
       "      <td>-0.282970</td>\n",
       "      <td>1.256239</td>\n",
       "      <td>-1.694255</td>\n",
       "      <td>2.444017</td>\n",
       "      <td>...</td>\n",
       "      <td>-0.945915</td>\n",
       "      <td>-2.825642</td>\n",
       "      <td>3.204344</td>\n",
       "      <td>0.241877</td>\n",
       "      <td>-0.611005</td>\n",
       "      <td>-0.653071</td>\n",
       "      <td>3.114747</td>\n",
       "      <td>0.090050</td>\n",
       "      <td>-0.968317</td>\n",
       "      <td>-1.273156</td>\n",
       "    </tr>\n",
       "    <tr>\n",
       "      <th>spotify:playlist:000IDLrAdMwaTycyWNqphh</th>\n",
       "      <td>-0.173717</td>\n",
       "      <td>1.135722</td>\n",
       "      <td>0.017455</td>\n",
       "      <td>0.370019</td>\n",
       "      <td>0.342356</td>\n",
       "      <td>0.226051</td>\n",
       "      <td>-0.042602</td>\n",
       "      <td>0.807535</td>\n",
       "      <td>-0.265244</td>\n",
       "      <td>0.192498</td>\n",
       "      <td>...</td>\n",
       "      <td>0.438603</td>\n",
       "      <td>-1.635264</td>\n",
       "      <td>0.918143</td>\n",
       "      <td>-0.376109</td>\n",
       "      <td>-1.094644</td>\n",
       "      <td>-0.281336</td>\n",
       "      <td>0.581373</td>\n",
       "      <td>0.041825</td>\n",
       "      <td>0.243192</td>\n",
       "      <td>0.314021</td>\n",
       "    </tr>\n",
       "    <tr>\n",
       "      <th>spotify:playlist:000T04pNN05jXDimzYbl4b</th>\n",
       "      <td>-1.140610</td>\n",
       "      <td>0.501446</td>\n",
       "      <td>-0.765112</td>\n",
       "      <td>-4.181076</td>\n",
       "      <td>-2.387796</td>\n",
       "      <td>2.149458</td>\n",
       "      <td>-0.436093</td>\n",
       "      <td>-3.800027</td>\n",
       "      <td>-0.712147</td>\n",
       "      <td>1.238158</td>\n",
       "      <td>...</td>\n",
       "      <td>2.337934</td>\n",
       "      <td>0.451322</td>\n",
       "      <td>-1.039385</td>\n",
       "      <td>-2.624017</td>\n",
       "      <td>-4.437568</td>\n",
       "      <td>-0.000322</td>\n",
       "      <td>-1.066878</td>\n",
       "      <td>-0.318335</td>\n",
       "      <td>4.319573</td>\n",
       "      <td>0.773506</td>\n",
       "    </tr>\n",
       "  </tbody>\n",
       "</table>\n",
       "<p>5 rows × 200 columns</p>\n",
       "</div>"
      ],
      "text/plain": [
       "                                          factor1   factor2   factor3  \\\n",
       "spotify:playlist:0000mSEZofZjMa5x6ooFMT  2.502750 -1.228707 -0.282741   \n",
       "spotify:playlist:0003EPZgOqan8RIyLg3zIE  0.336441  3.074456 -2.366162   \n",
       "spotify:playlist:000H8pt2u6SWMvNtTksPbC -2.665002 -2.174338 -2.054785   \n",
       "spotify:playlist:000IDLrAdMwaTycyWNqphh -0.173717  1.135722  0.017455   \n",
       "spotify:playlist:000T04pNN05jXDimzYbl4b -1.140610  0.501446 -0.765112   \n",
       "\n",
       "                                          factor4   factor5   factor6  \\\n",
       "spotify:playlist:0000mSEZofZjMa5x6ooFMT -3.071208 -1.398009  0.398109   \n",
       "spotify:playlist:0003EPZgOqan8RIyLg3zIE -2.259032  1.749526  2.240573   \n",
       "spotify:playlist:000H8pt2u6SWMvNtTksPbC -2.392505 -3.084473 -0.656535   \n",
       "spotify:playlist:000IDLrAdMwaTycyWNqphh  0.370019  0.342356  0.226051   \n",
       "spotify:playlist:000T04pNN05jXDimzYbl4b -4.181076 -2.387796  2.149458   \n",
       "\n",
       "                                          factor7   factor8   factor9  \\\n",
       "spotify:playlist:0000mSEZofZjMa5x6ooFMT  1.479157  2.860332 -0.804759   \n",
       "spotify:playlist:0003EPZgOqan8RIyLg3zIE  1.422730  3.371260  2.589835   \n",
       "spotify:playlist:000H8pt2u6SWMvNtTksPbC -0.282970  1.256239 -1.694255   \n",
       "spotify:playlist:000IDLrAdMwaTycyWNqphh -0.042602  0.807535 -0.265244   \n",
       "spotify:playlist:000T04pNN05jXDimzYbl4b -0.436093 -3.800027 -0.712147   \n",
       "\n",
       "                                         factor10  ...  factor191  factor192  \\\n",
       "spotify:playlist:0000mSEZofZjMa5x6ooFMT  1.881027  ...  -0.022632  -4.557347   \n",
       "spotify:playlist:0003EPZgOqan8RIyLg3zIE  1.692870  ...  -2.232575   1.719430   \n",
       "spotify:playlist:000H8pt2u6SWMvNtTksPbC  2.444017  ...  -0.945915  -2.825642   \n",
       "spotify:playlist:000IDLrAdMwaTycyWNqphh  0.192498  ...   0.438603  -1.635264   \n",
       "spotify:playlist:000T04pNN05jXDimzYbl4b  1.238158  ...   2.337934   0.451322   \n",
       "\n",
       "                                         factor193  factor194  factor195  \\\n",
       "spotify:playlist:0000mSEZofZjMa5x6ooFMT   4.709409   1.530990   1.843507   \n",
       "spotify:playlist:0003EPZgOqan8RIyLg3zIE   0.241225   0.236720  -5.213932   \n",
       "spotify:playlist:000H8pt2u6SWMvNtTksPbC   3.204344   0.241877  -0.611005   \n",
       "spotify:playlist:000IDLrAdMwaTycyWNqphh   0.918143  -0.376109  -1.094644   \n",
       "spotify:playlist:000T04pNN05jXDimzYbl4b  -1.039385  -2.624017  -4.437568   \n",
       "\n",
       "                                         factor196  factor197  factor198  \\\n",
       "spotify:playlist:0000mSEZofZjMa5x6ooFMT  -0.038009  -0.410174   2.705170   \n",
       "spotify:playlist:0003EPZgOqan8RIyLg3zIE  -2.225398   1.264466   1.810506   \n",
       "spotify:playlist:000H8pt2u6SWMvNtTksPbC  -0.653071   3.114747   0.090050   \n",
       "spotify:playlist:000IDLrAdMwaTycyWNqphh  -0.281336   0.581373   0.041825   \n",
       "spotify:playlist:000T04pNN05jXDimzYbl4b  -0.000322  -1.066878  -0.318335   \n",
       "\n",
       "                                         factor199  factor200  \n",
       "spotify:playlist:0000mSEZofZjMa5x6ooFMT  -2.385634   2.075729  \n",
       "spotify:playlist:0003EPZgOqan8RIyLg3zIE   0.631505   0.048048  \n",
       "spotify:playlist:000H8pt2u6SWMvNtTksPbC  -0.968317  -1.273156  \n",
       "spotify:playlist:000IDLrAdMwaTycyWNqphh   0.243192   0.314021  \n",
       "spotify:playlist:000T04pNN05jXDimzYbl4b   4.319573   0.773506  \n",
       "\n",
       "[5 rows x 200 columns]"
      ]
     },
     "execution_count": 9,
     "metadata": {},
     "output_type": "execute_result"
    }
   ],
   "source": [
    "df = pd.DataFrame(data=model.playlist_vecs, index=model.playlists, \n",
    "                  columns=['factor'+str(x) for x in range(1,model.playlist_vecs.shape[1]+1)])\n",
    "df.head()"
   ]
  },
  {
   "cell_type": "code",
   "execution_count": 10,
   "metadata": {},
   "outputs": [
    {
     "data": {
      "text/plain": [
       "(411218, 200)"
      ]
     },
     "execution_count": 10,
     "metadata": {},
     "output_type": "execute_result"
    }
   ],
   "source": [
    "df.shape"
   ]
  },
  {
   "cell_type": "code",
   "execution_count": null,
   "metadata": {},
   "outputs": [],
   "source": [
    "df_small = df.iloc[:200000,:]\n",
    "df_small.shape"
   ]
  },
  {
   "cell_type": "code",
   "execution_count": null,
   "metadata": {},
   "outputs": [],
   "source": []
  },
  {
   "cell_type": "code",
   "execution_count": null,
   "metadata": {},
   "outputs": [],
   "source": []
  },
  {
   "cell_type": "code",
   "execution_count": null,
   "metadata": {},
   "outputs": [],
   "source": [
    "df_chris = pd.DataFrame(data=model.isrc_vecs, index=model.isrcs, \n",
    "                        columns=['factor'+str(x) for x in range(1,model.playlist_vecs.shape[1]+1)])\n",
    "df_chris.head()"
   ]
  },
  {
   "cell_type": "code",
   "execution_count": null,
   "metadata": {},
   "outputs": [],
   "source": [
    "df_chris = df_chris.reset_index()"
   ]
  },
  {
   "cell_type": "code",
   "execution_count": null,
   "metadata": {},
   "outputs": [],
   "source": [
    "df_chris.to_gbq(destination_table='adhoc.isrc_factors_for_chris', project_id='umg-comm-tech-dev', if_exists='replace')"
   ]
  },
  {
   "cell_type": "code",
   "execution_count": null,
   "metadata": {},
   "outputs": [],
   "source": [
    "df_chris.to_feather('/Users/meshchd/Downloads/isrc_factors_for_chris.feather')"
   ]
  },
  {
   "cell_type": "code",
   "execution_count": null,
   "metadata": {},
   "outputs": [],
   "source": []
  },
  {
   "cell_type": "markdown",
   "metadata": {},
   "source": [
    "### DBSCAN"
   ]
  },
  {
   "cell_type": "code",
   "execution_count": null,
   "metadata": {},
   "outputs": [],
   "source": [
    "# Function to run clutering algorithms and review their output\n",
    "\n",
    "def dbscan_tuning(df,eps_list,min_samples_list):\n",
    "    \n",
    "    \n",
    "    start = timeit.timeit()\n",
    "    #print(\"Start time: \", start)\n",
    "    df_res = pd.DataFrame(columns=['eps','min_sample','n_clusters','unlabelled_prop','silhouette_coeff'],\n",
    "                         index = range(len(eps_list)*len(min_samples_list)))\n",
    "    c=-1\n",
    "    \n",
    "    for i,eps_i in enumerate(eps_list):\n",
    "        for j, min_j in enumerate(min_samples_list):\n",
    "            \n",
    "            print(\"Running iteration for eps \", eps_i)\n",
    "            \n",
    "            c=c+1\n",
    "            \n",
    "            dbscn = DBSCAN(eps=eps_i, min_samples=min_j)\n",
    "            dbscan=dbscn.fit(df)\n",
    "            labels = dbscan.labels_ \n",
    "            n_clusters_ = len(set(labels)) - (1 if -1 in labels else 0)\n",
    "            \n",
    "            #print(\"epsilon, min_samples: \", eps_i, min_j)\n",
    "            #print( \"clusters: \", n_clusters_)\n",
    "            #print(\"unlabelled proportion: \", float(list(labels).count(-1))/labels.shape[0])\n",
    "            #print(\"silhouette coefficient: \", metrics.silhouette_score(df, labels))\n",
    "            #print()\n",
    "            \n",
    "            df_res['eps'][c]=eps_i\n",
    "            df_res['min_sample'][c]=min_j\n",
    "            df_res['n_clusters'][c]=n_clusters_\n",
    "            df_res['unlabelled_prop'][c]=float(list(labels).count(-1))/labels.shape[0]\n",
    "            df_res['silhouette_coeff'][c]=metrics.silhouette_score(df, labels)\n",
    "            \n",
    "    end = timeit.timeit()\n",
    "    print(\"elapsed time: \", end-start)\n",
    "    \n",
    "    return df_res"
   ]
  },
  {
   "cell_type": "code",
   "execution_count": null,
   "metadata": {},
   "outputs": [],
   "source": [
    "# Range of clustering parameters\n",
    "\n",
    "eps_list=[50]\n",
    "min_samples_list=[3]"
   ]
  },
  {
   "cell_type": "code",
   "execution_count": null,
   "metadata": {},
   "outputs": [],
   "source": [
    "df_res = dbscan_tuning(df,eps_list,min_samples_list)"
   ]
  },
  {
   "cell_type": "code",
   "execution_count": null,
   "metadata": {},
   "outputs": [],
   "source": [
    "df_res.head(10)"
   ]
  },
  {
   "cell_type": "code",
   "execution_count": null,
   "metadata": {},
   "outputs": [],
   "source": [
    "ax = sns.scatterplot(x=\"n_clusters\", y=\"silhouette_coeff\", data=df_res)"
   ]
  },
  {
   "cell_type": "code",
   "execution_count": null,
   "metadata": {},
   "outputs": [],
   "source": []
  },
  {
   "cell_type": "code",
   "execution_count": null,
   "metadata": {},
   "outputs": [],
   "source": []
  },
  {
   "cell_type": "markdown",
   "metadata": {},
   "source": [
    "### Affinity Propagation"
   ]
  },
  {
   "cell_type": "code",
   "execution_count": null,
   "metadata": {},
   "outputs": [],
   "source": [
    "af = AffinityPropagation(verbose=True).fit(df_small)"
   ]
  },
  {
   "cell_type": "code",
   "execution_count": null,
   "metadata": {},
   "outputs": [],
   "source": [
    "print('Estimated number of clusters: %d' % n_clusters_)\n",
    "print(\"Silhouette Coefficient: %0.3f\"\n",
    "      % metrics.silhouette_score(X, labels, metric='sqeuclidean'))"
   ]
  },
  {
   "cell_type": "code",
   "execution_count": null,
   "metadata": {},
   "outputs": [],
   "source": [
    "cluster_centers_indices = af.cluster_centers_indices_\n",
    "labels = af.labels_"
   ]
  }
 ],
 "metadata": {
  "kernelspec": {
   "display_name": "Python 3",
   "language": "python",
   "name": "python3"
  },
  "language_info": {
   "codemirror_mode": {
    "name": "ipython",
    "version": 3
   },
   "file_extension": ".py",
   "mimetype": "text/x-python",
   "name": "python",
   "nbconvert_exporter": "python",
   "pygments_lexer": "ipython3",
   "version": "3.7.3"
  }
 },
 "nbformat": 4,
 "nbformat_minor": 2
}
