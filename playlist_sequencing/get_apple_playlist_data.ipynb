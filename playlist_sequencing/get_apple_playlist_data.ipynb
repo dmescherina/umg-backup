{
 "cells": [
  {
   "cell_type": "code",
   "execution_count": 1,
   "metadata": {},
   "outputs": [],
   "source": [
    "import pandas as pd\n",
    "from pandas.io import gbq"
   ]
  },
  {
   "cell_type": "code",
   "execution_count": 4,
   "metadata": {},
   "outputs": [],
   "source": [
    "get_track_listings = \"\"\"\n",
    "SELECT\n",
    "  playlist_id,\n",
    "  isrc,\n",
    "  COUNT(DISTINCT pth.playlist_date) AS days_on_playlist\n",
    "FROM\n",
    "  `umg-partner.apple_music.playlist_track_history` pth\n",
    "WHERE\n",
    "  pth._PARTITIONTIME >= TIMESTAMP(DATE_SUB(CURRENT_DATE(), INTERVAL 367 DAY))\n",
    "  AND pth._PARTITIONTIME < TIMESTAMP(DATE_SUB(CURRENT_DATE(), INTERVAL 2 DAY))\n",
    "  AND playlist_id IN (\n",
    "  SELECT\n",
    "    playlist_uri\n",
    "  FROM\n",
    "    `umg-comm-tech-dev.recommender_playlists.all_playlists`\n",
    "  GROUP BY\n",
    "    playlist_uri)\n",
    "GROUP BY\n",
    "  playlist_id,\n",
    "  isrc\n",
    "\"\"\""
   ]
  },
  {
   "cell_type": "code",
   "execution_count": 5,
   "metadata": {},
   "outputs": [
    {
     "data": {
      "text/plain": [
       "(1240701, 3)"
      ]
     },
     "execution_count": 5,
     "metadata": {},
     "output_type": "execute_result"
    }
   ],
   "source": [
    "playlists_tracks = gbq.read_gbq(get_track_listings, project_id='umg-comm-tech-dev', dialect='standard')\n",
    "playlists_tracks.shape"
   ]
  },
  {
   "cell_type": "code",
   "execution_count": 7,
   "metadata": {},
   "outputs": [
    {
     "name": "stderr",
     "output_type": "stream",
     "text": [
      "1it [00:07,  7.31s/it]\n"
     ]
    }
   ],
   "source": [
    "gbq.to_gbq(playlists_tracks, destination_table='recommender_playlists.pt_apple',\n",
    "           project_id='umg-comm-tech-dev', if_exists='replace')"
   ]
  },
  {
   "cell_type": "code",
   "execution_count": null,
   "metadata": {},
   "outputs": [],
   "source": []
  }
 ],
 "metadata": {
  "kernelspec": {
   "display_name": "Python 3",
   "language": "python",
   "name": "python3"
  },
  "language_info": {
   "codemirror_mode": {
    "name": "ipython",
    "version": 3
   },
   "file_extension": ".py",
   "mimetype": "text/x-python",
   "name": "python",
   "nbconvert_exporter": "python",
   "pygments_lexer": "ipython3",
   "version": "3.7.3"
  }
 },
 "nbformat": 4,
 "nbformat_minor": 2
}
