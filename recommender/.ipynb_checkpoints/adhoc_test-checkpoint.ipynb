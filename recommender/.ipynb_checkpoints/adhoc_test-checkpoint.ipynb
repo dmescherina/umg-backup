{
 "cells": [
  {
   "cell_type": "code",
   "execution_count": 24,
   "metadata": {},
   "outputs": [],
   "source": [
    "import numpy as np\n",
    "import pandas as pd\n",
    "\n",
    "import pickle\n",
    "\n",
    "from pitched_recommend import Recommender"
   ]
  },
  {
   "cell_type": "code",
   "execution_count": 4,
   "metadata": {},
   "outputs": [],
   "source": [
    "class MacOSFile(object):\n",
    "    def __init__(self, f):\n",
    "        self.f = f\n",
    "\n",
    "    def __getattr__(self, item):\n",
    "        return getattr(self.f, item)\n",
    "\n",
    "    def read(self, n):\n",
    "        if n >= (1 << 31):\n",
    "            buffer = bytearray(n)\n",
    "            pos = 0\n",
    "            while pos < n:\n",
    "                size = min(n - pos, 1 << 31 - 1)\n",
    "                chunk = self.f.read(size)\n",
    "                buffer[pos:pos + size] = chunk\n",
    "                pos += size\n",
    "            return buffer\n",
    "        return self.f.read(n)"
   ]
  },
  {
   "cell_type": "code",
   "execution_count": 7,
   "metadata": {},
   "outputs": [],
   "source": [
    "with open(\"/Users/daria/Downloads/prod_saved_model (1).pkl\", \"rb\") as fin:\n",
    "    model = pickle.load(MacOSFile(fin))"
   ]
  },
  {
   "cell_type": "code",
   "execution_count": 14,
   "metadata": {},
   "outputs": [],
   "source": [
    "with open('/Users/daria/Downloads/prod_metadata_dict.pkl', 'rb') as pickle_file:\n",
    "    metadata = pickle.load(pickle_file)"
   ]
  },
  {
   "cell_type": "code",
   "execution_count": 8,
   "metadata": {},
   "outputs": [
    {
     "data": {
      "text/html": [
       "<div>\n",
       "<style scoped>\n",
       "    .dataframe tbody tr th:only-of-type {\n",
       "        vertical-align: middle;\n",
       "    }\n",
       "\n",
       "    .dataframe tbody tr th {\n",
       "        vertical-align: top;\n",
       "    }\n",
       "\n",
       "    .dataframe thead th {\n",
       "        text-align: right;\n",
       "    }\n",
       "</style>\n",
       "<table border=\"1\" class=\"dataframe\">\n",
       "  <thead>\n",
       "    <tr style=\"text-align: right;\">\n",
       "      <th></th>\n",
       "      <th>PlaylistUri</th>\n",
       "      <th>Name</th>\n",
       "      <th>Description</th>\n",
       "      <th>Image</th>\n",
       "      <th>Isrc</th>\n",
       "      <th>Artist</th>\n",
       "      <th>TrackName</th>\n",
       "      <th>Label</th>\n",
       "      <th>Duration</th>\n",
       "      <th>AddedAt</th>\n",
       "      <th>Upc</th>\n",
       "    </tr>\n",
       "  </thead>\n",
       "  <tbody>\n",
       "    <tr>\n",
       "      <th>0</th>\n",
       "      <td>spotify:playlist:6YwIqXS0auLevGXID24D7C</td>\n",
       "      <td>Songpickr: 2019 Best Songs (Indie Rock, Folk, ...</td>\n",
       "      <td>Warm, organic, authentic, timeless songs curat...</td>\n",
       "      <td>https://pl.scdn.co/images/pl/default/f199c4493...</td>\n",
       "      <td>USATO1900023</td>\n",
       "      <td>Black Pumas</td>\n",
       "      <td>Colors</td>\n",
       "      <td>2019 ATO Records, under exclusive license to [...</td>\n",
       "      <td>246586</td>\n",
       "      <td>2019-04-17T16:56:26Z</td>\n",
       "      <td>5.400863e+12</td>\n",
       "    </tr>\n",
       "    <tr>\n",
       "      <th>1</th>\n",
       "      <td>spotify:playlist:6YwIqXS0auLevGXID24D7C</td>\n",
       "      <td>Songpickr: 2019 Best Songs (Indie Rock, Folk, ...</td>\n",
       "      <td>Warm, organic, authentic, timeless songs curat...</td>\n",
       "      <td>https://pl.scdn.co/images/pl/default/f199c4493...</td>\n",
       "      <td>USAT21901822</td>\n",
       "      <td>Wilder Woods</td>\n",
       "      <td>Sure Ain't</td>\n",
       "      <td>2019 Atlantic Recording Corporation</td>\n",
       "      <td>190960</td>\n",
       "      <td>2019-04-13T10:48:56Z</td>\n",
       "      <td>7.567985e+10</td>\n",
       "    </tr>\n",
       "    <tr>\n",
       "      <th>2</th>\n",
       "      <td>spotify:playlist:6YwIqXS0auLevGXID24D7C</td>\n",
       "      <td>Songpickr: 2019 Best Songs (Indie Rock, Folk, ...</td>\n",
       "      <td>Warm, organic, authentic, timeless songs curat...</td>\n",
       "      <td>https://pl.scdn.co/images/pl/default/f199c4493...</td>\n",
       "      <td>USATO1900004</td>\n",
       "      <td>Dylan LeBlanc</td>\n",
       "      <td>Born Again</td>\n",
       "      <td>2019 ATO Records, under exclusive license to [...</td>\n",
       "      <td>210921</td>\n",
       "      <td>2019-04-24T15:21:42Z</td>\n",
       "      <td>5.400863e+12</td>\n",
       "    </tr>\n",
       "    <tr>\n",
       "      <th>3</th>\n",
       "      <td>spotify:playlist:6YwIqXS0auLevGXID24D7C</td>\n",
       "      <td>Songpickr: 2019 Best Songs (Indie Rock, Folk, ...</td>\n",
       "      <td>Warm, organic, authentic, timeless songs curat...</td>\n",
       "      <td>https://pl.scdn.co/images/pl/default/f199c4493...</td>\n",
       "      <td>USC4R1906800</td>\n",
       "      <td>Tyler Ramsey</td>\n",
       "      <td>Breaking A Heart</td>\n",
       "      <td>© 2019 Fantasy Records, a division of Concord ...</td>\n",
       "      <td>293946</td>\n",
       "      <td>2019-04-13T14:34:04Z</td>\n",
       "      <td>8.880721e+11</td>\n",
       "    </tr>\n",
       "    <tr>\n",
       "      <th>4</th>\n",
       "      <td>spotify:playlist:6YwIqXS0auLevGXID24D7C</td>\n",
       "      <td>Songpickr: 2019 Best Songs (Indie Rock, Folk, ...</td>\n",
       "      <td>Warm, organic, authentic, timeless songs curat...</td>\n",
       "      <td>https://pl.scdn.co/images/pl/default/f199c4493...</td>\n",
       "      <td>USUM71810629</td>\n",
       "      <td>J.S. Ondara</td>\n",
       "      <td>American Dream</td>\n",
       "      <td>© 2018 Verve Label Group, a Division of UMG Re...</td>\n",
       "      <td>240200</td>\n",
       "      <td>2019-04-22T18:58:28Z</td>\n",
       "      <td>6.025679e+11</td>\n",
       "    </tr>\n",
       "  </tbody>\n",
       "</table>\n",
       "</div>"
      ],
      "text/plain": [
       "                               PlaylistUri  \\\n",
       "0  spotify:playlist:6YwIqXS0auLevGXID24D7C   \n",
       "1  spotify:playlist:6YwIqXS0auLevGXID24D7C   \n",
       "2  spotify:playlist:6YwIqXS0auLevGXID24D7C   \n",
       "3  spotify:playlist:6YwIqXS0auLevGXID24D7C   \n",
       "4  spotify:playlist:6YwIqXS0auLevGXID24D7C   \n",
       "\n",
       "                                                Name  \\\n",
       "0  Songpickr: 2019 Best Songs (Indie Rock, Folk, ...   \n",
       "1  Songpickr: 2019 Best Songs (Indie Rock, Folk, ...   \n",
       "2  Songpickr: 2019 Best Songs (Indie Rock, Folk, ...   \n",
       "3  Songpickr: 2019 Best Songs (Indie Rock, Folk, ...   \n",
       "4  Songpickr: 2019 Best Songs (Indie Rock, Folk, ...   \n",
       "\n",
       "                                         Description  \\\n",
       "0  Warm, organic, authentic, timeless songs curat...   \n",
       "1  Warm, organic, authentic, timeless songs curat...   \n",
       "2  Warm, organic, authentic, timeless songs curat...   \n",
       "3  Warm, organic, authentic, timeless songs curat...   \n",
       "4  Warm, organic, authentic, timeless songs curat...   \n",
       "\n",
       "                                               Image          Isrc  \\\n",
       "0  https://pl.scdn.co/images/pl/default/f199c4493...  USATO1900023   \n",
       "1  https://pl.scdn.co/images/pl/default/f199c4493...  USAT21901822   \n",
       "2  https://pl.scdn.co/images/pl/default/f199c4493...  USATO1900004   \n",
       "3  https://pl.scdn.co/images/pl/default/f199c4493...  USC4R1906800   \n",
       "4  https://pl.scdn.co/images/pl/default/f199c4493...  USUM71810629   \n",
       "\n",
       "          Artist         TrackName  \\\n",
       "0    Black Pumas            Colors   \n",
       "1   Wilder Woods        Sure Ain't   \n",
       "2  Dylan LeBlanc        Born Again   \n",
       "3   Tyler Ramsey  Breaking A Heart   \n",
       "4    J.S. Ondara    American Dream   \n",
       "\n",
       "                                               Label  Duration  \\\n",
       "0  2019 ATO Records, under exclusive license to [...    246586   \n",
       "1                2019 Atlantic Recording Corporation    190960   \n",
       "2  2019 ATO Records, under exclusive license to [...    210921   \n",
       "3  © 2019 Fantasy Records, a division of Concord ...    293946   \n",
       "4  © 2018 Verve Label Group, a Division of UMG Re...    240200   \n",
       "\n",
       "                AddedAt           Upc  \n",
       "0  2019-04-17T16:56:26Z  5.400863e+12  \n",
       "1  2019-04-13T10:48:56Z  7.567985e+10  \n",
       "2  2019-04-24T15:21:42Z  5.400863e+12  \n",
       "3  2019-04-13T14:34:04Z  8.880721e+11  \n",
       "4  2019-04-22T18:58:28Z  6.025679e+11  "
      ]
     },
     "execution_count": 8,
     "metadata": {},
     "output_type": "execute_result"
    }
   ],
   "source": [
    "songpickr2019 = pd.read_csv('/Users/daria/Downloads/https___pitched-optimize.umusic.net_exports_holgerchristoph_20190429142336.csv')\n",
    "songpickr2019.head()"
   ]
  },
  {
   "cell_type": "code",
   "execution_count": 11,
   "metadata": {},
   "outputs": [],
   "source": [
    "in_model = songpickr2019[songpickr2019.Isrc.isin(model.isrcs)]"
   ]
  },
  {
   "cell_type": "code",
   "execution_count": 10,
   "metadata": {},
   "outputs": [
    {
     "data": {
      "text/plain": [
       "(100, 11)"
      ]
     },
     "execution_count": 10,
     "metadata": {},
     "output_type": "execute_result"
    }
   ],
   "source": [
    "songpickr2019.shape"
   ]
  },
  {
   "cell_type": "code",
   "execution_count": 12,
   "metadata": {},
   "outputs": [
    {
     "data": {
      "text/plain": [
       "(62, 11)"
      ]
     },
     "execution_count": 12,
     "metadata": {},
     "output_type": "execute_result"
    }
   ],
   "source": [
    "in_model.shape"
   ]
  },
  {
   "cell_type": "code",
   "execution_count": 15,
   "metadata": {},
   "outputs": [
    {
     "data": {
      "text/html": [
       "<div>\n",
       "<style scoped>\n",
       "    .dataframe tbody tr th:only-of-type {\n",
       "        vertical-align: middle;\n",
       "    }\n",
       "\n",
       "    .dataframe tbody tr th {\n",
       "        vertical-align: top;\n",
       "    }\n",
       "\n",
       "    .dataframe thead th {\n",
       "        text-align: right;\n",
       "    }\n",
       "</style>\n",
       "<table border=\"1\" class=\"dataframe\">\n",
       "  <thead>\n",
       "    <tr style=\"text-align: right;\">\n",
       "      <th></th>\n",
       "      <th>playlist_uri</th>\n",
       "      <th>isrc</th>\n",
       "      <th>track_artist</th>\n",
       "      <th>track_title</th>\n",
       "    </tr>\n",
       "  </thead>\n",
       "  <tbody>\n",
       "    <tr>\n",
       "      <th>4</th>\n",
       "      <td>spotify:playlist:6YwIqXS0auLevGXID24D7C</td>\n",
       "      <td>USUM71810629</td>\n",
       "      <td>J.S. Ondara</td>\n",
       "      <td>American Dream</td>\n",
       "    </tr>\n",
       "    <tr>\n",
       "      <th>5</th>\n",
       "      <td>spotify:playlist:6YwIqXS0auLevGXID24D7C</td>\n",
       "      <td>USC4R1802568</td>\n",
       "      <td>Andrew Bird</td>\n",
       "      <td>Sisyphus</td>\n",
       "    </tr>\n",
       "    <tr>\n",
       "      <th>6</th>\n",
       "      <td>spotify:playlist:6YwIqXS0auLevGXID24D7C</td>\n",
       "      <td>USWB11801818</td>\n",
       "      <td>Dee White</td>\n",
       "      <td>Wherever You Go</td>\n",
       "    </tr>\n",
       "    <tr>\n",
       "      <th>7</th>\n",
       "      <td>spotify:playlist:6YwIqXS0auLevGXID24D7C</td>\n",
       "      <td>USAT21811675</td>\n",
       "      <td>Rival Sons</td>\n",
       "      <td>Feral Roots</td>\n",
       "    </tr>\n",
       "    <tr>\n",
       "      <th>8</th>\n",
       "      <td>spotify:playlist:6YwIqXS0auLevGXID24D7C</td>\n",
       "      <td>US27Q1842414</td>\n",
       "      <td>The Nude Party</td>\n",
       "      <td>Chevrolet Van</td>\n",
       "    </tr>\n",
       "  </tbody>\n",
       "</table>\n",
       "</div>"
      ],
      "text/plain": [
       "                              playlist_uri          isrc    track_artist  \\\n",
       "4  spotify:playlist:6YwIqXS0auLevGXID24D7C  USUM71810629     J.S. Ondara   \n",
       "5  spotify:playlist:6YwIqXS0auLevGXID24D7C  USC4R1802568     Andrew Bird   \n",
       "6  spotify:playlist:6YwIqXS0auLevGXID24D7C  USWB11801818       Dee White   \n",
       "7  spotify:playlist:6YwIqXS0auLevGXID24D7C  USAT21811675      Rival Sons   \n",
       "8  spotify:playlist:6YwIqXS0auLevGXID24D7C  US27Q1842414  The Nude Party   \n",
       "\n",
       "       track_title  \n",
       "4   American Dream  \n",
       "5         Sisyphus  \n",
       "6  Wherever You Go  \n",
       "7      Feral Roots  \n",
       "8    Chevrolet Van  "
      ]
     },
     "execution_count": 15,
     "metadata": {},
     "output_type": "execute_result"
    }
   ],
   "source": [
    "in_model = in_model.drop(columns=['Name','Description','Image','Label','Duration','Upc','AddedAt'])\n",
    "\n",
    "col_dict = {\n",
    "    'PlaylistUri':'playlist_uri',\n",
    "    'Isrc':'isrc',\n",
    "    'Artist':'track_artist',\n",
    "    'TrackName':'track_title',\n",
    "    'AddedAt':'date_add'\n",
    "}\n",
    "\n",
    "in_model = in_model.rename(columns=col_dict)\n",
    "in_model.head()"
   ]
  },
  {
   "cell_type": "code",
   "execution_count": 16,
   "metadata": {},
   "outputs": [],
   "source": [
    "in_model['days_on_playlist'] = 30"
   ]
  },
  {
   "cell_type": "code",
   "execution_count": 22,
   "metadata": {},
   "outputs": [],
   "source": [
    "in_model = in_model.reset_index(drop=True)"
   ]
  },
  {
   "cell_type": "code",
   "execution_count": 25,
   "metadata": {},
   "outputs": [
    {
     "ename": "AttributeError",
     "evalue": "module 'scipy.sparse' has no attribute 'linalg'",
     "output_type": "error",
     "traceback": [
      "\u001b[0;31m---------------------------------------------------------------------------\u001b[0m",
      "\u001b[0;31mAttributeError\u001b[0m                            Traceback (most recent call last)",
      "\u001b[0;32m<ipython-input-25-ff80bf8eaa87>\u001b[0m in \u001b[0;36m<module>\u001b[0;34m\u001b[0m\n\u001b[0;32m----> 1\u001b[0;31m \u001b[0msongpickr2019_recs\u001b[0m \u001b[0;34m=\u001b[0m \u001b[0mmodel\u001b[0m\u001b[0;34m.\u001b[0m\u001b[0mrecommend_outofmodel\u001b[0m\u001b[0;34m(\u001b[0m\u001b[0min_model\u001b[0m\u001b[0;34m,\u001b[0m\u001b[0mmodel\u001b[0m\u001b[0;34m.\u001b[0m\u001b[0mplaylists_sparse\u001b[0m\u001b[0;34m,\u001b[0m \u001b[0mN\u001b[0m\u001b[0;34m=\u001b[0m\u001b[0;36m300\u001b[0m\u001b[0;34m)\u001b[0m\u001b[0;34m\u001b[0m\u001b[0;34m\u001b[0m\u001b[0m\n\u001b[0m",
      "\u001b[0;32m~/development/umg/recommender/pitched_recommend.py\u001b[0m in \u001b[0;36mrecommend_outofmodel\u001b[0;34m(self, new_playlist_data, playlist_isrc_matrix, N, include_original_tracks)\u001b[0m\n\u001b[1;32m    210\u001b[0m             \u001b[0myT_Cu\u001b[0m \u001b[0;34m=\u001b[0m \u001b[0mY\u001b[0m\u001b[0;34m.\u001b[0m\u001b[0mT\u001b[0m \u001b[0;34m*\u001b[0m \u001b[0mCu\u001b[0m\u001b[0;34m\u001b[0m\u001b[0;34m\u001b[0m\u001b[0m\n\u001b[1;32m    211\u001b[0m             \u001b[0myT_Cu_pu\u001b[0m \u001b[0;34m=\u001b[0m \u001b[0myT_Cu\u001b[0m\u001b[0;34m.\u001b[0m\u001b[0mdot\u001b[0m\u001b[0;34m(\u001b[0m\u001b[0mp_u\u001b[0m\u001b[0;34m.\u001b[0m\u001b[0mT\u001b[0m\u001b[0;34m)\u001b[0m\u001b[0;34m\u001b[0m\u001b[0;34m\u001b[0m\u001b[0m\n\u001b[0;32m--> 212\u001b[0;31m             \u001b[0mX\u001b[0m\u001b[0;34m[\u001b[0m\u001b[0mu\u001b[0m\u001b[0;34m]\u001b[0m \u001b[0;34m=\u001b[0m \u001b[0msparse\u001b[0m\u001b[0;34m.\u001b[0m\u001b[0mlinalg\u001b[0m\u001b[0;34m.\u001b[0m\u001b[0mspsolve\u001b[0m\u001b[0;34m(\u001b[0m\u001b[0myTy\u001b[0m \u001b[0;34m+\u001b[0m \u001b[0myT_CuI_y\u001b[0m \u001b[0;34m+\u001b[0m \u001b[0mlI\u001b[0m\u001b[0;34m,\u001b[0m \u001b[0myT_Cu_pu\u001b[0m\u001b[0;34m)\u001b[0m\u001b[0;34m\u001b[0m\u001b[0;34m\u001b[0m\u001b[0m\n\u001b[0m\u001b[1;32m    213\u001b[0m \u001b[0;34m\u001b[0m\u001b[0m\n\u001b[1;32m    214\u001b[0m             \u001b[0mlogging\u001b[0m\u001b[0;34m.\u001b[0m\u001b[0minfo\u001b[0m\u001b[0;34m(\u001b[0m\u001b[0;34m\"Computing latent features for the playlist took \"\u001b[0m \u001b[0;34m+\u001b[0m \u001b[0mstr\u001b[0m\u001b[0;34m(\u001b[0m\u001b[0mround\u001b[0m\u001b[0;34m(\u001b[0m\u001b[0mtime\u001b[0m\u001b[0;34m.\u001b[0m\u001b[0mtime\u001b[0m\u001b[0;34m(\u001b[0m\u001b[0;34m)\u001b[0m \u001b[0;34m-\u001b[0m \u001b[0mlatent_feature_start\u001b[0m\u001b[0;34m,\u001b[0m \u001b[0;36m4\u001b[0m\u001b[0;34m)\u001b[0m\u001b[0;34m)\u001b[0m \u001b[0;34m+\u001b[0m \u001b[0;34m\" seconds.\"\u001b[0m\u001b[0;34m)\u001b[0m\u001b[0;34m\u001b[0m\u001b[0;34m\u001b[0m\u001b[0m\n",
      "\u001b[0;31mAttributeError\u001b[0m: module 'scipy.sparse' has no attribute 'linalg'"
     ]
    }
   ],
   "source": [
    "songpickr2019_recs = model.recommend_outofmodel(in_model,model.playlists_sparse, N=300)"
   ]
  },
  {
   "cell_type": "code",
   "execution_count": null,
   "metadata": {},
   "outputs": [],
   "source": [
    "songpickr2019_recs_readable = model.rec_to_isrc(songpickr2019_recs)"
   ]
  },
  {
   "cell_type": "code",
   "execution_count": null,
   "metadata": {},
   "outputs": [],
   "source": [
    "songpickr2019_recs_final = [(x[0],x[1],metadata['track_artist'][x[0]], metadata['track_title'][x[0]], metadata['major_label'][x[0]], metadata['label_studio'][x[0]],\n",
    "               metadata['original_release_date'][x[0]], metadata['genre_name'][x[0]], metadata['parent_genre_name'][x[0]], \n",
    "               x[2]) for x in list(songpickr2019_recs_readable)]\n",
    "\n",
    "all_columns = ['isrc','score','artist','title','major_label','label_studio','original_release_date','genre_name',\n",
    "               'parent_genre_name','seed_playlist_uri']\n",
    "songpickr2019_recs_final_df = pd.DataFrame(songpickr2019_recs_final, columns = all_columns)"
   ]
  },
  {
   "cell_type": "code",
   "execution_count": 13,
   "metadata": {},
   "outputs": [
    {
     "data": {
      "text/plain": [
       "4     USUM71810629\n",
       "5     USC4R1802568\n",
       "6     USWB11801818\n",
       "7     USAT21811675\n",
       "8     US27Q1842414\n",
       "10    USNO11900029\n",
       "11    USJ5G1817107\n",
       "12    USATO1800098\n",
       "14    FR9W11725114\n",
       "15    AULI01818230\n",
       "16    ISV281800406\n",
       "23    USUS11900016\n",
       "24    GBKPL1933588\n",
       "25    GBENL1802331\n",
       "26    USJ5G1919102\n",
       "27    USRO21801478\n",
       "28    USSM11900111\n",
       "29    US27Q1943403\n",
       "30    USSM11900959\n",
       "31    USATO1900025\n",
       "33    USD8D1960002\n",
       "34    USA2B1803987\n",
       "36    SE5VF1801417\n",
       "37    QMEU31725785\n",
       "38    USATO1800084\n",
       "39    USBQU1800134\n",
       "41    CADE71800681\n",
       "43    GBJCP1824102\n",
       "44    USLN61900501\n",
       "45    AULI01820540\n",
       "          ...     \n",
       "49    QM4TW1959702\n",
       "50    QZDBL1800004\n",
       "51    TCADW1827626\n",
       "53    US27Q1845304\n",
       "54    QMHFC1800067\n",
       "56    USE7S1947001\n",
       "57    QMU3Y1700001\n",
       "59    QMB621900112\n",
       "63    USMTD1811825\n",
       "64    GBKPL1812668\n",
       "66    USDMG1890401\n",
       "68    ISV281800403\n",
       "71    QM4MA1800195\n",
       "72    US27Q1844502\n",
       "73    GB5KW1900012\n",
       "74    USJ5G1917705\n",
       "76    NOSEL1902050\n",
       "77    USLN61900503\n",
       "78    USWB11801579\n",
       "79    USEP41821007\n",
       "80    TCAEC1933155\n",
       "81    GBAFL1900035\n",
       "83    QMHFC1800060\n",
       "84    QZES51849152\n",
       "88    NOSEL1803020\n",
       "89    QMKRW1800007\n",
       "92    GBUM71900163\n",
       "93    USAT21811677\n",
       "95    US27Q1945402\n",
       "99    US2U61929402\n",
       "Name: Isrc, Length: 62, dtype: object"
      ]
     },
     "execution_count": 13,
     "metadata": {},
     "output_type": "execute_result"
    }
   ],
   "source": [
    "in_model.Isrc"
   ]
  },
  {
   "cell_type": "code",
   "execution_count": null,
   "metadata": {},
   "outputs": [],
   "source": []
  }
 ],
 "metadata": {
  "kernelspec": {
   "display_name": "Python 3",
   "language": "python",
   "name": "python3"
  },
  "language_info": {
   "codemirror_mode": {
    "name": "ipython",
    "version": 3
   },
   "file_extension": ".py",
   "mimetype": "text/x-python",
   "name": "python",
   "nbconvert_exporter": "python",
   "pygments_lexer": "ipython3",
   "version": "3.7.1"
  }
 },
 "nbformat": 4,
 "nbformat_minor": 2
}
