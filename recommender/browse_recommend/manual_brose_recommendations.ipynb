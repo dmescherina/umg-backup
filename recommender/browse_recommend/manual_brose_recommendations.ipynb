{
 "cells": [
  {
   "cell_type": "code",
   "execution_count": 1,
   "metadata": {},
   "outputs": [],
   "source": [
    "import pandas as pd\n",
    "import numpy as np\n",
    "import sys\n",
    "import pickle"
   ]
  },
  {
   "cell_type": "code",
   "execution_count": 3,
   "metadata": {},
   "outputs": [],
   "source": [
    "from pitched_recommend import Recommender"
   ]
  },
  {
   "cell_type": "code",
   "execution_count": 4,
   "metadata": {},
   "outputs": [
    {
     "data": {
      "text/html": [
       "<div>\n",
       "<style scoped>\n",
       "    .dataframe tbody tr th:only-of-type {\n",
       "        vertical-align: middle;\n",
       "    }\n",
       "\n",
       "    .dataframe tbody tr th {\n",
       "        vertical-align: top;\n",
       "    }\n",
       "\n",
       "    .dataframe thead th {\n",
       "        text-align: right;\n",
       "    }\n",
       "</style>\n",
       "<table border=\"1\" class=\"dataframe\">\n",
       "  <thead>\n",
       "    <tr style=\"text-align: right;\">\n",
       "      <th></th>\n",
       "      <th>index</th>\n",
       "      <th>territory</th>\n",
       "      <th>category_id</th>\n",
       "      <th>Position</th>\n",
       "      <th>playlist_uri</th>\n",
       "      <th>playlist_name_x</th>\n",
       "      <th>listeners</th>\n",
       "      <th>country_owner</th>\n",
       "      <th>count_appearance</th>\n",
       "      <th>mean_listeners_cat_terr</th>\n",
       "      <th>same_as_country</th>\n",
       "      <th>local</th>\n",
       "      <th>popular</th>\n",
       "      <th>score</th>\n",
       "    </tr>\n",
       "  </thead>\n",
       "  <tbody>\n",
       "    <tr>\n",
       "      <th>0</th>\n",
       "      <td>57596</td>\n",
       "      <td>UY</td>\n",
       "      <td>workout</td>\n",
       "      <td>1</td>\n",
       "      <td>spotify:playlist:37i9dQZF1DX9ZKyQHcEFXZ</td>\n",
       "      <td>Para Entrenar</td>\n",
       "      <td>NaN</td>\n",
       "      <td>NaN</td>\n",
       "      <td>17</td>\n",
       "      <td>NaN</td>\n",
       "      <td>0</td>\n",
       "      <td>1</td>\n",
       "      <td>0</td>\n",
       "      <td>1</td>\n",
       "    </tr>\n",
       "    <tr>\n",
       "      <th>1</th>\n",
       "      <td>56668</td>\n",
       "      <td>UY</td>\n",
       "      <td>workout</td>\n",
       "      <td>10</td>\n",
       "      <td>spotify:playlist:37i9dQZF1DX4eRPd9frC1m</td>\n",
       "      <td>Hype</td>\n",
       "      <td>NaN</td>\n",
       "      <td>NaN</td>\n",
       "      <td>58</td>\n",
       "      <td>NaN</td>\n",
       "      <td>0</td>\n",
       "      <td>0</td>\n",
       "      <td>0</td>\n",
       "      <td>0</td>\n",
       "    </tr>\n",
       "    <tr>\n",
       "      <th>2</th>\n",
       "      <td>56727</td>\n",
       "      <td>UY</td>\n",
       "      <td>workout</td>\n",
       "      <td>12</td>\n",
       "      <td>spotify:playlist:37i9dQZF1DWSJHnPb1f0X3</td>\n",
       "      <td>Cardio</td>\n",
       "      <td>NaN</td>\n",
       "      <td>NaN</td>\n",
       "      <td>58</td>\n",
       "      <td>NaN</td>\n",
       "      <td>0</td>\n",
       "      <td>0</td>\n",
       "      <td>0</td>\n",
       "      <td>0</td>\n",
       "    </tr>\n",
       "    <tr>\n",
       "      <th>3</th>\n",
       "      <td>56787</td>\n",
       "      <td>UY</td>\n",
       "      <td>workout</td>\n",
       "      <td>8</td>\n",
       "      <td>spotify:playlist:37i9dQZF1DX70RN3TfWWJh</td>\n",
       "      <td>Workout</td>\n",
       "      <td>NaN</td>\n",
       "      <td>NaN</td>\n",
       "      <td>57</td>\n",
       "      <td>NaN</td>\n",
       "      <td>0</td>\n",
       "      <td>0</td>\n",
       "      <td>0</td>\n",
       "      <td>0</td>\n",
       "    </tr>\n",
       "    <tr>\n",
       "      <th>4</th>\n",
       "      <td>56872</td>\n",
       "      <td>UY</td>\n",
       "      <td>workout</td>\n",
       "      <td>18</td>\n",
       "      <td>spotify:playlist:37i9dQZF1DX35oM5SPECmN</td>\n",
       "      <td>Run Wild</td>\n",
       "      <td>NaN</td>\n",
       "      <td>NaN</td>\n",
       "      <td>58</td>\n",
       "      <td>NaN</td>\n",
       "      <td>0</td>\n",
       "      <td>0</td>\n",
       "      <td>0</td>\n",
       "      <td>0</td>\n",
       "    </tr>\n",
       "  </tbody>\n",
       "</table>\n",
       "</div>"
      ],
      "text/plain": [
       "   index territory category_id  Position  \\\n",
       "0  57596        UY     workout         1   \n",
       "1  56668        UY     workout        10   \n",
       "2  56727        UY     workout        12   \n",
       "3  56787        UY     workout         8   \n",
       "4  56872        UY     workout        18   \n",
       "\n",
       "                              playlist_uri playlist_name_x  listeners  \\\n",
       "0  spotify:playlist:37i9dQZF1DX9ZKyQHcEFXZ   Para Entrenar        NaN   \n",
       "1  spotify:playlist:37i9dQZF1DX4eRPd9frC1m            Hype        NaN   \n",
       "2  spotify:playlist:37i9dQZF1DWSJHnPb1f0X3          Cardio        NaN   \n",
       "3  spotify:playlist:37i9dQZF1DX70RN3TfWWJh         Workout        NaN   \n",
       "4  spotify:playlist:37i9dQZF1DX35oM5SPECmN        Run Wild        NaN   \n",
       "\n",
       "   country_owner  count_appearance  mean_listeners_cat_terr  same_as_country  \\\n",
       "0            NaN                17                      NaN                0   \n",
       "1            NaN                58                      NaN                0   \n",
       "2            NaN                58                      NaN                0   \n",
       "3            NaN                57                      NaN                0   \n",
       "4            NaN                58                      NaN                0   \n",
       "\n",
       "   local  popular  score  \n",
       "0      1        0      1  \n",
       "1      0        0      0  \n",
       "2      0        0      0  \n",
       "3      0        0      0  \n",
       "4      0        0      0  "
      ]
     },
     "execution_count": 4,
     "metadata": {},
     "output_type": "execute_result"
    }
   ],
   "source": [
    "playlists = pd.read_csv('/Users/daria/Downloads/data_browse_playlists.csv')\n",
    "playlists.head()"
   ]
  },
  {
   "cell_type": "code",
   "execution_count": 13,
   "metadata": {},
   "outputs": [
    {
     "ename": "OSError",
     "evalue": "[Errno 22] Invalid argument",
     "output_type": "error",
     "traceback": [
      "\u001b[0;31m---------------------------------------------------------------------------\u001b[0m",
      "\u001b[0;31mOSError\u001b[0m                                   Traceback (most recent call last)",
      "\u001b[0;32m<ipython-input-13-29c5fc751e57>\u001b[0m in \u001b[0;36m<module>\u001b[0;34m\u001b[0m\n\u001b[1;32m      1\u001b[0m \u001b[0;32mwith\u001b[0m \u001b[0mopen\u001b[0m\u001b[0;34m(\u001b[0m\u001b[0;34m'/Users/daria/Downloads/recommender_model_model_latest.pkl'\u001b[0m\u001b[0;34m,\u001b[0m \u001b[0;34m'r+b'\u001b[0m\u001b[0;34m)\u001b[0m \u001b[0;32mas\u001b[0m \u001b[0mpickle_file\u001b[0m\u001b[0;34m:\u001b[0m\u001b[0;34m\u001b[0m\u001b[0;34m\u001b[0m\u001b[0m\n\u001b[0;32m----> 2\u001b[0;31m     \u001b[0mmodel\u001b[0m \u001b[0;34m=\u001b[0m \u001b[0mpickle\u001b[0m\u001b[0;34m.\u001b[0m\u001b[0mload\u001b[0m\u001b[0;34m(\u001b[0m\u001b[0mpickle_file\u001b[0m\u001b[0;34m)\u001b[0m\u001b[0;34m\u001b[0m\u001b[0;34m\u001b[0m\u001b[0m\n\u001b[0m",
      "\u001b[0;31mOSError\u001b[0m: [Errno 22] Invalid argument"
     ]
    }
   ],
   "source": [
    "with open('/Users/daria/Downloads/recommender_model_model_latest.pkl', 'r+b') as pickle_file:\n",
    "    model = pickle.load(pickle_file)"
   ]
  },
  {
   "cell_type": "code",
   "execution_count": 14,
   "metadata": {},
   "outputs": [],
   "source": [
    "class MacOSFile(object):\n",
    "    def __init__(self, f):\n",
    "        self.f = f\n",
    "\n",
    "    def __getattr__(self, item):\n",
    "        return getattr(self.f, item)\n",
    "\n",
    "    def read(self, n):\n",
    "        if n >= (1 << 31):\n",
    "            buffer = bytearray(n)\n",
    "            pos = 0\n",
    "            while pos < n:\n",
    "                size = min(n - pos, 1 << 31 - 1)\n",
    "                chunk = self.f.read(size)\n",
    "                buffer[pos:pos + size] = chunk\n",
    "                pos += size\n",
    "            return buffer\n",
    "        return self.f.read(n)"
   ]
  },
  {
   "cell_type": "code",
   "execution_count": 15,
   "metadata": {},
   "outputs": [],
   "source": [
    "with open(\"/Users/daria/Downloads/recommender_model_model_latest.pkl\", \"rb\") as fin:\n",
    "    model = pickle.load(MacOSFile(fin))"
   ]
  },
  {
   "cell_type": "code",
   "execution_count": 7,
   "metadata": {},
   "outputs": [],
   "source": [
    "with open('/Users/daria/Downloads/metadata_dict.pkl', 'rb') as pickle_file:\n",
    "    metadata = pickle.load(pickle_file)"
   ]
  },
  {
   "cell_type": "code",
   "execution_count": 8,
   "metadata": {},
   "outputs": [],
   "source": [
    "all_territories = list(playlists.territory.unique())"
   ]
  },
  {
   "cell_type": "code",
   "execution_count": 9,
   "metadata": {},
   "outputs": [],
   "source": [
    "rec = []"
   ]
  },
  {
   "cell_type": "code",
   "execution_count": 10,
   "metadata": {},
   "outputs": [],
   "source": [
    "df=playlists.copy()"
   ]
  },
  {
   "cell_type": "code",
   "execution_count": 16,
   "metadata": {},
   "outputs": [],
   "source": [
    "for territory in all_territories:\n",
    "    #print(\"Producing recommendations for \", territory)\n",
    "        terr_cat = list(df[df.territory==territory].category_id.unique())\n",
    "        for category in terr_cat:\n",
    "        #print(\"Producing recommendations for category \", category)\n",
    "            terr_cat_playlists = list(df[(df.territory==territory)&(df.category_id==category)].playlist_uri.unique())\n",
    "            rec.extend(model.rec_multiple_playlists(terr_cat_playlists, model.playlists_sparse, territory=territory,\n",
    "                                          category = category, N=150))\n",
    "\n",
    "recommendations = [(model.isrcs[x[0]],float(x[1]),x[2],x[3],x[4]) for x in rec]\n",
    "recs_final = [(x[0],x[1],metadata['track_artist'][x[0]], metadata['track_title'][x[0]], metadata['major_label'][x[0]], metadata['label_studio'][x[0]],\n",
    "               metadata['original_release_date'][x[0]], metadata['genre_name'][x[0]], metadata['parent_genre_name'][x[0]], \n",
    "               x[2], x[3], x[4]) for x in list(recommendations)]\n",
    "\n",
    "all_columns = ['isrc','score','artist','title','major_label','label_studio','original_release_date','genre_name',\n",
    "               'parent_genre_name','seed_playlist_uri','territory','category']\n",
    "rec_df = pd.DataFrame(recs_final, columns = all_columns)\n",
    "rec_df_umg = rec_df[rec_df.major_label=='UMG']\n",
    "\n",
    "final_columns = ['territory', 'category', 'score', 'isrc', 'seed_playlist_uri', 'artist', 'title', 'original_release_date']\n",
    "rec_df_final = rec_df_umg[final_columns]\n",
    "\n",
    "rec_df_final.to_csv('/Users/daria/Downloads/manual_recommendations_20190408.csv', index=False, sep='\\t')"
   ]
  },
  {
   "cell_type": "code",
   "execution_count": 19,
   "metadata": {},
   "outputs": [],
   "source": [
    "all_columns = ['isrc','score','artist','title','major_label','label_studio','original_release_date','genre_name',\n",
    "               'parent_genre_name','seed_playlist_uri','territory','category']\n",
    "rec_df = pd.DataFrame(recs_final, columns = all_columns)\n",
    "rec_df_umg = rec_df[rec_df.major_label=='UMG']\n",
    "\n",
    "final_columns = ['territory', 'category', 'score', 'isrc', 'seed_playlist_uri', 'artist', 'title', 'original_release_date']\n",
    "rec_df_final = rec_df_umg[final_columns]\n",
    "\n",
    "rec_df_final.to_csv('/Users/daria/Downloads/manual_recommendations_20190408.csv', index=False, sep='\\t')"
   ]
  },
  {
   "cell_type": "code",
   "execution_count": 23,
   "metadata": {},
   "outputs": [
    {
     "data": {
      "text/html": [
       "<div>\n",
       "<style scoped>\n",
       "    .dataframe tbody tr th:only-of-type {\n",
       "        vertical-align: middle;\n",
       "    }\n",
       "\n",
       "    .dataframe tbody tr th {\n",
       "        vertical-align: top;\n",
       "    }\n",
       "\n",
       "    .dataframe thead th {\n",
       "        text-align: right;\n",
       "    }\n",
       "</style>\n",
       "<table border=\"1\" class=\"dataframe\">\n",
       "  <thead>\n",
       "    <tr style=\"text-align: right;\">\n",
       "      <th></th>\n",
       "      <th>territory</th>\n",
       "      <th>category</th>\n",
       "      <th>score</th>\n",
       "      <th>isrc</th>\n",
       "      <th>seed_playlist_uri</th>\n",
       "      <th>artist</th>\n",
       "      <th>title</th>\n",
       "      <th>original_release_date</th>\n",
       "    </tr>\n",
       "  </thead>\n",
       "  <tbody>\n",
       "  </tbody>\n",
       "</table>\n",
       "</div>"
      ],
      "text/plain": [
       "Empty DataFrame\n",
       "Columns: [territory, category, score, isrc, seed_playlist_uri, artist, title, original_release_date]\n",
       "Index: []"
      ]
     },
     "execution_count": 23,
     "metadata": {},
     "output_type": "execute_result"
    }
   ],
   "source": [
    "rec_df_final[rec_df_final.title=='Unknown']"
   ]
  },
  {
   "cell_type": "code",
   "execution_count": 26,
   "metadata": {},
   "outputs": [
    {
     "data": {
      "text/plain": [
       "array(['spotify:playlist:37i9dQZF1DX4vth7idTQch',\n",
       "       'spotify:playlist:37i9dQZF1DX7fE85waV8CI',\n",
       "       'spotify:playlist:37i9dQZF1DWZJhOVGWqUKF',\n",
       "       'spotify:playlist:37i9dQZF1DXbz5uvvU2C9n',\n",
       "       'spotify:playlist:37i9dQZF1DX1X7WV84927n',\n",
       "       'spotify:playlist:37i9dQZF1DWWGFQLoP9qlv',\n",
       "       'spotify:playlist:37i9dQZF1DWT2jS7NwYPVI',\n",
       "       'spotify:playlist:37i9dQZF1DWWJOmJ7nRx0C',\n",
       "       'spotify:playlist:37i9dQZF1DXcF6B6QPhFDv',\n",
       "       'spotify:playlist:37i9dQZF1DX6xOPeSOGone'], dtype=object)"
      ]
     },
     "execution_count": 26,
     "metadata": {},
     "output_type": "execute_result"
    }
   ],
   "source": [
    "playlists[(playlists.territory=='DE')&(playlists.category_id=='rock')].playlist_uri.unique()"
   ]
  },
  {
   "cell_type": "code",
   "execution_count": null,
   "metadata": {},
   "outputs": [],
   "source": []
  }
 ],
 "metadata": {
  "kernelspec": {
   "display_name": "Python 3",
   "language": "python",
   "name": "python3"
  },
  "language_info": {
   "codemirror_mode": {
    "name": "ipython",
    "version": 3
   },
   "file_extension": ".py",
   "mimetype": "text/x-python",
   "name": "python",
   "nbconvert_exporter": "python",
   "pygments_lexer": "ipython3",
   "version": "3.7.1"
  }
 },
 "nbformat": 4,
 "nbformat_minor": 2
}
