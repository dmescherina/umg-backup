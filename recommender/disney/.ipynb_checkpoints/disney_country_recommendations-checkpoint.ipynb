{
 "cells": [
  {
   "cell_type": "code",
   "execution_count": 1,
   "metadata": {},
   "outputs": [],
   "source": [
    "import pandas as pd\n",
    "import pickle\n",
    "\n",
    "import time\n",
    "\n",
    "from pitched_recommend import Recommender\n",
    "\n",
    "from pandas.io import gbq"
   ]
  },
  {
   "cell_type": "code",
   "execution_count": 2,
   "metadata": {},
   "outputs": [],
   "source": [
    "with open('/Users/daria/Downloads/recommender%2Fmodel_20181112.pkl', 'rb') as f:\n",
    "    model = pickle.load(f)"
   ]
  },
  {
   "cell_type": "code",
   "execution_count": 3,
   "metadata": {},
   "outputs": [],
   "source": [
    "data_sql = \"SELECT * FROM `umg-comm-tech-dev.adhoc.disney_country_rankings`\"\n",
    "data = gbq.read_gbq(data_sql, dialect='standard', project_id = 'umg-comm-tech-dev')"
   ]
  },
  {
   "cell_type": "code",
   "execution_count": 4,
   "metadata": {},
   "outputs": [],
   "source": [
    "data_sql2 = \"SELECT * FROM `umg-comm-tech-dev.adhoc.disney_country_rankings2`\"\n",
    "data2 = gbq.read_gbq(data_sql2, dialect='standard', project_id = 'umg-comm-tech-dev')"
   ]
  },
  {
   "cell_type": "code",
   "execution_count": null,
   "metadata": {},
   "outputs": [],
   "source": [
    "data.head()"
   ]
  },
  {
   "cell_type": "code",
   "execution_count": null,
   "metadata": {},
   "outputs": [],
   "source": [
    "data.shape"
   ]
  },
  {
   "cell_type": "code",
   "execution_count": null,
   "metadata": {},
   "outputs": [],
   "source": [
    "data2.head()"
   ]
  },
  {
   "cell_type": "code",
   "execution_count": null,
   "metadata": {},
   "outputs": [],
   "source": [
    "data2.shape"
   ]
  },
  {
   "cell_type": "code",
   "execution_count": 5,
   "metadata": {},
   "outputs": [
    {
     "data": {
      "text/plain": [
       "(1349343, 8)"
      ]
     },
     "execution_count": 5,
     "metadata": {},
     "output_type": "execute_result"
    }
   ],
   "source": [
    "data = pd.concat([data,data2], ignore_index=True)\n",
    "data = data.drop_duplicates()\n",
    "data.shape"
   ]
  },
  {
   "cell_type": "code",
   "execution_count": 6,
   "metadata": {},
   "outputs": [],
   "source": [
    "data['skips_perc'] = data.skips/data.streams\n",
    "data['saves_perc'] = data.saves/data.streams"
   ]
  },
  {
   "cell_type": "code",
   "execution_count": 7,
   "metadata": {},
   "outputs": [],
   "source": [
    "data = data[data.isrc.isin(model.isrcs)]\n",
    "data = data.reset_index()"
   ]
  },
  {
   "cell_type": "code",
   "execution_count": 8,
   "metadata": {},
   "outputs": [
    {
     "data": {
      "text/plain": [
       "(1079683, 11)"
      ]
     },
     "execution_count": 8,
     "metadata": {},
     "output_type": "execute_result"
    }
   ],
   "source": [
    "data.shape"
   ]
  },
  {
   "cell_type": "code",
   "execution_count": 11,
   "metadata": {},
   "outputs": [],
   "source": [
    "latam = ['Argentina','Peru','Venezuela','Chile','Ecuador','Guatemala','Cuba','Haiti','Bolivia','Dominican Republic',\n",
    "         'Honduras','Paraguay','Nicaragua','El Salvador','Costa Rica','Panama','Puerto Rico','Uruguay']\n",
    "aunz = ['Australia','New Zealand']"
   ]
  },
  {
   "cell_type": "code",
   "execution_count": 12,
   "metadata": {},
   "outputs": [],
   "source": [
    "country_dict = {'spotify:user:128899670:playlist:3DcDiKi5jpRm958xYYUmVz':'Spain',\n",
    "                'spotify:user:128899670:playlist:6hdO3Jed2HhOdDyZzWoVoz':'Mexico',\n",
    "                'spotify:user:128899670:playlist:2qfycSO5TM8aA1FjZkDUSAp1':'Italy',\n",
    "                'spotify:user:128899670:playlist:1WtZaYV0dPivolTfP4g5Tw':'Colombia',\n",
    "                'spotify:user:128899670:playlist:7AEKbcsmnFH1a6LvlqUN8w': latam,\n",
    "                'spotify:user:128899670:playlist:3EC7AzNCkupb9czLVQxuZa':'France',\n",
    "                'spotify:user:128899670:playlist:1pqxs2DxVcLDdtWFQ4rp6N':'Brazil',\n",
    "                'spotify:user:128899670:playlist:3rUyzoLplbar7sqYz6dIOZ':'Poland',\n",
    "                'spotify:user:128899670:playlist:6BsFIlrKbCmJIVrJOARAz6':'Sweden',\n",
    "                'spotify:user:128899670:playlist:3PrqjuND5YBvuq1U4gN6Io':'Belgium',\n",
    "                'spotify:user:128899670:playlist:5JSHQs9z2jBfrwThqZe4Ft':'Norway',\n",
    "                'spotify:user:128899670:playlist:5hEuQTqKTH78PODHovFDRb':'Netherlands',\n",
    "                'spotify:user:128899670:playlist:5aYqqh0UAdYdYOtTUGSThv':'Denmark',\n",
    "                'spotify:user:128899670:playlist:6Fd3hTl0Dy6kqVc3a1FC20':'Finland',\n",
    "                'spotify:user:128899670:playlist:7njFsoqxecZmM6929TePcA': aunz,\n",
    "                'spotify:user:128899670:playlist:7x3ki8zlAnNtNcXNPB6jns':'Philippines',\n",
    "                'spotify:user:128899670:playlist:5ipH57xJ5XrWKgLoqUDC7q':'Indonesia',\n",
    "                'spotify:user:128899670:playlist:7Hgc75ZscVfZRKHwizaScC':'Singapore',\n",
    "                'spotify:user:128899670:playlist:4RLWGcrv63pBsCdnHgY2Sg':'Malaysia'}"
   ]
  },
  {
   "cell_type": "code",
   "execution_count": 13,
   "metadata": {},
   "outputs": [],
   "source": [
    "scope = [\n",
    "    'Spain',\n",
    "    'Mexico',\n",
    "    'Italy',\n",
    "    'Colombia',\n",
    "    'France',\n",
    "    'Brazil',\n",
    "    'Poland',\n",
    "    'Sweden',\n",
    "    'Belgium',\n",
    "    'Norway',\n",
    "    'Netherlands',\n",
    "    'Denmark',\n",
    "    'Finland',\n",
    "    'Philippines',\n",
    "    'Indonesia',\n",
    "    'Singapore',\n",
    "    'Malaysia',\n",
    "    'LatAm',\n",
    "    'AuNz'\n",
    "]"
   ]
  },
  {
   "cell_type": "code",
   "execution_count": 17,
   "metadata": {},
   "outputs": [],
   "source": [
    "sort_by_country = data.sort_values(by=['country_name','streams','skips_perc','saves_perc'], \n",
    "                                  ascending=[True,False,True,False])"
   ]
  },
  {
   "cell_type": "code",
   "execution_count": 18,
   "metadata": {},
   "outputs": [],
   "source": [
    "top20_all = sort_by_country.groupby(by='country_name').head(20).reset_index()"
   ]
  },
  {
   "cell_type": "code",
   "execution_count": 20,
   "metadata": {},
   "outputs": [
    {
     "name": "stderr",
     "output_type": "stream",
     "text": [
      "/usr/local/lib/python3.7/site-packages/ipykernel_launcher.py:7: SettingWithCopyWarning: \n",
      "A value is trying to be set on a copy of a slice from a DataFrame\n",
      "\n",
      "See the caveats in the documentation: http://pandas.pydata.org/pandas-docs/stable/indexing.html#indexing-view-versus-copy\n",
      "  import sys\n",
      "/usr/local/lib/python3.7/site-packages/ipykernel_launcher.py:5: SettingWithCopyWarning: \n",
      "A value is trying to be set on a copy of a slice from a DataFrame\n",
      "\n",
      "See the caveats in the documentation: http://pandas.pydata.org/pandas-docs/stable/indexing.html#indexing-view-versus-copy\n",
      "  \"\"\"\n",
      "/usr/local/lib/python3.7/site-packages/ipykernel_launcher.py:9: SettingWithCopyWarning: \n",
      "A value is trying to be set on a copy of a slice from a DataFrame\n",
      "\n",
      "See the caveats in the documentation: http://pandas.pydata.org/pandas-docs/stable/indexing.html#indexing-view-versus-copy\n",
      "  if __name__ == '__main__':\n"
     ]
    },
    {
     "data": {
      "text/plain": [
       "array(['', 'AuNz', 'Philippines', 'Brazil', 'Sweden', 'Indonesia',\n",
       "       'Mexico', 'Norway', 'Netherlands', 'Spain', 'Denmark', 'Singapore',\n",
       "       'Italy', 'France', 'LatAm', 'Malaysia', 'Finland', 'Belgium',\n",
       "       'Poland', 'Colombia'], dtype=object)"
      ]
     },
     "execution_count": 20,
     "metadata": {},
     "output_type": "execute_result"
    }
   ],
   "source": [
    "top20_all['region'] = ''\n",
    "\n",
    "for i in range(top20_all.shape[0]):\n",
    "    if top20_all.country_name[i] in aunz:\n",
    "        top20_all['region'][i]='AuNz'\n",
    "    elif top20_all.country_name[i] in latam:\n",
    "        top20_all['region'][i]='LatAm'\n",
    "    elif top20_all.country_name[i] in scope:\n",
    "        top20_all['region'][i]=top20_all['country_name'][i]\n",
    "        \n",
    "data.region.unique()"
   ]
  },
  {
   "cell_type": "code",
   "execution_count": 21,
   "metadata": {},
   "outputs": [],
   "source": [
    "top_aunz = top20_all[top20_all.country_name.isin(aunz)].sort_values(by=['streams','skips_perc','saves_perc'],\n",
    "                                                        ascending=[False,True,False])\n",
    "\n",
    "top_latam = top20_all[top20_all.country_name.isin(latam)].sort_values(by=['streams','skips_perc','saves_perc'],\n",
    "                                                        ascending=[False,True,False])"
   ]
  },
  {
   "cell_type": "code",
   "execution_count": 22,
   "metadata": {},
   "outputs": [
    {
     "name": "stderr",
     "output_type": "stream",
     "text": [
      "/usr/local/lib/python3.7/site-packages/ipykernel_launcher.py:7: FutureWarning: Sorting because non-concatenation axis is not aligned. A future version\n",
      "of pandas will change to not sort by default.\n",
      "\n",
      "To accept the future behavior, pass 'sort=False'.\n",
      "\n",
      "To retain the current behavior and silence the warning, pass 'sort=True'.\n",
      "\n",
      "  import sys\n"
     ]
    }
   ],
   "source": [
    "top30_aunz = top_aunz.groupby(by='isrc').max().reset_index().head(30)\n",
    "top40_latam = top_latam.groupby(by='isrc').max().reset_index().head(40)\n",
    "\n",
    "top20_all = top20_all[~top20_all.country_name.isin(aunz)]\n",
    "top20_all = top20_all[~top20_all.country_name.isin(latam)]\n",
    "\n",
    "top20_all = pd.concat([top20_all,top30_aunz,top40_latam], ignore_index=True)"
   ]
  },
  {
   "cell_type": "code",
   "execution_count": 35,
   "metadata": {},
   "outputs": [],
   "source": [
    "top20_all['days_on_playlist']=50\n",
    "top20_all['playlist_uri']=top20_all['region']\n",
    "top20_all = top20_all.rename(columns={'artist_name':'track_artist','track_name':'track_title'})"
   ]
  },
  {
   "cell_type": "code",
   "execution_count": 36,
   "metadata": {},
   "outputs": [],
   "source": [
    "top20_scope = top20_all[top20_all.region!='']"
   ]
  },
  {
   "cell_type": "code",
   "execution_count": 37,
   "metadata": {},
   "outputs": [],
   "source": [
    "top20_scope = top20_scope.drop(columns=['index','level_0'])"
   ]
  },
  {
   "cell_type": "code",
   "execution_count": 38,
   "metadata": {},
   "outputs": [
    {
     "data": {
      "text/html": [
       "<div>\n",
       "<style scoped>\n",
       "    .dataframe tbody tr th:only-of-type {\n",
       "        vertical-align: middle;\n",
       "    }\n",
       "\n",
       "    .dataframe tbody tr th {\n",
       "        vertical-align: top;\n",
       "    }\n",
       "\n",
       "    .dataframe thead th {\n",
       "        text-align: right;\n",
       "    }\n",
       "</style>\n",
       "<table border=\"1\" class=\"dataframe\">\n",
       "  <thead>\n",
       "    <tr style=\"text-align: right;\">\n",
       "      <th></th>\n",
       "      <th>track_artist</th>\n",
       "      <th>country_name</th>\n",
       "      <th>isrc</th>\n",
       "      <th>region</th>\n",
       "      <th>saves</th>\n",
       "      <th>saves_perc</th>\n",
       "      <th>skips</th>\n",
       "      <th>skips_perc</th>\n",
       "      <th>streams</th>\n",
       "      <th>track_title</th>\n",
       "      <th>users</th>\n",
       "      <th>days_on_playlist</th>\n",
       "      <th>playlist_uri</th>\n",
       "    </tr>\n",
       "  </thead>\n",
       "  <tbody>\n",
       "    <tr>\n",
       "      <th>360</th>\n",
       "      <td>Alessia Cara</td>\n",
       "      <td>Belgium</td>\n",
       "      <td>USWD11677601</td>\n",
       "      <td>Belgium</td>\n",
       "      <td>329954</td>\n",
       "      <td>0.051268</td>\n",
       "      <td>3512834</td>\n",
       "      <td>0.545821</td>\n",
       "      <td>6435870</td>\n",
       "      <td>How Far I'll Go - Alessia Cara Version</td>\n",
       "      <td>497496</td>\n",
       "      <td>50</td>\n",
       "      <td>Belgium</td>\n",
       "    </tr>\n",
       "    <tr>\n",
       "      <th>361</th>\n",
       "      <td>Elton John</td>\n",
       "      <td>Belgium</td>\n",
       "      <td>GBAMB7100001</td>\n",
       "      <td>Belgium</td>\n",
       "      <td>113693</td>\n",
       "      <td>0.032672</td>\n",
       "      <td>1314009</td>\n",
       "      <td>0.377607</td>\n",
       "      <td>3479834</td>\n",
       "      <td>Tiny Dancer</td>\n",
       "      <td>182491</td>\n",
       "      <td>50</td>\n",
       "      <td>Belgium</td>\n",
       "    </tr>\n",
       "    <tr>\n",
       "      <th>362</th>\n",
       "      <td>Ariana Grande, John Legend</td>\n",
       "      <td>Belgium</td>\n",
       "      <td>USWD11778859</td>\n",
       "      <td>Belgium</td>\n",
       "      <td>156630</td>\n",
       "      <td>0.061907</td>\n",
       "      <td>1971054</td>\n",
       "      <td>0.779044</td>\n",
       "      <td>2530092</td>\n",
       "      <td>Beauty and the Beast</td>\n",
       "      <td>280554</td>\n",
       "      <td>50</td>\n",
       "      <td>Belgium</td>\n",
       "    </tr>\n",
       "    <tr>\n",
       "      <th>363</th>\n",
       "      <td>Idina Menzel</td>\n",
       "      <td>Belgium</td>\n",
       "      <td>USWD11366376</td>\n",
       "      <td>Belgium</td>\n",
       "      <td>124608</td>\n",
       "      <td>0.050231</td>\n",
       "      <td>1461262</td>\n",
       "      <td>0.589048</td>\n",
       "      <td>2480720</td>\n",
       "      <td>Let It Go - From \"Frozen\"/Soundtrack Version</td>\n",
       "      <td>183326</td>\n",
       "      <td>50</td>\n",
       "      <td>Belgium</td>\n",
       "    </tr>\n",
       "    <tr>\n",
       "      <th>364</th>\n",
       "      <td>Demi Lovato</td>\n",
       "      <td>Belgium</td>\n",
       "      <td>USWD11366344</td>\n",
       "      <td>Belgium</td>\n",
       "      <td>154224</td>\n",
       "      <td>0.090072</td>\n",
       "      <td>1330776</td>\n",
       "      <td>0.777217</td>\n",
       "      <td>1712232</td>\n",
       "      <td>Let It Go - From \"Frozen / Single Version</td>\n",
       "      <td>430056</td>\n",
       "      <td>50</td>\n",
       "      <td>Belgium</td>\n",
       "    </tr>\n",
       "  </tbody>\n",
       "</table>\n",
       "</div>"
      ],
      "text/plain": [
       "                   track_artist country_name          isrc   region   saves  \\\n",
       "360                Alessia Cara      Belgium  USWD11677601  Belgium  329954   \n",
       "361                  Elton John      Belgium  GBAMB7100001  Belgium  113693   \n",
       "362  Ariana Grande, John Legend      Belgium  USWD11778859  Belgium  156630   \n",
       "363                Idina Menzel      Belgium  USWD11366376  Belgium  124608   \n",
       "364                 Demi Lovato      Belgium  USWD11366344  Belgium  154224   \n",
       "\n",
       "     saves_perc    skips  skips_perc  streams  \\\n",
       "360    0.051268  3512834    0.545821  6435870   \n",
       "361    0.032672  1314009    0.377607  3479834   \n",
       "362    0.061907  1971054    0.779044  2530092   \n",
       "363    0.050231  1461262    0.589048  2480720   \n",
       "364    0.090072  1330776    0.777217  1712232   \n",
       "\n",
       "                                      track_title   users  days_on_playlist  \\\n",
       "360        How Far I'll Go - Alessia Cara Version  497496                50   \n",
       "361                                   Tiny Dancer  182491                50   \n",
       "362                          Beauty and the Beast  280554                50   \n",
       "363  Let It Go - From \"Frozen\"/Soundtrack Version  183326                50   \n",
       "364     Let It Go - From \"Frozen / Single Version  430056                50   \n",
       "\n",
       "    playlist_uri  \n",
       "360      Belgium  \n",
       "361      Belgium  \n",
       "362      Belgium  \n",
       "363      Belgium  \n",
       "364      Belgium  "
      ]
     },
     "execution_count": 38,
     "metadata": {},
     "output_type": "execute_result"
    }
   ],
   "source": [
    "top20_scope.head()"
   ]
  },
  {
   "cell_type": "code",
   "execution_count": 39,
   "metadata": {},
   "outputs": [],
   "source": [
    "rec_cols = ['isrc','track_artist','track_title','days_on_playlist','playlist_uri', 'country_name']\n",
    "top20_all_recs = top20_scope[rec_cols]"
   ]
  },
  {
   "cell_type": "code",
   "execution_count": null,
   "metadata": {},
   "outputs": [],
   "source": []
  },
  {
   "cell_type": "code",
   "execution_count": null,
   "metadata": {},
   "outputs": [],
   "source": []
  },
  {
   "cell_type": "code",
   "execution_count": null,
   "metadata": {},
   "outputs": [],
   "source": []
  },
  {
   "cell_type": "code",
   "execution_count": null,
   "metadata": {},
   "outputs": [],
   "source": []
  },
  {
   "cell_type": "code",
   "execution_count": null,
   "metadata": {},
   "outputs": [],
   "source": [
    "top20_all[top20_all.playlist_uri=='country_top_Argentina']"
   ]
  },
  {
   "cell_type": "code",
   "execution_count": null,
   "metadata": {},
   "outputs": [],
   "source": [
    "top20_all_recs = top20_all[rec_cols]\n",
    "top20_all_recs.head()"
   ]
  },
  {
   "cell_type": "code",
   "execution_count": null,
   "metadata": {},
   "outputs": [],
   "source": [
    "rec=[]\n",
    "\n",
    "for uri, country in country_dict.items():\n",
    "    if type(country)==list:\n",
    "        slice_recs = top20_all_recs[top20_all_recs.country_name.isin(country)].iloc[:,:-1].reset_index(drop='True')\n",
    "        print(\"Producing recommendations for \", country)\n",
    "        rec.extend(model.recommend_outofmodel(slice_recs, model.playlists_trainset, N=300))\n",
    "    else:\n",
    "        slice_recs = top20_all_recs[top20_all_recs.country_name==country].iloc[:,:-1].reset_index(drop='True')\n",
    "        print(\"Producing recommendations for \", country)\n",
    "        rec.extend(model.recommend_outofmodel(slice_recs, model.playlists_trainset, N=300))"
   ]
  },
  {
   "cell_type": "code",
   "execution_count": null,
   "metadata": {},
   "outputs": [],
   "source": [
    "df_rec = model.rec_readable(rec)\n",
    "df_rec.to_csv('disney_countries_recommendations.csv')"
   ]
  },
  {
   "cell_type": "code",
   "execution_count": null,
   "metadata": {},
   "outputs": [],
   "source": [
    "gbq.to_gbq(dataframe=df_rec, destination_table='disney.recommendations', \n",
    "           project_id='umg-comm-tech-dev', if_exists='replace')"
   ]
  },
  {
   "cell_type": "code",
   "execution_count": null,
   "metadata": {},
   "outputs": [],
   "source": []
  },
  {
   "cell_type": "code",
   "execution_count": null,
   "metadata": {},
   "outputs": [],
   "source": []
  },
  {
   "cell_type": "code",
   "execution_count": null,
   "metadata": {},
   "outputs": [],
   "source": [
    "df_rec = pd.read_csv('disney_countries_recommendations.csv', index_col='Unnamed: 0')"
   ]
  },
  {
   "cell_type": "code",
   "execution_count": null,
   "metadata": {},
   "outputs": [],
   "source": [
    "df_rec.head()"
   ]
  },
  {
   "cell_type": "code",
   "execution_count": null,
   "metadata": {},
   "outputs": [],
   "source": [
    "top20_all_sql = \"SELECT * FROM `umg-comm-tech-dev.adhoc.disney_top20_by_country`\"\n",
    "top20_all = gbq.read_gbq(top20_all_sql, dialect='standard', project_id = 'umg-comm-tech-dev')"
   ]
  },
  {
   "cell_type": "code",
   "execution_count": null,
   "metadata": {},
   "outputs": [],
   "source": [
    "top20_all.head()"
   ]
  },
  {
   "cell_type": "code",
   "execution_count": null,
   "metadata": {},
   "outputs": [],
   "source": [
    "top20_all.shape"
   ]
  },
  {
   "cell_type": "code",
   "execution_count": null,
   "metadata": {},
   "outputs": [],
   "source": [
    "top20_all.to_csv('top20_by_country_final.csv')"
   ]
  },
  {
   "cell_type": "code",
   "execution_count": null,
   "metadata": {},
   "outputs": [],
   "source": [
    "gbq.to_gbq(dataframe=top20_all, destination_table='disney.disney_top_by_country', \n",
    "           project_id='umg-comm-tech-dev', if_exists='replace')"
   ]
  },
  {
   "cell_type": "code",
   "execution_count": null,
   "metadata": {},
   "outputs": [],
   "source": [
    "top20_scope = top20_all[top20_all.region!='']\n",
    "top20_scope.shape"
   ]
  },
  {
   "cell_type": "code",
   "execution_count": null,
   "metadata": {},
   "outputs": [],
   "source": [
    "df_rec.head()"
   ]
  },
  {
   "cell_type": "code",
   "execution_count": null,
   "metadata": {},
   "outputs": [],
   "source": [
    "df_rec.seed_playlist_uri.unique()"
   ]
  },
  {
   "cell_type": "code",
   "execution_count": null,
   "metadata": {},
   "outputs": [],
   "source": [
    "top20_scope.head()"
   ]
  },
  {
   "cell_type": "code",
   "execution_count": null,
   "metadata": {},
   "outputs": [],
   "source": [
    "top20_scope.playlist_uri.unique()"
   ]
  },
  {
   "cell_type": "code",
   "execution_count": null,
   "metadata": {},
   "outputs": [],
   "source": [
    "df = top20_scope.merge(df_rec, how='outer', left_on=['isrc','playlist_uri'], right_on = ['isrc','seed_playlist_uri'])"
   ]
  },
  {
   "cell_type": "code",
   "execution_count": null,
   "metadata": {},
   "outputs": [],
   "source": [
    "df.to_csv('rec_top_merge.csv')"
   ]
  },
  {
   "cell_type": "code",
   "execution_count": null,
   "metadata": {},
   "outputs": [],
   "source": []
  }
 ],
 "metadata": {
  "kernelspec": {
   "display_name": "Python 3",
   "language": "python",
   "name": "python3"
  },
  "language_info": {
   "codemirror_mode": {
    "name": "ipython",
    "version": 3
   },
   "file_extension": ".py",
   "mimetype": "text/x-python",
   "name": "python",
   "nbconvert_exporter": "python",
   "pygments_lexer": "ipython3",
   "version": "3.7.1"
  }
 },
 "nbformat": 4,
 "nbformat_minor": 2
}
