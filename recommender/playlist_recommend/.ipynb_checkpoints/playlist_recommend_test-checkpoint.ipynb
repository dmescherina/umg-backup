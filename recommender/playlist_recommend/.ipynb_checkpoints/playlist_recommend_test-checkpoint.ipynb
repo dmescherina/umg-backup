{
 "cells": [
  {
   "cell_type": "code",
   "execution_count": 1,
   "metadata": {},
   "outputs": [],
   "source": [
    "import numpy as np\n",
    "import pandas as pd\n",
    "\n",
    "import pickle\n",
    "\n",
    "from sklearn.model_selection import train_test_split\n",
    "\n",
    "import pitched_recommend_playlists\n",
    "\n",
    "import scipy.sparse as sparse"
   ]
  },
  {
   "cell_type": "code",
   "execution_count": 2,
   "metadata": {},
   "outputs": [],
   "source": [
    "with open('/Users/meshchd/Downloads/model_playlists_1000it_250f.pkl', 'rb') as f:    \n",
    "    mod_1000it_250f = pickle.load(f)"
   ]
  },
  {
   "cell_type": "markdown",
   "metadata": {},
   "source": [
    "## Testing"
   ]
  },
  {
   "cell_type": "code",
   "execution_count": 3,
   "metadata": {},
   "outputs": [],
   "source": [
    "## The Killers - The Man\n",
    "\n",
    "test_isrc = 'USUM71705733'"
   ]
  },
  {
   "cell_type": "code",
   "execution_count": 5,
   "metadata": {},
   "outputs": [],
   "source": [
    "recs = mod_1000it_250f.recommend(test_isrc, mod_1000it_250f.playlists_sparse, N=1200)"
   ]
  },
  {
   "cell_type": "code",
   "execution_count": 6,
   "metadata": {},
   "outputs": [],
   "source": [
    "recs_readable = mod_1000it_250f.rec_readable(recs)"
   ]
  },
  {
   "cell_type": "code",
   "execution_count": null,
   "metadata": {},
   "outputs": [],
   "source": [
    "pd.DataFrame([(rec.playlists[x[0]],float(x[1]),x[2]) for x in recs])"
   ]
  },
  {
   "cell_type": "code",
   "execution_count": 12,
   "metadata": {},
   "outputs": [],
   "source": [
    "recs_readable['pl_type'] = ['apple' if \"pl.\" in str(x) else \"spotify owned\" if 'spotify' in y else \"spotify user\" for x,y in zip(recs_readable.playlists,recs_readable.owners)]"
   ]
  },
  {
   "cell_type": "code",
   "execution_count": 14,
   "metadata": {},
   "outputs": [
    {
     "data": {
      "text/html": [
       "<div>\n",
       "<style scoped>\n",
       "    .dataframe tbody tr th:only-of-type {\n",
       "        vertical-align: middle;\n",
       "    }\n",
       "\n",
       "    .dataframe tbody tr th {\n",
       "        vertical-align: top;\n",
       "    }\n",
       "\n",
       "    .dataframe thead th {\n",
       "        text-align: right;\n",
       "    }\n",
       "</style>\n",
       "<table border=\"1\" class=\"dataframe\">\n",
       "  <thead>\n",
       "    <tr style=\"text-align: right;\">\n",
       "      <th></th>\n",
       "      <th>scores</th>\n",
       "      <th>playlists</th>\n",
       "      <th>owners</th>\n",
       "      <th>names</th>\n",
       "      <th>seed_isrc</th>\n",
       "      <th>pl_type</th>\n",
       "    </tr>\n",
       "  </thead>\n",
       "  <tbody>\n",
       "    <tr>\n",
       "      <th>0</th>\n",
       "      <td>1.736457</td>\n",
       "      <td>6A3rMCmUoKRMIsjn6oz3xz</td>\n",
       "      <td>robdevries67</td>\n",
       "      <td>RPM/Spinning/Biking Music</td>\n",
       "      <td>USUM71705733</td>\n",
       "      <td>spotify user</td>\n",
       "    </tr>\n",
       "    <tr>\n",
       "      <th>1</th>\n",
       "      <td>1.711987</td>\n",
       "      <td>0f2i8kH0oavRf1HcumJ7kF</td>\n",
       "      <td>thesoundsofspotify</td>\n",
       "      <td>The Sound of Chalga</td>\n",
       "      <td>USUM71705733</td>\n",
       "      <td>spotify owned</td>\n",
       "    </tr>\n",
       "    <tr>\n",
       "      <th>2</th>\n",
       "      <td>1.696874</td>\n",
       "      <td>5s11CP3J4IL2zff8pDC6S4</td>\n",
       "      <td>1252093500</td>\n",
       "      <td>PlanetaOfficial (2019) | Galin &amp; Lidia - Nyama...</td>\n",
       "      <td>USUM71705733</td>\n",
       "      <td>spotify user</td>\n",
       "    </tr>\n",
       "    <tr>\n",
       "      <th>3</th>\n",
       "      <td>1.683989</td>\n",
       "      <td>5XQFtvPCLoQcKkHWrZpcY7</td>\n",
       "      <td>arrocker17</td>\n",
       "      <td>Muse — Knights Of Cydonia</td>\n",
       "      <td>USUM71705733</td>\n",
       "      <td>spotify user</td>\n",
       "    </tr>\n",
       "    <tr>\n",
       "      <th>4</th>\n",
       "      <td>1.653657</td>\n",
       "      <td>7h4LAf4qxzq2VvwpvAyT7Y</td>\n",
       "      <td>dtsonchev</td>\n",
       "      <td>Bulgarian Rap - BG Rap</td>\n",
       "      <td>USUM71705733</td>\n",
       "      <td>spotify user</td>\n",
       "    </tr>\n",
       "    <tr>\n",
       "      <th>5</th>\n",
       "      <td>1.626611</td>\n",
       "      <td>pl.f0730d489e8346b79be1e667340208e8</td>\n",
       "      <td>Apple Music 사운드트랙</td>\n",
       "      <td>熱門電視原聲</td>\n",
       "      <td>USUM71705733</td>\n",
       "      <td>apple</td>\n",
       "    </tr>\n",
       "    <tr>\n",
       "      <th>6</th>\n",
       "      <td>1.573247</td>\n",
       "      <td>17vDd0TB7n2HEdEronuCuu</td>\n",
       "      <td>1180578158</td>\n",
       "      <td>Mario Biondi - Love is a Temple</td>\n",
       "      <td>USUM71705733</td>\n",
       "      <td>spotify user</td>\n",
       "    </tr>\n",
       "    <tr>\n",
       "      <th>7</th>\n",
       "      <td>1.571285</td>\n",
       "      <td>2HIHMKcoWQR0Ipvdnskxw4</td>\n",
       "      <td>popmob</td>\n",
       "      <td>Roadtrip With Friends</td>\n",
       "      <td>USUM71705733</td>\n",
       "      <td>spotify user</td>\n",
       "    </tr>\n",
       "    <tr>\n",
       "      <th>8</th>\n",
       "      <td>1.556869</td>\n",
       "      <td>4qvR0K9BlwTm62QY2EvaWe</td>\n",
       "      <td>12139960588</td>\n",
       "      <td>Grant Cardone</td>\n",
       "      <td>USUM71705733</td>\n",
       "      <td>spotify user</td>\n",
       "    </tr>\n",
       "    <tr>\n",
       "      <th>9</th>\n",
       "      <td>1.548468</td>\n",
       "      <td>5pGNGIupgezkMOePAJFIPg</td>\n",
       "      <td>69w9sdsmjk7yyw2g4x48kei1m</td>\n",
       "      <td>RMX RADIO 2019 ⭐️</td>\n",
       "      <td>USUM71705733</td>\n",
       "      <td>spotify user</td>\n",
       "    </tr>\n",
       "    <tr>\n",
       "      <th>10</th>\n",
       "      <td>1.546181</td>\n",
       "      <td>6CkRFPzd93PlnRgieekun3</td>\n",
       "      <td>estudioporto</td>\n",
       "      <td>Caverna</td>\n",
       "      <td>USUM71705733</td>\n",
       "      <td>spotify user</td>\n",
       "    </tr>\n",
       "    <tr>\n",
       "      <th>11</th>\n",
       "      <td>1.546022</td>\n",
       "      <td>0ztbQ7z2wUTFi5C6DL1gRa</td>\n",
       "      <td>128580592</td>\n",
       "      <td>moonmoon_ow</td>\n",
       "      <td>USUM71705733</td>\n",
       "      <td>spotify user</td>\n",
       "    </tr>\n",
       "    <tr>\n",
       "      <th>12</th>\n",
       "      <td>1.542623</td>\n",
       "      <td>2A7JKhhoELmv7ZZgmRI2XE</td>\n",
       "      <td>excaliburne</td>\n",
       "      <td>Soleil</td>\n",
       "      <td>USUM71705733</td>\n",
       "      <td>spotify user</td>\n",
       "    </tr>\n",
       "    <tr>\n",
       "      <th>13</th>\n",
       "      <td>1.528148</td>\n",
       "      <td>1dOnoWJmZAhe8mRkMQxzut</td>\n",
       "      <td>thesoundsofspotify</td>\n",
       "      <td>The Sound of Beats</td>\n",
       "      <td>USUM71705733</td>\n",
       "      <td>spotify owned</td>\n",
       "    </tr>\n",
       "    <tr>\n",
       "      <th>14</th>\n",
       "      <td>1.524350</td>\n",
       "      <td>5IlnQf5fpRQZcFk9q6HC63</td>\n",
       "      <td>patreeeek</td>\n",
       "      <td>ALLternative Shuffle - The Essential Alternati...</td>\n",
       "      <td>USUM71705733</td>\n",
       "      <td>spotify user</td>\n",
       "    </tr>\n",
       "    <tr>\n",
       "      <th>15</th>\n",
       "      <td>1.516504</td>\n",
       "      <td>3onzfjmpceSPEOlpZ7hEcf</td>\n",
       "      <td>victorcutting</td>\n",
       "      <td>Hockey games</td>\n",
       "      <td>USUM71705733</td>\n",
       "      <td>spotify user</td>\n",
       "    </tr>\n",
       "    <tr>\n",
       "      <th>16</th>\n",
       "      <td>1.511248</td>\n",
       "      <td>4wjymc7TUs4wvupvBP3DPb</td>\n",
       "      <td>12163766105</td>\n",
       "      <td>Final Space</td>\n",
       "      <td>USUM71705733</td>\n",
       "      <td>spotify user</td>\n",
       "    </tr>\n",
       "    <tr>\n",
       "      <th>17</th>\n",
       "      <td>1.500355</td>\n",
       "      <td>62Gk1RwN9Qr3PAEjMx4Dhj</td>\n",
       "      <td>hotelchapelle</td>\n",
       "      <td>Playlist Jazz SOUL BLUES</td>\n",
       "      <td>USUM71705733</td>\n",
       "      <td>spotify user</td>\n",
       "    </tr>\n",
       "    <tr>\n",
       "      <th>18</th>\n",
       "      <td>1.498707</td>\n",
       "      <td>pl.047294ae14a24e5993d1f7ab2b127188</td>\n",
       "      <td>Apple Music Pop</td>\n",
       "      <td>퓨어 모티베이션</td>\n",
       "      <td>USUM71705733</td>\n",
       "      <td>apple</td>\n",
       "    </tr>\n",
       "    <tr>\n",
       "      <th>19</th>\n",
       "      <td>1.489447</td>\n",
       "      <td>3iUr4M3jGxvbYp9wywEFdw</td>\n",
       "      <td>alizeegamberini</td>\n",
       "      <td>Alizee dit silence</td>\n",
       "      <td>USUM71705733</td>\n",
       "      <td>spotify user</td>\n",
       "    </tr>\n",
       "  </tbody>\n",
       "</table>\n",
       "</div>"
      ],
      "text/plain": [
       "      scores                            playlists                     owners  \\\n",
       "0   1.736457               6A3rMCmUoKRMIsjn6oz3xz               robdevries67   \n",
       "1   1.711987               0f2i8kH0oavRf1HcumJ7kF         thesoundsofspotify   \n",
       "2   1.696874               5s11CP3J4IL2zff8pDC6S4                 1252093500   \n",
       "3   1.683989               5XQFtvPCLoQcKkHWrZpcY7                 arrocker17   \n",
       "4   1.653657               7h4LAf4qxzq2VvwpvAyT7Y                  dtsonchev   \n",
       "5   1.626611  pl.f0730d489e8346b79be1e667340208e8          Apple Music 사운드트랙   \n",
       "6   1.573247               17vDd0TB7n2HEdEronuCuu                 1180578158   \n",
       "7   1.571285               2HIHMKcoWQR0Ipvdnskxw4                     popmob   \n",
       "8   1.556869               4qvR0K9BlwTm62QY2EvaWe                12139960588   \n",
       "9   1.548468               5pGNGIupgezkMOePAJFIPg  69w9sdsmjk7yyw2g4x48kei1m   \n",
       "10  1.546181               6CkRFPzd93PlnRgieekun3               estudioporto   \n",
       "11  1.546022               0ztbQ7z2wUTFi5C6DL1gRa                  128580592   \n",
       "12  1.542623               2A7JKhhoELmv7ZZgmRI2XE                excaliburne   \n",
       "13  1.528148               1dOnoWJmZAhe8mRkMQxzut         thesoundsofspotify   \n",
       "14  1.524350               5IlnQf5fpRQZcFk9q6HC63                  patreeeek   \n",
       "15  1.516504               3onzfjmpceSPEOlpZ7hEcf              victorcutting   \n",
       "16  1.511248               4wjymc7TUs4wvupvBP3DPb                12163766105   \n",
       "17  1.500355               62Gk1RwN9Qr3PAEjMx4Dhj              hotelchapelle   \n",
       "18  1.498707  pl.047294ae14a24e5993d1f7ab2b127188            Apple Music Pop   \n",
       "19  1.489447               3iUr4M3jGxvbYp9wywEFdw            alizeegamberini   \n",
       "\n",
       "                                                names     seed_isrc  \\\n",
       "0                           RPM/Spinning/Biking Music  USUM71705733   \n",
       "1                                 The Sound of Chalga  USUM71705733   \n",
       "2   PlanetaOfficial (2019) | Galin & Lidia - Nyama...  USUM71705733   \n",
       "3                           Muse — Knights Of Cydonia  USUM71705733   \n",
       "4                              Bulgarian Rap - BG Rap  USUM71705733   \n",
       "5                                              熱門電視原聲  USUM71705733   \n",
       "6                     Mario Biondi - Love is a Temple  USUM71705733   \n",
       "7                               Roadtrip With Friends  USUM71705733   \n",
       "8                                       Grant Cardone  USUM71705733   \n",
       "9                                   RMX RADIO 2019 ⭐️  USUM71705733   \n",
       "10                                            Caverna  USUM71705733   \n",
       "11                                        moonmoon_ow  USUM71705733   \n",
       "12                                             Soleil  USUM71705733   \n",
       "13                                 The Sound of Beats  USUM71705733   \n",
       "14  ALLternative Shuffle - The Essential Alternati...  USUM71705733   \n",
       "15                                       Hockey games  USUM71705733   \n",
       "16                                        Final Space  USUM71705733   \n",
       "17                           Playlist Jazz SOUL BLUES  USUM71705733   \n",
       "18                                           퓨어 모티베이션  USUM71705733   \n",
       "19                                 Alizee dit silence  USUM71705733   \n",
       "\n",
       "          pl_type  \n",
       "0    spotify user  \n",
       "1   spotify owned  \n",
       "2    spotify user  \n",
       "3    spotify user  \n",
       "4    spotify user  \n",
       "5           apple  \n",
       "6    spotify user  \n",
       "7    spotify user  \n",
       "8    spotify user  \n",
       "9    spotify user  \n",
       "10   spotify user  \n",
       "11   spotify user  \n",
       "12   spotify user  \n",
       "13  spotify owned  \n",
       "14   spotify user  \n",
       "15   spotify user  \n",
       "16   spotify user  \n",
       "17   spotify user  \n",
       "18          apple  \n",
       "19   spotify user  "
      ]
     },
     "execution_count": 14,
     "metadata": {},
     "output_type": "execute_result"
    }
   ],
   "source": [
    "recs_readable.head(20)"
   ]
  },
  {
   "cell_type": "raw",
   "metadata": {},
   "source": []
  },
  {
   "cell_type": "code",
   "execution_count": null,
   "metadata": {},
   "outputs": [],
   "source": []
  },
  {
   "cell_type": "code",
   "execution_count": null,
   "metadata": {},
   "outputs": [],
   "source": []
  },
  {
   "cell_type": "code",
   "execution_count": null,
   "metadata": {},
   "outputs": [],
   "source": []
  },
  {
   "cell_type": "code",
   "execution_count": null,
   "metadata": {},
   "outputs": [],
   "source": []
  },
  {
   "cell_type": "code",
   "execution_count": null,
   "metadata": {},
   "outputs": [],
   "source": []
  },
  {
   "cell_type": "code",
   "execution_count": null,
   "metadata": {},
   "outputs": [],
   "source": []
  },
  {
   "cell_type": "code",
   "execution_count": null,
   "metadata": {},
   "outputs": [],
   "source": [
    "## Maroon 5 - Cold\n",
    "\n",
    "test_isrc2 = 'USUM71616357'"
   ]
  },
  {
   "cell_type": "code",
   "execution_count": null,
   "metadata": {},
   "outputs": [],
   "source": [
    "recs2 = rec.recommend(test_isrc2, rec.playlists_sparse, N=30)\n",
    "recs_readable2 = rec.rec_readable(recs2)"
   ]
  },
  {
   "cell_type": "code",
   "execution_count": null,
   "metadata": {},
   "outputs": [],
   "source": [
    "recs_readable2"
   ]
  },
  {
   "cell_type": "markdown",
   "metadata": {},
   "source": [
    "## Automating the feedback"
   ]
  },
  {
   "cell_type": "code",
   "execution_count": null,
   "metadata": {},
   "outputs": [],
   "source": [
    "model_data_spotify = pd.read_csv('/Users/meshchd/Downloads/model_data.csv', delimiter='\\t', header=None, \n",
    "                                 names=['playlist_uri','isrc','days_on_playlist',\n",
    "                                                'playlist_owner','playlist_name',\n",
    "                                               'playlist_description'])\n",
    "\n",
    "model_data_apple = pd.read_csv('/Users/meshchd/Downloads/playlist_model_data_model_data_apple_000000000000.csv',\n",
    "                               header=None, names=['playlist_uri','isrc','days_on_playlist',\n",
    "                                                'playlist_owner','playlist_name',\n",
    "                                               'playlist_description'])\n",
    "\n",
    "model_data = pd.concat([model_data_spotify,model_data_apple], ignore_index=True)"
   ]
  },
  {
   "cell_type": "code",
   "execution_count": null,
   "metadata": {},
   "outputs": [],
   "source": [
    "model_data.shape"
   ]
  },
  {
   "cell_type": "code",
   "execution_count": null,
   "metadata": {},
   "outputs": [],
   "source": [
    "unique_isrcs = list(model_data.isrc.unique())"
   ]
  },
  {
   "cell_type": "code",
   "execution_count": null,
   "metadata": {},
   "outputs": [],
   "source": [
    "weird_isrcs = [x if (len(str(x))!=12)|('-' in str(x)) else '' for x in unique_isrcs]"
   ]
  },
  {
   "cell_type": "code",
   "execution_count": null,
   "metadata": {},
   "outputs": [],
   "source": [
    "weird_list = list(set(weird_isrcs))"
   ]
  },
  {
   "cell_type": "code",
   "execution_count": null,
   "metadata": {},
   "outputs": [],
   "source": [
    "len(weird_list)"
   ]
  },
  {
   "cell_type": "code",
   "execution_count": null,
   "metadata": {},
   "outputs": [],
   "source": [
    "weird_list"
   ]
  },
  {
   "cell_type": "code",
   "execution_count": null,
   "metadata": {},
   "outputs": [],
   "source": [
    "print(len(unique_isrcs))"
   ]
  },
  {
   "cell_type": "code",
   "execution_count": null,
   "metadata": {},
   "outputs": [],
   "source": [
    "translation_table = dict.fromkeys(map(ord, '!@#$-?'), None)\n",
    "'NL-RA8-17-00001'.translate(translation_table)"
   ]
  },
  {
   "cell_type": "code",
   "execution_count": null,
   "metadata": {},
   "outputs": [],
   "source": [
    "translation_table = dict.fromkeys(map(ord, '!@#$-?'), None)\n",
    "\n",
    "unique_isrcs_clean = [(str(x).upper()).translate(translation_table) for x in unique_isrcs]"
   ]
  },
  {
   "cell_type": "code",
   "execution_count": null,
   "metadata": {},
   "outputs": [],
   "source": [
    "print(len(unique_isrcs_clean))"
   ]
  },
  {
   "cell_type": "code",
   "execution_count": null,
   "metadata": {},
   "outputs": [],
   "source": []
  },
  {
   "cell_type": "code",
   "execution_count": null,
   "metadata": {},
   "outputs": [],
   "source": [
    "model_data_clean = model_data[model_data.isrc.isin(weird_list)==False]\n",
    "print(model_data.shape)\n",
    "print(model_data_clean.shape)"
   ]
  },
  {
   "cell_type": "code",
   "execution_count": null,
   "metadata": {},
   "outputs": [],
   "source": [
    "model_data_clean.to_csv('/Users/meshchd/Downloads/clean_model_data_playlists.csv', sep='\\t', index=False, header=None)"
   ]
  },
  {
   "cell_type": "code",
   "execution_count": null,
   "metadata": {},
   "outputs": [],
   "source": []
  },
  {
   "cell_type": "code",
   "execution_count": null,
   "metadata": {},
   "outputs": [],
   "source": [
    "rec_config_1000it_250f = {  \n",
    "    'pct_test': 0.1,\n",
    "    'alpha': 100,\n",
    "    'factors': 250,\n",
    "    'regularization': 0.1,\n",
    "    'iterations': 1000,\n",
    "    'rseed': 4393971,\n",
    "    'save_basedir' : '../saved_models/iter1000_alpha100_factors250_reg01_rseed0_pctTest01'\n",
    "                   }\n",
    "\n",
    "rec = pitched_recommend_playlists.Recommender(rec_config_1000it_250f)"
   ]
  },
  {
   "cell_type": "code",
   "execution_count": null,
   "metadata": {},
   "outputs": [],
   "source": [
    "rec.build_recommender('/Users/meshchd/Downloads/clean_model_data_playlists.csv')"
   ]
  },
  {
   "cell_type": "code",
   "execution_count": null,
   "metadata": {},
   "outputs": [],
   "source": [
    "class MacOSFile(object):\n",
    "\n",
    "    def __init__(self, f):\n",
    "        self.f = f\n",
    "\n",
    "    def __getattr__(self, item):\n",
    "        return getattr(self.f, item)\n",
    "\n",
    "    def read(self, n):\n",
    "        # print(\"reading total_bytes=%s\" % n, flush=True)\n",
    "        if n >= (1 << 31):\n",
    "            buffer = bytearray(n)\n",
    "            idx = 0\n",
    "            while idx < n:\n",
    "                batch_size = min(n - idx, 1 << 31 - 1)\n",
    "                # print(\"reading bytes [%s,%s)...\" % (idx, idx + batch_size), end=\"\", flush=True)\n",
    "                buffer[idx:idx + batch_size] = self.f.read(batch_size)\n",
    "                # print(\"done.\", flush=True)\n",
    "                idx += batch_size\n",
    "            return buffer\n",
    "        return self.f.read(n)\n",
    "\n",
    "    def write(self, buffer):\n",
    "        n = len(buffer)\n",
    "        print(\"writing total_bytes=%s...\" % n, flush=True)\n",
    "        idx = 0\n",
    "        while idx < n:\n",
    "            batch_size = min(n - idx, 1 << 31 - 1)\n",
    "            print(\"writing bytes [%s, %s)... \" % (idx, idx + batch_size), end=\"\", flush=True)\n",
    "            self.f.write(buffer[idx:idx + batch_size])\n",
    "            print(\"done.\", flush=True)\n",
    "            idx += batch_size\n",
    "\n",
    "\n",
    "def pickle_dump(obj, file_path):\n",
    "    with open(file_path, \"wb\") as f:\n",
    "        return pickle.dump(obj, MacOSFile(f), protocol=pickle.HIGHEST_PROTOCOL)\n",
    "\n",
    "\n",
    "def pickle_load(file_path):\n",
    "    with open(file_path, \"rb\") as f:\n",
    "        return pickle.load(MacOSFile(f))\n"
   ]
  },
  {
   "cell_type": "code",
   "execution_count": null,
   "metadata": {},
   "outputs": [],
   "source": [
    "pickle_dump(rec, '/Users/meshchd/Downloads/model_playlists_1000it_250f.pkl')"
   ]
  },
  {
   "cell_type": "code",
   "execution_count": null,
   "metadata": {},
   "outputs": [],
   "source": []
  },
  {
   "cell_type": "code",
   "execution_count": null,
   "metadata": {},
   "outputs": [],
   "source": []
  },
  {
   "cell_type": "code",
   "execution_count": null,
   "metadata": {},
   "outputs": [],
   "source": [
    "model_data_clean = pd.read_csv('/Users/meshchd/Downloads/clean_model_data_playlists.csv', \n",
    "                               sep='\\t', header=None, names=['playlist_uri','isrc','days_on_playlist',\n",
    "                                                'playlist_owner','playlist_name','playlist_description'])\n",
    "model_data_clean.head()"
   ]
  },
  {
   "cell_type": "code",
   "execution_count": null,
   "metadata": {},
   "outputs": [],
   "source": [
    "new_unique_isrcs = list(model_data_clean.isrc.unique())"
   ]
  },
  {
   "cell_type": "code",
   "execution_count": null,
   "metadata": {},
   "outputs": [],
   "source": [
    "print(len(new_unique_isrcs))"
   ]
  },
  {
   "cell_type": "code",
   "execution_count": null,
   "metadata": {},
   "outputs": [],
   "source": [
    "#np.random.seed(40)\n",
    "#test_isrcs = np.random.choice(new_unique_isrcs, size=1000, replace=False)"
   ]
  },
  {
   "cell_type": "code",
   "execution_count": null,
   "metadata": {},
   "outputs": [],
   "source": [
    "#test_isrcs"
   ]
  },
  {
   "cell_type": "code",
   "execution_count": null,
   "metadata": {},
   "outputs": [],
   "source": [
    "X=model_data_clean.copy()"
   ]
  },
  {
   "cell_type": "code",
   "execution_count": null,
   "metadata": {},
   "outputs": [],
   "source": [
    "#X_train = X[X.isrc.isin(test_isrcs)==False]\n",
    "#X_test = X[X.isrc.isin(test_isrcs)]\n",
    "\n",
    "X_train, X_test = train_test_split(X, test_size=0.025, random_state=40)\n",
    "\n",
    "print(X_train.shape)\n",
    "print(X_test.shape)"
   ]
  },
  {
   "cell_type": "code",
   "execution_count": null,
   "metadata": {},
   "outputs": [],
   "source": [
    "X_test.head()"
   ]
  },
  {
   "cell_type": "code",
   "execution_count": null,
   "metadata": {},
   "outputs": [],
   "source": [
    "X_train.to_csv('/Users/meshchd/Downloads/clean_model_data_playlists_train.csv', sep='\\t', index=False, header=None)"
   ]
  },
  {
   "cell_type": "code",
   "execution_count": null,
   "metadata": {},
   "outputs": [],
   "source": [
    "rec_config_1000it_250f = {  \n",
    "    'pct_test': 0.1,\n",
    "    'alpha': 100,\n",
    "    'factors': 250,\n",
    "    'regularization': 0.1,\n",
    "    'iterations': 1000,\n",
    "    'rseed': 4393971,\n",
    "    'save_basedir' : '../saved_models/iter1000_alpha100_factors250_reg01_rseed0_pctTest01'\n",
    "                   }\n",
    "\n",
    "rec2 = pitched_recommend_playlists.Recommender(rec_config_1000it_250f)"
   ]
  },
  {
   "cell_type": "code",
   "execution_count": null,
   "metadata": {},
   "outputs": [],
   "source": [
    "rec2.build_recommender('/Users/meshchd/Downloads/clean_model_data_playlists_train.csv')"
   ]
  },
  {
   "cell_type": "code",
   "execution_count": null,
   "metadata": {},
   "outputs": [],
   "source": [
    "pickle_dump(rec2, '/Users/meshchd/Downloads/model_playlists_1000it_250f_traindataonly.pkl')"
   ]
  },
  {
   "cell_type": "code",
   "execution_count": null,
   "metadata": {},
   "outputs": [],
   "source": []
  },
  {
   "cell_type": "code",
   "execution_count": null,
   "metadata": {},
   "outputs": [],
   "source": []
  },
  {
   "cell_type": "code",
   "execution_count": null,
   "metadata": {},
   "outputs": [],
   "source": []
  },
  {
   "cell_type": "code",
   "execution_count": null,
   "metadata": {},
   "outputs": [],
   "source": []
  },
  {
   "cell_type": "code",
   "execution_count": null,
   "metadata": {},
   "outputs": [],
   "source": []
  },
  {
   "cell_type": "code",
   "execution_count": null,
   "metadata": {},
   "outputs": [],
   "source": []
  },
  {
   "cell_type": "code",
   "execution_count": null,
   "metadata": {},
   "outputs": [],
   "source": [
    "playlists_actual = X_test[X_test.isrc=='USRC11301790'].playlist_uri.unique()"
   ]
  },
  {
   "cell_type": "code",
   "execution_count": null,
   "metadata": {},
   "outputs": [],
   "source": [
    "len(playlists_actual)"
   ]
  },
  {
   "cell_type": "code",
   "execution_count": null,
   "metadata": {},
   "outputs": [],
   "source": [
    "playlists_predicted = playlists_actual[:10]"
   ]
  },
  {
   "cell_type": "code",
   "execution_count": null,
   "metadata": {},
   "outputs": [],
   "source": [
    "[x if x in playlists_actual else '' for x in playlists_predicted]"
   ]
  },
  {
   "cell_type": "code",
   "execution_count": null,
   "metadata": {},
   "outputs": [],
   "source": [
    "df_cv = pd.DataFrame(columns=['isrc','len_int','perc_pred'])\n",
    "df_cv['isrc'] = test_isrcs\n",
    "\n",
    "len_int = []\n",
    "perc_pred = []\n",
    "\n",
    "for isrc in test_isrcs:\n",
    "    print(\"Doing analysis for \", isrc)\n",
    "    playlists_actual = list(X_test[X_test.isrc==isrc].playlist_uri.unique())\n",
    "    \n",
    "    recs = rec2.recommend(isrc, rec2.playlists_sparse, N=150)\n",
    "    recs_readable = pd.DataFrame([(rec2.playlists[x[0]],float(x[1]),x[2]) for x in recs],\n",
    "                                columns=['playlist_id','score','isrc'])\n",
    "    \n",
    "   \n",
    "    playlists_predicted = list(recs_readable.playlist_id.unique())\n",
    "    \n",
    "    intersection = [x if x in playlists_actual else '' for x in playlists_predicted]\n",
    "    \n",
    "    perc_predicted=len(intersection)/max(len(playlists_actual),150)\n",
    "    \n",
    "    len_int.append(len(intersection))\n",
    "    perc_pred.append(perc_predicted)\n",
    "    \n",
    "df_cv['len_int'] = len_int\n",
    "df_cv['perc_pred'] = perc_pred"
   ]
  },
  {
   "cell_type": "code",
   "execution_count": null,
   "metadata": {},
   "outputs": [],
   "source": [
    "df_cv.head()"
   ]
  },
  {
   "cell_type": "code",
   "execution_count": null,
   "metadata": {},
   "outputs": [],
   "source": [
    "df_cv.describe(include='all')"
   ]
  },
  {
   "cell_type": "code",
   "execution_count": null,
   "metadata": {},
   "outputs": [],
   "source": []
  }
 ],
 "metadata": {
  "kernelspec": {
   "display_name": "Python 3",
   "language": "python",
   "name": "python3"
  },
  "language_info": {
   "codemirror_mode": {
    "name": "ipython",
    "version": 3
   },
   "file_extension": ".py",
   "mimetype": "text/x-python",
   "name": "python",
   "nbconvert_exporter": "python",
   "pygments_lexer": "ipython3",
   "version": "3.7.3"
  }
 },
 "nbformat": 4,
 "nbformat_minor": 2
}
